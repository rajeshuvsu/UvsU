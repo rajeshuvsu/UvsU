{
 "cells": [
  {
   "cell_type": "code",
   "execution_count": 1,
   "id": "76aa9c35",
   "metadata": {},
   "outputs": [
    {
     "name": "stdout",
     "output_type": "stream",
     "text": [
      "Enter the Number1 : 78\n",
      "Enter the Number2 : 12\n",
      "Addition: 90\n",
      "Sustration: 66\n",
      "Division: 6.5\n",
      "Multiplication: 936\n",
      "Modulo: 6\n"
     ]
    }
   ],
   "source": [
    "#Calculator Funtion\n",
    "\n",
    "def myAdd(a,b):\n",
    "    print('Addition:',a + b)\n",
    "    \n",
    "def mySub(a,b):\n",
    "    print('Sustration:',a - b)\n",
    "    \n",
    "def myDiv(a,b):\n",
    "    print('Division:',a / b)\n",
    "    \n",
    "def myMul(a,b):\n",
    "    print('Multiplication:',a * b)\n",
    "    \n",
    "def myMod(a,b):\n",
    "    print('Modulo:',a % b)\n",
    "    \n",
    "i = int(input('Enter the Number1 : '))\n",
    "j = int(input('Enter the Number2 : '))\n",
    "\n",
    "myAdd(i,j)\n",
    "mySub(i,j)\n",
    "myDiv(i,j)\n",
    "myMul(i,j)\n",
    "myMod(i,j)"
   ]
  },
  {
   "cell_type": "code",
   "execution_count": null,
   "id": "d6378a0f",
   "metadata": {},
   "outputs": [],
   "source": []
  }
 ],
 "metadata": {
  "kernelspec": {
   "display_name": "Python 3 (ipykernel)",
   "language": "python",
   "name": "python3"
  },
  "language_info": {
   "codemirror_mode": {
    "name": "ipython",
    "version": 3
   },
   "file_extension": ".py",
   "mimetype": "text/x-python",
   "name": "python",
   "nbconvert_exporter": "python",
   "pygments_lexer": "ipython3",
   "version": "3.11.0"
  }
 },
 "nbformat": 4,
 "nbformat_minor": 5
}
