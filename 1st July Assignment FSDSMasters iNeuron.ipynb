{
 "cells": [
  {
   "cell_type": "markdown",
   "id": "7526b55f",
   "metadata": {},
   "source": [
    "# 1. What is the primary goal of Object-Oriented Programming (OOP)?"
   ]
  },
  {
   "cell_type": "code",
   "execution_count": null,
   "id": "e1938476",
   "metadata": {},
   "outputs": [],
   "source": [
    "\"\"\"\n",
    "The primary goal of Object-Oriented Programming (OOP) is to structure a program into a simple, reusable piece of code. \n",
    "\n",
    "                                                OR\n",
    "                                                \n",
    "It is to model real-world entities and their interactions in a program.OOP enables the organization of code into objects, \n",
    "which are instances of classes. These objects encapsulate data (attributes) and behavior (methods) related to a specific \n",
    "entity. The key principles of OOP include encapsulation, inheritance, polymorphism, and abstraction.\n",
    "\n",
    "The three goals of OOP are: \n",
    "\n",
    "Robustness: Complex programs should operate correctly.\n",
    "Adaptability: Software can run on different generations and grow over a long lifetime.\n",
    "Reusability: Code can be reused by child classes using the properties of the base class.\n",
    "\n",
    "Other goals of OOP include: \n",
    "\n",
    "Holding entire data into a single object\n",
    "Multiprocessing\n",
    "Binding of data to avoid data loss\n",
    "Flexibility through inheritance and polymorphism\n",
    "Making it easier for the user to define their requirements\n",
    "OOP is based on classes and objects. Classes and objects can share properties and methods through inheritance. \n",
    "\n",
    "\"\"\""
   ]
  },
  {
   "cell_type": "markdown",
   "id": "81a5dd49",
   "metadata": {},
   "source": [
    "# 2.What is an object in Python?"
   ]
  },
  {
   "cell_type": "code",
   "execution_count": null,
   "id": "001af019",
   "metadata": {},
   "outputs": [],
   "source": [
    "\"\"\"\n",
    "In Python, an object is an instance of a class. It is a concrete representation of the class, created from the class \n",
    "blueprint. Each object has its own set of attributes and can perform actions using its methods. Objects allow us to work \n",
    "with specific instances of data and behavior defined by the class.\n",
    "\n",
    "\"\"\""
   ]
  },
  {
   "cell_type": "markdown",
   "id": "761921de",
   "metadata": {},
   "source": [
    "# 3.What is a class in Python?"
   ]
  },
  {
   "cell_type": "code",
   "execution_count": null,
   "id": "076ee080",
   "metadata": {},
   "outputs": [],
   "source": [
    "\"\"\"\n",
    "A class in Python is a blueprint for creating objects with similar attributes and methods. It is a user-defined data type\n",
    "that defines the structure and behavior of objects. A class serves as a template that specifies how objects of that class \n",
    "should behave and what data they can hold.\n",
    "\n",
    "#class template\n",
    "class className:\n",
    "    def __init__(self):\n",
    "       pass\n",
    "       \n",
    "    def show():\n",
    "      pass\n",
    "      \n",
    "obj = className()# Object creation\n",
    "\n",
    "\"\"\""
   ]
  },
  {
   "cell_type": "markdown",
   "id": "2d0f8de1",
   "metadata": {},
   "source": [
    "# 4.What are attributes and methods in a class?"
   ]
  },
  {
   "cell_type": "code",
   "execution_count": null,
   "id": "6f23c657",
   "metadata": {},
   "outputs": [],
   "source": [
    "\"\"\"\n",
    "Attributes are variables that hold data and represent the state of an object. They define the characteristics or \n",
    "properties of an object. Methods, on the other hand, are functions defined within a class that represent the behavior or \n",
    "actions that the objects of the class can perform\n",
    "\n",
    "\"\"\""
   ]
  },
  {
   "cell_type": "markdown",
   "id": "22cd5802",
   "metadata": {},
   "source": [
    "# 5.What is the difference between class variables and instance variables in Python?"
   ]
  },
  {
   "cell_type": "code",
   "execution_count": null,
   "id": "d0c0c5b9",
   "metadata": {},
   "outputs": [],
   "source": [
    "\"\"\"\n",
    "Class variables are shared among all instances (objects) of a class. They are defined within the class but outside any \n",
    "class method. Class variables are accessed using the class name and are the same for all instances of the class.\n",
    "\n",
    "Instance variables are specific to each instance (object) of the class. They are defined within the class methods using \n",
    "the self keyword. Instance variables represent unique data for each object, and their values can vary from one instance \n",
    "to another.\n",
    "\n",
    "\"\"\""
   ]
  },
  {
   "cell_type": "markdown",
   "id": "ca085921",
   "metadata": {},
   "source": [
    "# 6.What is the purpose of the self parameter in Python class methods?"
   ]
  },
  {
   "cell_type": "code",
   "execution_count": null,
   "id": "ff2de2fa",
   "metadata": {},
   "outputs": [],
   "source": [
    "\"\"\"\n",
    "Self represents the instance of the class. By using the “self” we can access the attributes and methods of the class \n",
    "in Python. It binds the attributes with the given arguments. The reason you need to use self. is because Python does \n",
    "not use the @ syntax to refer to instance attributes.\n",
    "\n",
    "OR\n",
    "\n",
    "The self parameter in Python class methods is used to refer to the current instance of the class. It is conventional \n",
    "to use self as the name of this parameter, but it is not required. The self parameter can be used to access the instance's\n",
    "attributes and methods.\n",
    "\n",
    "For example, the following code defines a class called Person with an __init__() method that takes a name and age as \n",
    "Parameters:\n",
    "\n",
    "\"\"\""
   ]
  },
  {
   "cell_type": "code",
   "execution_count": 1,
   "id": "56f854ea",
   "metadata": {},
   "outputs": [],
   "source": [
    "class Person:\n",
    "    def __init__(self, name, age):\n",
    "        self.name = name\n",
    "        self.age = age"
   ]
  },
  {
   "cell_type": "code",
   "execution_count": null,
   "id": "44af50a3",
   "metadata": {},
   "outputs": [],
   "source": [
    "\"\"\"\n",
    "The self parameter can be used inside the __init__() method to access the name and age attributes of the instance.\n",
    "For example, the following code prints the name and age of the instance:\n",
    "\"\"\""
   ]
  },
  {
   "cell_type": "code",
   "execution_count": 2,
   "id": "6517eca8",
   "metadata": {},
   "outputs": [
    {
     "name": "stdout",
     "output_type": "stream",
     "text": [
      "John Doe\n",
      "30\n"
     ]
    }
   ],
   "source": [
    "person = Person(\"John Doe\", 30)\n",
    "print(person.name)\n",
    "print(person.age)"
   ]
  },
  {
   "cell_type": "code",
   "execution_count": null,
   "id": "164d583b",
   "metadata": {},
   "outputs": [],
   "source": [
    "\"\"\"\n",
    "The self parameter can also be used to call other methods of the instance. For example, the following code defines a \n",
    "say_hello() method that prints a greeting:\n",
    "\n",
    "\"\"\""
   ]
  },
  {
   "cell_type": "code",
   "execution_count": 3,
   "id": "335607da",
   "metadata": {},
   "outputs": [],
   "source": [
    "class Person:\n",
    "    def __init__(self, name, age):\n",
    "        self.name = name\n",
    "        self.age = age\n",
    "\n",
    "    def say_hello(self):\n",
    "        print(\"Hello, my name is {}!\".format(self.name))"
   ]
  },
  {
   "cell_type": "code",
   "execution_count": null,
   "id": "7b65ad93",
   "metadata": {},
   "outputs": [],
   "source": [
    "\"\"\"\n",
    "The self parameter can be used inside the say_hello() method to access the name attribute of the instance. \n",
    "For example, the following code prints a greeting to the user:\n",
    "\n",
    "\"\"\""
   ]
  },
  {
   "cell_type": "code",
   "execution_count": 4,
   "id": "a787ffab",
   "metadata": {},
   "outputs": [
    {
     "name": "stdout",
     "output_type": "stream",
     "text": [
      "Hello, my name is John Doe!\n"
     ]
    }
   ],
   "source": [
    "person = Person(\"John Doe\", 30)\n",
    "person.say_hello()"
   ]
  },
  {
   "cell_type": "code",
   "execution_count": null,
   "id": "78c70199",
   "metadata": {},
   "outputs": [],
   "source": [
    "\"\"\"\n",
    "The self parameter is a powerful tool that allows you to access the attributes and methods of an instance of a class.\n",
    "\"\"\""
   ]
  },
  {
   "cell_type": "markdown",
   "id": "32c4c7e2",
   "metadata": {},
   "source": [
    "# 7. For a library management system, you have to design the \"Book\" class with OOP principles in mind"
   ]
  },
  {
   "cell_type": "code",
   "execution_count": null,
   "id": "96930b6e",
   "metadata": {},
   "outputs": [],
   "source": [
    "\"\"\"\n",
    "The “Book” class will have following attributes: a. title: Represents the title of the book. b. author: Represents the \n",
    "author(s) of the book. c. isbn: Represents the ISBN (International Standard Book Number) of the book. d. publication_year:\n",
    "Represents the year of publication of the book. e. available_copies: Represents the number of copies available for \n",
    "checkout.The class will also include the following methods: a. check_out(self): Decrements the available copies by one if \n",
    "there are copies available for checkout. b. return_book(self): Increments the available copies by one when a book is \n",
    "returned.c.display_book_info(self): Displays the information about the book, including its attributes and the number of \n",
    "available \n",
    "copies.\n",
    "\n",
    "To fulfill the requirements of the library management system and design the \"Book\" class with OOP principles, we can\n",
    "implement the class in Python. Below is the implementation of the \"Book\" class with the attributes and methods described:\n",
    "\n",
    "\"\"\""
   ]
  },
  {
   "cell_type": "code",
   "execution_count": 5,
   "id": "9635b449",
   "metadata": {},
   "outputs": [],
   "source": [
    "class Book:\n",
    "    def __init__(self, title, author, isbn, publication_year, available_copies):\n",
    "        self.title = title\n",
    "        self.author = author\n",
    "        self.isbn = isbn\n",
    "        self.publication_year = publication_year\n",
    "        self.available_copies = available_copies\n",
    "\n",
    "    def check_out(self):\n",
    "        if self.available_copies > 0:\n",
    "            self.available_copies -= 1\n",
    "            print(f\"Book '{self.title}' checked out. Available copies: {self.available_copies}\")\n",
    "        else:\n",
    "            print(f\"Sorry, no available copies of '{self.title}' for checkout.\")\n",
    "\n",
    "    def return_book(self):\n",
    "        self.available_copies += 1\n",
    "        print(f\"Book '{self.title}' returned. Available copies: {self.available_copies}\")\n",
    "\n",
    "    def display_book_info(self):\n",
    "        print(f\"Title: {self.title}\")\n",
    "        print(f\"Author(s): {self.author}\")\n",
    "        print(f\"ISBN: {self.isbn}\")\n",
    "        print(f\"Publication Year: {self.publication_year}\")\n",
    "        print(f\"Available Copies: {self.available_copies}\")"
   ]
  },
  {
   "cell_type": "code",
   "execution_count": 6,
   "id": "22a4d440",
   "metadata": {},
   "outputs": [],
   "source": [
    "# Test the Book class\n",
    "if __name__ == \"__main__\":\n",
    "    # Creating a Book instance\n",
    "    book1 = Book(\"Python Crash Course\", \"Eric Matthes\", \"978-1593276034\", 2015, 5)"
   ]
  },
  {
   "cell_type": "code",
   "execution_count": 8,
   "id": "04c324ae",
   "metadata": {},
   "outputs": [
    {
     "name": "stdout",
     "output_type": "stream",
     "text": [
      "Title: Python Crash Course\n",
      "Author(s): Eric Matthes\n",
      "ISBN: 978-1593276034\n",
      "Publication Year: 2015\n",
      "Available Copies: 5\n"
     ]
    }
   ],
   "source": [
    " # Display book info\n",
    "book1.display_book_info()"
   ]
  },
  {
   "cell_type": "code",
   "execution_count": 10,
   "id": "4850160a",
   "metadata": {},
   "outputs": [
    {
     "name": "stdout",
     "output_type": "stream",
     "text": [
      "Book 'Python Crash Course' checked out. Available copies: 4\n"
     ]
    }
   ],
   "source": [
    "# Checkout and return books\n",
    "book1.check_out()\n"
   ]
  },
  {
   "cell_type": "code",
   "execution_count": 11,
   "id": "722ddb11",
   "metadata": {},
   "outputs": [
    {
     "name": "stdout",
     "output_type": "stream",
     "text": [
      "Book 'Python Crash Course' returned. Available copies: 5\n"
     ]
    }
   ],
   "source": [
    "book1.return_book()"
   ]
  },
  {
   "cell_type": "code",
   "execution_count": 12,
   "id": "db86dfd2",
   "metadata": {},
   "outputs": [
    {
     "name": "stdout",
     "output_type": "stream",
     "text": [
      "Book 'Python Crash Course' checked out. Available copies: 4\n"
     ]
    }
   ],
   "source": [
    " # Checkout when no available copies\n",
    "book1.check_out()"
   ]
  },
  {
   "cell_type": "code",
   "execution_count": null,
   "id": "c83e05c5",
   "metadata": {},
   "outputs": [],
   "source": [
    "\"\"\"\n",
    "In the above implementation, we have defined the \"Book\" class with the attributes title, author, isbn, publication_year, \n",
    "and available_copies. The class has three methods:\n",
    "\n",
    "check_out(self): This method checks if there are available copies for checkout. If available, it decrements the \n",
    "available_copies attribute by one and prints a message indicating the successful checkout. If there are no available \n",
    "copies, it prints a message indicating that the book is not available for checkout.\n",
    "\n",
    "return_book(self): This method increments the available_copies attribute by one when a book is returned and prints a \n",
    "message indicating the successful return.\n",
    "\n",
    "display_book_info(self): This method displays information about the book, including its attributes and the number of \n",
    "available copies.\n",
    "\n",
    "In the test section, we create an instance of the \"Book\" class and demonstrate the methods by checking out and returning\n",
    "books. The output will display the book information and the status of available copies during these operations.\n",
    "\n",
    "\"\"\""
   ]
  },
  {
   "cell_type": "markdown",
   "id": "5108c82a",
   "metadata": {},
   "source": [
    "# 8. For a ticket booking system, you have to design the \"Ticket\" class with OOP"
   ]
  },
  {
   "cell_type": "code",
   "execution_count": null,
   "id": "bc18e7ef",
   "metadata": {},
   "outputs": [],
   "source": [
    "\"\"\"\n",
    "The “Ticket” class should have the following attributes: a. ticket_id: Represents the unique identifier for the ticket. \n",
    "b. event_name: Represents the name of the event. c. event_date: Represents the date of the event. d. venue: Represents \n",
    "the venue of the event. e. seat_number: Represents the seat number associated with the ticket. f. price: Represents the \n",
    "price of the ticket. g. is_reserved: Represents the reservation status of the ticket. The class also includes the \n",
    "following methods: a. reserve_ticket(self): Marks the ticket as reserved if it is not already reserved. \n",
    "b. cancel_reservation(self): Cancels the reservation of the ticket if it is already reserved. c. display_ticket_info(self):\n",
    "Displays the information about the ticket, including its attributes and reservation status.\n",
    "\n",
    "To implement the \"Ticket\" class with the specified attributes and methods, we can create a Python class following the \n",
    "Object-Oriented Programming (OOP) principles. Here's the implementation of the \"Ticket\" class:\n",
    "\n",
    "\"\"\""
   ]
  },
  {
   "cell_type": "code",
   "execution_count": 13,
   "id": "1816efe9",
   "metadata": {},
   "outputs": [],
   "source": [
    "class Ticket:\n",
    "    def __init__(self, ticket_id, event_name, event_date, venue, seat_number, price):\n",
    "        self.ticket_id = ticket_id\n",
    "        self.event_name = event_name\n",
    "        self.event_date = event_date\n",
    "        self.venue = venue\n",
    "        self.seat_number = seat_number\n",
    "        self.price = price\n",
    "        self.is_reserved = False\n",
    "\n",
    "    def reserve_ticket(self):\n",
    "        if not self.is_reserved:\n",
    "            self.is_reserved = True\n",
    "            print(f\"Ticket {self.ticket_id} has been reserved.\")\n",
    "        else:\n",
    "            print(f\"Ticket {self.ticket_id} is already reserved.\")\n",
    "\n",
    "    def cancel_reservation(self):\n",
    "        if self.is_reserved:\n",
    "            self.is_reserved = False\n",
    "            print(f\"Reservation of Ticket {self.ticket_id} has been canceled.\")\n",
    "        else:\n",
    "            print(f\"Ticket {self.ticket_id} is not reserved.\")\n",
    "\n",
    "    def display_ticket_info(self):\n",
    "        reserved_status = \"reserved\" if self.is_reserved else \"not reserved\"\n",
    "        print(f\"Ticket ID: {self.ticket_id}\")\n",
    "        print(f\"Event Name: {self.event_name}\")\n",
    "        print(f\"Event Date: {self.event_date}\")\n",
    "        print(f\"Venue: {self.venue}\")\n",
    "        print(f\"Seat Number: {self.seat_number}\")\n",
    "        print(f\"Price: {self.price} USD\")\n",
    "        print(f\"Reservation Status: {reserved_status}\")\n",
    "        print(\"-\" * 30)"
   ]
  },
  {
   "cell_type": "code",
   "execution_count": 14,
   "id": "6efe876b",
   "metadata": {},
   "outputs": [],
   "source": [
    "# Example usage:\n",
    "if __name__ == \"__main__\":\n",
    "    # Creating Ticket objects\n",
    "    ticket1 = Ticket(1, \"Concert\", \"2023-08-15\", \"Stadium A\", \"A101\", 50)\n",
    "    ticket2 = Ticket(2, \"Theater Show\", \"2023-08-20\", \"Theater B\", \"B205\", 30)\n"
   ]
  },
  {
   "cell_type": "code",
   "execution_count": 16,
   "id": "eb811f46",
   "metadata": {},
   "outputs": [
    {
     "name": "stdout",
     "output_type": "stream",
     "text": [
      "Ticket ID: 1\n",
      "Event Name: Concert\n",
      "Event Date: 2023-08-15\n",
      "Venue: Stadium A\n",
      "Seat Number: A101\n",
      "Price: 50 USD\n",
      "Reservation Status: not reserved\n",
      "------------------------------\n",
      "Ticket ID: 2\n",
      "Event Name: Theater Show\n",
      "Event Date: 2023-08-20\n",
      "Venue: Theater B\n",
      "Seat Number: B205\n",
      "Price: 30 USD\n",
      "Reservation Status: not reserved\n",
      "------------------------------\n"
     ]
    }
   ],
   "source": [
    "# Display ticket information\n",
    "ticket1.display_ticket_info()\n",
    "ticket2.display_ticket_info()"
   ]
  },
  {
   "cell_type": "code",
   "execution_count": 17,
   "id": "d5ce0a48",
   "metadata": {},
   "outputs": [
    {
     "name": "stdout",
     "output_type": "stream",
     "text": [
      "Ticket 1 has been reserved.\n",
      "Ticket 2 has been reserved.\n"
     ]
    }
   ],
   "source": [
    "# Reserve tickets\n",
    "ticket1.reserve_ticket()\n",
    "ticket2.reserve_ticket()"
   ]
  },
  {
   "cell_type": "code",
   "execution_count": 18,
   "id": "6251406c",
   "metadata": {},
   "outputs": [
    {
     "name": "stdout",
     "output_type": "stream",
     "text": [
      "Reservation of Ticket 1 has been canceled.\n",
      "Reservation of Ticket 2 has been canceled.\n"
     ]
    }
   ],
   "source": [
    "# Cancel reservation\n",
    "ticket1.cancel_reservation()\n",
    "ticket2.cancel_reservation()"
   ]
  },
  {
   "cell_type": "code",
   "execution_count": 19,
   "id": "1eaa942d",
   "metadata": {},
   "outputs": [
    {
     "name": "stdout",
     "output_type": "stream",
     "text": [
      "Ticket ID: 1\n",
      "Event Name: Concert\n",
      "Event Date: 2023-08-15\n",
      "Venue: Stadium A\n",
      "Seat Number: A101\n",
      "Price: 50 USD\n",
      "Reservation Status: not reserved\n",
      "------------------------------\n",
      "Ticket ID: 2\n",
      "Event Name: Theater Show\n",
      "Event Date: 2023-08-20\n",
      "Venue: Theater B\n",
      "Seat Number: B205\n",
      "Price: 30 USD\n",
      "Reservation Status: not reserved\n",
      "------------------------------\n"
     ]
    }
   ],
   "source": [
    " # Display ticket information after reservation\n",
    "ticket1.display_ticket_info()\n",
    "ticket2.display_ticket_info()"
   ]
  },
  {
   "cell_type": "code",
   "execution_count": null,
   "id": "db96318f",
   "metadata": {},
   "outputs": [],
   "source": [
    "\"\"\"\n",
    "In this implementation, we define the \"Ticket\" class with the given attributes and methods:\n",
    "\n",
    "init: The constructor initializes the attributes of the ticket. reserve_ticket: Marks the ticket as reserved if it is not \n",
    "already reserved. cancel_reservation: Cancels the reservation of the ticket if it is already reserved. display_ticket_info:\n",
    "Displays the information about the ticket, including its attributes and reservation status. The example usage section\n",
    "demonstrates the usage of the \"Ticket\" class by creating two ticket objects and performing reservation and cancellation \n",
    "operations on them. The output will show the ticket information and the status of the reservation.\n",
    "\n",
    "Please note that the example usage section should be run in a Python environment to see the output. Additionally, you can \n",
    "further customize the class and add additional methods as per your specific requirements.\n",
    "\n",
    "\"\"\""
   ]
  },
  {
   "cell_type": "markdown",
   "id": "dc9d7a3e",
   "metadata": {},
   "source": [
    "# 9. You are creating a shopping cart for an e-commerce website. Using OOP to model"
   ]
  },
  {
   "cell_type": "code",
   "execution_count": null,
   "id": "05c2a2be",
   "metadata": {},
   "outputs": [],
   "source": [
    "\"\"\"\n",
    "the \"ShoppingCart\" functionality the class should contain following attributes and methods: a. items: Represents the list \n",
    "of items in the shopping cart. The class also includes the following methods:\n",
    "\n",
    "a. add_item(self, item): Adds an item to the shopping cart by appending it to the list of items. \n",
    "b. remove_item(self, item): Removes an item from the shopping cart if it exists in the list. \n",
    "c. view_cart(self): Displays the items currently present in the shopping cart. d. clear_cart(self): \n",
    "Clears all items from the shopping cart by reassigning an empty list to the items attribute.\n",
    "\n",
    "Sure! Below is the implementation of the \"ShoppingCart\" class according to the provided guidelines:\n",
    "\n",
    "\"\"\""
   ]
  },
  {
   "cell_type": "code",
   "execution_count": 20,
   "id": "b30aec4d",
   "metadata": {},
   "outputs": [],
   "source": [
    "class ShoppingCart:\n",
    "    def __init__(self):\n",
    "        self.items = []\n",
    "\n",
    "    def add_item(self, item):\n",
    "        self.items.append(item)\n",
    "\n",
    "    def remove_item(self, item):\n",
    "        if item in self.items:\n",
    "            self.items.remove(item)\n",
    "        else:\n",
    "            print(f\"{item} is not present in the shopping cart.\")\n",
    "\n",
    "    def view_cart(self):\n",
    "        if not self.items:\n",
    "            print(\"The shopping cart is empty.\")\n",
    "        else:\n",
    "            print(\"Items in the shopping cart:\")\n",
    "            for item in self.items:\n",
    "                print(\"-\", item)\n",
    "\n",
    "    def clear_cart(self):\n",
    "        self.items = []"
   ]
  },
  {
   "cell_type": "code",
   "execution_count": 21,
   "id": "5a39becd",
   "metadata": {},
   "outputs": [],
   "source": [
    "def main():\n",
    "    # Create a shopping cart\n",
    "    cart = ShoppingCart()\n",
    "\n",
    "    # Add items to the cart\n",
    "    cart.add_item(\"Item 1\")\n",
    "    cart.add_item(\"Item 2\")\n",
    "    cart.add_item(\"Item 3\")\n",
    "\n",
    "    # View the cart\n",
    "    cart.view_cart()\n",
    "\n",
    "    # Remove an item from the cart\n",
    "    cart.remove_item(\"Item 2\")\n",
    "\n",
    "    # View the cart again\n",
    "    cart.view_cart()\n",
    "\n",
    "    # Clear the cart\n",
    "    cart.clear_cart()\n",
    "\n",
    "    # View the cart after clearing\n",
    "    cart.view_cart()"
   ]
  },
  {
   "cell_type": "code",
   "execution_count": 22,
   "id": "d7eb1156",
   "metadata": {},
   "outputs": [
    {
     "name": "stdout",
     "output_type": "stream",
     "text": [
      "Items in the shopping cart:\n",
      "- Item 1\n",
      "- Item 2\n",
      "- Item 3\n",
      "Items in the shopping cart:\n",
      "- Item 1\n",
      "- Item 3\n",
      "The shopping cart is empty.\n"
     ]
    }
   ],
   "source": [
    "if __name__ == \"__main__\":\n",
    "    main()"
   ]
  },
  {
   "cell_type": "code",
   "execution_count": null,
   "id": "beca4970",
   "metadata": {},
   "outputs": [],
   "source": [
    "\"\"\"\n",
    "In this implementation, we define the \"ShoppingCart\" class with attributes and methods as described in the guidelines.\n",
    "\n",
    "The init method initializes the \"items\" attribute as an empty list when a new object of the class is created.\n",
    "\n",
    "The add_item method allows adding an item to the shopping cart by appending it to the \"items\" list.\n",
    "\n",
    "The remove_item method removes an item from the shopping cart if it exists in the \"items\" list. If the item is not present,\n",
    "it prints a message indicating that the item is not in the cart.\n",
    "\n",
    "The view_cart method displays the items currently present in the shopping cart. If the cart is empty, it prints a message\n",
    "indicating that the cart is empty.\n",
    "\n",
    "The clear_cart method clears all items from the shopping cart by reassigning an empty list to the \"items\" attribute.\n",
    "\n",
    "In the main() function, we create a ShoppingCart object, add some items, view the cart, remove an item, view the cart \n",
    "again, clear the cart, and then view the cart after clearing it.\n",
    "\n",
    "\"\"\""
   ]
  },
  {
   "cell_type": "markdown",
   "id": "365fe2b7",
   "metadata": {},
   "source": [
    "# 10. Imagine a school management system. You have to design the \"Student\" class using OOP concepts"
   ]
  },
  {
   "cell_type": "code",
   "execution_count": null,
   "id": "7e6c7e89",
   "metadata": {},
   "outputs": [],
   "source": [
    "\"\"\"\n",
    "The “Student” class has the following attributes: a. name: Represents the name of the student. b. age: Represents the age\n",
    "of the student. c. grade: Represents the grade or class of the student. d. student_id: Represents the unique identifier.\n",
    "for the student. e. attendance: Represents the attendance record of the student.\n",
    "\n",
    "The class should also include the following methods: a. update_attendance(self, date, status): Updates the attendance \n",
    "record of the student for a given date with the provided status (e.g., present or absent). b. get_attendance(self): \n",
    "Returns the attendance record of the student. c. get_average_attendance(self): Calculates and returns the average \n",
    "attendance percentage of the student based on their attendance record.\n",
    "\n",
    "Ans:To design the \"Student\" class using OOP concepts, we'll implement the class with the given attributes and methods as\n",
    "described in the guidelines. Below is the Python code for the \"Student\" class:\n",
    "\n",
    "\"\"\""
   ]
  },
  {
   "cell_type": "code",
   "execution_count": 23,
   "id": "c109888f",
   "metadata": {},
   "outputs": [],
   "source": [
    "class Student:\n",
    "    def __init__(self, name, age, grade, student_id):\n",
    "        self.name = name\n",
    "        self.age = age\n",
    "        self.grade = grade\n",
    "        self.student_id = student_id\n",
    "        self.attendance = {}  # Dictionary to store attendance records (date: status)\n",
    "\n",
    "    def update_attendance(self, date, status):\n",
    "        \"\"\"\n",
    "        Updates the attendance record of the student for a given date with the provided status.\n",
    "        :param date: The date for which attendance is to be updated.\n",
    "        :param status: The status for the given date (e.g., \"present\" or \"absent\").\n",
    "        \"\"\"\n",
    "        self.attendance[date] = status\n",
    "\n",
    "    def get_attendance(self):\n",
    "        \"\"\"\n",
    "        Returns the attendance record of the student.\n",
    "        :return: A dictionary containing the attendance record (date: status).\n",
    "        \"\"\"\n",
    "        return self.attendance\n",
    "\n",
    "    def get_average_attendance(self):\n",
    "        \"\"\"\n",
    "        Calculates and returns the average attendance percentage of the student.\n",
    "        :return: The average attendance percentage as a float rounded to two decimal places.\n",
    "        \"\"\"\n",
    "        total_days = len(self.attendance)\n",
    "        if total_days == 0:\n",
    "            return 0.0\n",
    "\n",
    "        present_days = sum(status == \"present\" for status in self.attendance.values())\n",
    "        average_attendance = (present_days / total_days) * 100\n",
    "        return round(average_attendance, 2)"
   ]
  },
  {
   "cell_type": "code",
   "execution_count": 24,
   "id": "f0daa629",
   "metadata": {},
   "outputs": [
    {
     "name": "stdout",
     "output_type": "stream",
     "text": [
      "Attendance Record:\n",
      "{'2023-07-20': 'present', '2023-07-21': 'present', '2023-07-22': 'absent'}\n",
      "Average Attendance Percentage: 66.67\n"
     ]
    }
   ],
   "source": [
    "# Example usage of the Student class\n",
    "if __name__ == \"__main__\":\n",
    "    student1 = Student(\"John Doe\", 15, \"10th Grade\", \"STU12345\")\n",
    "\n",
    "    student1.update_attendance(\"2023-07-20\", \"present\")\n",
    "    student1.update_attendance(\"2023-07-21\", \"present\")\n",
    "    student1.update_attendance(\"2023-07-22\", \"absent\")\n",
    "\n",
    "    print(\"Attendance Record:\")\n",
    "    print(student1.get_attendance())\n",
    "    print(\"Average Attendance Percentage:\", student1.get_average_attendance())"
   ]
  },
  {
   "cell_type": "code",
   "execution_count": null,
   "id": "22a09485",
   "metadata": {},
   "outputs": [],
   "source": [
    "\"\"\"\n",
    "In this implementation, we create a Student class with an init method to initialize the attributes for each student object.\n",
    "The attendance attribute is initialized as an empty dictionary to store attendance records.\n",
    "\n",
    "The update_attendance method allows us to update the attendance record for a given date with the provided status \n",
    "(either \"present\" or \"absent\").\n",
    "\n",
    "The get_attendance method returns the entire attendance record as a dictionary.\n",
    "\n",
    "The get_average_attendance method calculates and returns the average attendance percentage based on the student's \n",
    "attendance record.\n",
    "\n",
    "The example usage at the end demonstrates how to create a student object, update attendance, and obtain the attendance \n",
    "record and average attendance percentage.\n",
    "\n",
    "Please note that this code is for demonstration purposes and doesn't include input validation or error handling. In a \n",
    "real-world application, you would likely include additional checks and validations to ensure data integrity and prevent\n",
    "errors.\n",
    "\n",
    "\"\"\""
   ]
  }
 ],
 "metadata": {
  "kernelspec": {
   "display_name": "Python 3 (ipykernel)",
   "language": "python",
   "name": "python3"
  },
  "language_info": {
   "codemirror_mode": {
    "name": "ipython",
    "version": 3
   },
   "file_extension": ".py",
   "mimetype": "text/x-python",
   "name": "python",
   "nbconvert_exporter": "python",
   "pygments_lexer": "ipython3",
   "version": "3.11.0"
  }
 },
 "nbformat": 4,
 "nbformat_minor": 5
}
