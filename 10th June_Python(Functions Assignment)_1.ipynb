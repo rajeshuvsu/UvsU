{
 "cells": [
  {
   "cell_type": "markdown",
   "id": "567eba82",
   "metadata": {},
   "source": [
    "# 1. In Python, what is the difference between a built-in function and a user-defined function? Provide an example of each."
   ]
  },
  {
   "cell_type": "code",
   "execution_count": 1,
   "id": "b23dff95",
   "metadata": {},
   "outputs": [
    {
     "name": "stdout",
     "output_type": "stream",
     "text": [
      "Hello World\n",
      "11\n"
     ]
    }
   ],
   "source": [
    "\"\"\"\n",
    "Built-in function: These are functions that are already available in Python without requiring any \n",
    "additional code or definitions. They are part of the Python standard library and cover a wide range of tasks. \n",
    "Examples of built-in functions include print(), len(), and input() so on...\n",
    "\"\"\"\n",
    "\n",
    "print('Hello World')\n",
    "\n",
    "\"\"\"\n",
    "These are functions created by the programmer to perform specific tasks. They are defined using the def keyword, \n",
    "followed by a function name, parentheses containing any required arguments, and a colon. The function body contains \n",
    "the code to be executed when the function is called. User-defined functions allow for code reusability and modular \n",
    "programming. \n",
    "\"\"\"\n",
    "\n",
    "def add(a,b):\n",
    "    return a + b\n",
    "\n",
    "print(add(5,6))\n"
   ]
  },
  {
   "cell_type": "markdown",
   "id": "f66ea881",
   "metadata": {},
   "source": [
    "# 2. How can you pass arguments to a function in Python? Explain the difference between positional arguments and keyword arguments."
   ]
  },
  {
   "cell_type": "code",
   "execution_count": 2,
   "id": "3785903f",
   "metadata": {},
   "outputs": [
    {
     "name": "stdout",
     "output_type": "stream",
     "text": [
      "Hi, I am Prince\n",
      "My age is  20\n",
      "Hi, I am Prince\n",
      "My age is  20\n"
     ]
    }
   ],
   "source": [
    "\"\"\"\n",
    "Python functions can contain two types of arguments: positional arguments and keyword arguments. \n",
    "Positional arguments must be included in the correct order. \n",
    "Keyword arguments are included with a keyword and equals sign.\n",
    "\"\"\"\n",
    "\n",
    "def nameAge(name, age):\n",
    "    print(\"Hi, I am\", name)\n",
    "    print(\"My age is \", age)\n",
    " \n",
    "\n",
    "nameAge(name=\"Prince\", age=20)\n",
    " \n",
    "nameAge(age=20, name=\"Prince\")"
   ]
  },
  {
   "cell_type": "code",
   "execution_count": 3,
   "id": "f6099772",
   "metadata": {},
   "outputs": [
    {
     "name": "stdout",
     "output_type": "stream",
     "text": [
      "Case-1:\n",
      "Hi, I am Prince\n",
      "My age is  20\n",
      "\n",
      "Case-2:\n",
      "Hi, I am 20\n",
      "My age is  Prince\n"
     ]
    }
   ],
   "source": [
    "def nameAge(name, age):\n",
    "    print(\"Hi, I am\", name)\n",
    "    print(\"My age is \", age)\n",
    " \n",
    "# You will get correct output because argument is given in order\n",
    "print(\"Case-1:\")\n",
    "nameAge(\"Prince\", 20)\n",
    "# You will get incorrect output because argument is not in order\n",
    "print(\"\\nCase-2:\")\n",
    "nameAge(20, \"Prince\")"
   ]
  },
  {
   "cell_type": "markdown",
   "id": "04f02ebd",
   "metadata": {},
   "source": [
    "# 3. What is the purpose of the return statement in a function? Can a function have multiple return statements? Explain with an example."
   ]
  },
  {
   "cell_type": "code",
   "execution_count": 4,
   "id": "343e3b83",
   "metadata": {},
   "outputs": [
    {
     "name": "stdout",
     "output_type": "stream",
     "text": [
      "5\n"
     ]
    }
   ],
   "source": [
    "\"\"\"\n",
    "Understanding the Python return Statement in Functions.If there are no return statements, then it returns None. \n",
    "If the return statement contains an expression, it's evaluated first and then the value is returned. \n",
    "The return statement terminates the function execution. A function can have multiple return statements\n",
    "\"\"\"\n",
    "\n",
    "def absolute_value(x):\n",
    "    if x < 0:\n",
    "        return -x\n",
    "    else:\n",
    "        return x\n",
    "\n",
    "result = absolute_value(-5)\n",
    "print(result)"
   ]
  },
  {
   "cell_type": "markdown",
   "id": "b8247165",
   "metadata": {},
   "source": [
    "# 4.What are lambda functions in Python? How are they different from regular functions? Provide an example where a lambda function can be useful.\n"
   ]
  },
  {
   "cell_type": "code",
   "execution_count": 5,
   "id": "e9d7897d",
   "metadata": {},
   "outputs": [
    {
     "name": "stdout",
     "output_type": "stream",
     "text": [
      "15\n"
     ]
    }
   ],
   "source": [
    "\"\"\"\n",
    "Lambda functions, or anonymous functions, are small, inline functions that don't require a formal definition \n",
    "like regular functions. They are created using the lambda keyword, followed by a list of arguments, a colon, \n",
    "and an expression. Lambda functions are limited to a single expression and implicitly return the result of that expression.\n",
    "They are often used when a simple function is needed for a short period of time or when it's more convenient to define a \n",
    "function inline.\n",
    "\"\"\"\n",
    "\n",
    "#Lamdbd functions single line functions\n",
    "#lambda function generally perform small operations\n",
    "add = lambda x, y : x + y\n",
    "print(add(5,10))\n"
   ]
  },
  {
   "cell_type": "markdown",
   "id": "4d322496",
   "metadata": {},
   "source": [
    "# 5.How does the concept of \"scope\" apply to functions in Python? Explain the difference between local scope and global scope.\n"
   ]
  },
  {
   "cell_type": "code",
   "execution_count": 7,
   "id": "2c6fbb06",
   "metadata": {},
   "outputs": [
    {
     "name": "stdout",
     "output_type": "stream",
     "text": [
      "Local Variable\n"
     ]
    }
   ],
   "source": [
    "\"\"\"\n",
    "There are two types of variables: global variables and local variables. The scope of global variables is \n",
    "the entire program whereas the scope of local variable is limited to the function where it is defined\n",
    "\"\"\"\n",
    "def fun(): \n",
    "    s = \"Local Variable\"\n",
    "    print(s)\n",
    "fun() "
   ]
  },
  {
   "cell_type": "code",
   "execution_count": 8,
   "id": "a5191739",
   "metadata": {},
   "outputs": [
    {
     "name": "stdout",
     "output_type": "stream",
     "text": [
      "Inside Function: Local Variable\n"
     ]
    },
    {
     "ename": "NameError",
     "evalue": "name 's' is not defined",
     "output_type": "error",
     "traceback": [
      "\u001b[1;31m---------------------------------------------------------------------------\u001b[0m",
      "\u001b[1;31mNameError\u001b[0m                                 Traceback (most recent call last)",
      "Cell \u001b[1;32mIn[8], line 6\u001b[0m\n\u001b[0;32m      4\u001b[0m     \u001b[38;5;28mprint\u001b[39m(\u001b[38;5;124m\"\u001b[39m\u001b[38;5;124mInside Function:\u001b[39m\u001b[38;5;124m\"\u001b[39m, s)\n\u001b[0;32m      5\u001b[0m fun1()\n\u001b[1;32m----> 6\u001b[0m \u001b[38;5;28mprint\u001b[39m(\u001b[43ms\u001b[49m)\n",
      "\u001b[1;31mNameError\u001b[0m: name 's' is not defined"
     ]
    }
   ],
   "source": [
    "#Can a local variable be used outside a function?\n",
    "def fun1():     \n",
    "    s = \"Local Variable\"\n",
    "    print(\"Inside Function:\", s)\n",
    "fun1()\n",
    "print(s)\n",
    "\n",
    "\"\"\"If we will try to use this local variable outside the function then let’s see what will happen.\"\"\""
   ]
  },
  {
   "cell_type": "code",
   "execution_count": 10,
   "id": "7a8440e9",
   "metadata": {},
   "outputs": [
    {
     "name": "stdout",
     "output_type": "stream",
     "text": [
      "Inside Function Global Scope\n",
      "Outside Function Global Scope\n"
     ]
    },
    {
     "data": {
      "text/plain": [
       "'The variable s is defined as the global variable and is used both inside the function as well as outside the function.'"
      ]
     },
     "execution_count": 10,
     "metadata": {},
     "output_type": "execute_result"
    }
   ],
   "source": [
    "# This function uses global variable s\n",
    "def f():\n",
    "    print(\"Inside Function\", s)\n",
    "s = \"Global Scope\"\n",
    "f()\n",
    "print(\"Outside Function\", s)\n",
    "\n",
    "\"\"\"The variable s is defined as the global variable and is used both inside the function as well as outside the function.\"\"\""
   ]
  },
  {
   "cell_type": "markdown",
   "id": "c0b1b772",
   "metadata": {},
   "source": [
    "# 6. How can you use the \"return\" statement in a Python function to return multiple values?"
   ]
  },
  {
   "cell_type": "code",
   "execution_count": 11,
   "id": "777ed4d8",
   "metadata": {},
   "outputs": [
    {
     "name": "stdout",
     "output_type": "stream",
     "text": [
      "(1, 2, 3)\n"
     ]
    }
   ],
   "source": [
    "\"\"\"\n",
    "Using Comma-separated values (Tuples):\n",
    "In this method, we use Python to return multiple values by simply separating them by commas. \n",
    "Python basically uses a tuple to achieve this. A common confusion here is that the syntax of tuple requires a \n",
    "pair of brackets ().\n",
    "\"\"\"\n",
    "#Example\n",
    "\n",
    "def get_values():\n",
    "    return(1,2,3)\n",
    "\n",
    "print(get_values())"
   ]
  },
  {
   "cell_type": "markdown",
   "id": "4c1a4bef",
   "metadata": {},
   "source": [
    "# 7. What is the difference between the \"pass by value\" and \"pass by reference\" concepts when it comes to function arguments in Python?"
   ]
  },
  {
   "cell_type": "code",
   "execution_count": 12,
   "id": "47c3e9f2",
   "metadata": {},
   "outputs": [
    {
     "name": "stdout",
     "output_type": "stream",
     "text": [
      "6\n",
      "5\n",
      "[1, 2, 3, 4]\n",
      "[1, 2, 3, 4]\n"
     ]
    }
   ],
   "source": [
    "\"\"\"\n",
    "Pass by value refers to a mechanism of copying the function parameter value to another variable while the pass \n",
    "by reference refers to a mechanism of passing the actual parameters to the function. \n",
    "Thus, this is the main difference between pass by value and pass by reference\n",
    "\"\"\"\n",
    "#Example pass by value\n",
    "\"\"\"\n",
    "Immutable objects like numbers, strings, and tuples are passed by value. A copy of the object is created, \n",
    "and any modifications made to the parameter within the function do not affect the original object.\"\"\"\n",
    "\n",
    "def increment(x):\n",
    "    x += 1\n",
    "    print(x)\n",
    "\n",
    "num = 5\n",
    "increment(num)  # Pass by value\n",
    "print(num)  # The original value is not modified\n",
    "\n",
    "#Example pass by reference\n",
    "\n",
    "\"\"\"Mutable objects like lists and dictionaries are passed by reference. The function receives a reference to \n",
    "the original object, and any modifications made to the parameter within the function affect the original object.\"\"\"\n",
    "\n",
    "def append_value(lst):\n",
    "    lst.append(4)\n",
    "    print(lst)\n",
    "\n",
    "my_list = [1, 2, 3]\n",
    "append_value(my_list)  # Pass by reference\n",
    "print(my_list)  # The original list is modified\n",
    "\n"
   ]
  },
  {
   "cell_type": "markdown",
   "id": "c7f2a3e8",
   "metadata": {},
   "source": [
    "# 8. Create a function that can intake integer or decimal value and do following operations:"
   ]
  },
  {
   "cell_type": "code",
   "execution_count": 25,
   "id": "cdedf72f",
   "metadata": {},
   "outputs": [
    {
     "name": "stdout",
     "output_type": "stream",
     "text": [
      "Enter the numebr to perform math operations:12\n",
      "(2.4849066497880004, 162754.79141900392, 4096, 3.4641016151377544)\n"
     ]
    }
   ],
   "source": [
    "#a. Logarithmic function (log x)\n",
    "#b. Exponential function (exp(x))\n",
    "#c. Power function with base 2 (2x)\n",
    "#d. Square root\n",
    "\n",
    "\n",
    "import math\n",
    "\n",
    "def math_operation(value):\n",
    "    #Logarithmic function (log x)\n",
    "    log = math.log(value)\n",
    "    \n",
    "    #Exponential function (exp(x))\n",
    "    exponential = math.exp(value)\n",
    "   \n",
    "    #Power function with base 2 (2x)\n",
    "    pow_of_two = pow(2,value)\n",
    "    \n",
    "    #Square root\n",
    "    sqrt = math.sqrt(value)\n",
    "    \n",
    "    return(log,exponential,pow_of_two,sqrt)\n",
    "\n",
    "\n",
    "num = int(input(\"Enter the numebr to perform math operations:\"))\n",
    "print(math_operation(num))\n",
    "    \n",
    "    \n",
    "    \n",
    "    "
   ]
  },
  {
   "cell_type": "markdown",
   "id": "4bc88642",
   "metadata": {},
   "source": [
    "# 9. Create a function that takes a full name as an argument and returns first name and last name."
   ]
  },
  {
   "cell_type": "code",
   "execution_count": 26,
   "id": "9de8dfda",
   "metadata": {},
   "outputs": [
    {
     "name": "stdout",
     "output_type": "stream",
     "text": [
      "First Name:Gary and Last Name:Kristen\n"
     ]
    }
   ],
   "source": [
    "def get_name(full_name):\n",
    "    name = full_name.split()\n",
    "    first_name = name[0]\n",
    "    last_name = name[1]\n",
    "    return(first_name,last_name)\n",
    "\n",
    "name1 = \"Gary Kristen\"\n",
    "first,last = get_name(name1)\n",
    "print(f\"First Name:{first} and Last Name:{last}\")"
   ]
  },
  {
   "cell_type": "code",
   "execution_count": null,
   "id": "029c1790",
   "metadata": {},
   "outputs": [],
   "source": []
  }
 ],
 "metadata": {
  "kernelspec": {
   "display_name": "Python 3 (ipykernel)",
   "language": "python",
   "name": "python3"
  },
  "language_info": {
   "codemirror_mode": {
    "name": "ipython",
    "version": 3
   },
   "file_extension": ".py",
   "mimetype": "text/x-python",
   "name": "python",
   "nbconvert_exporter": "python",
   "pygments_lexer": "ipython3",
   "version": "3.11.0"
  }
 },
 "nbformat": 4,
 "nbformat_minor": 5
}
