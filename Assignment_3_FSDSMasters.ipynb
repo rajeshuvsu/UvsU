{
 "cells": [
  {
   "cell_type": "markdown",
   "id": "f24e6853",
   "metadata": {},
   "source": [
    "# 1. Why are functions advantageous to have in your programs?"
   ]
  },
  {
   "cell_type": "code",
   "execution_count": 1,
   "id": "329869e5",
   "metadata": {},
   "outputs": [
    {
     "data": {
      "text/plain": [
       "'\\nAdvantages of having functions:\\nFunctions reduce the need for duplicate code. This makes programs shorter, easier to read, and easier to update.\\n'"
      ]
     },
     "execution_count": 1,
     "metadata": {},
     "output_type": "execute_result"
    }
   ],
   "source": [
    "\"\"\"\n",
    "Ans:\n",
    "Advantages of having functions:\n",
    "Functions reduce the need for duplicate code. This makes programs shorter, easier to read, and easier to update.\n",
    "\"\"\""
   ]
  },
  {
   "cell_type": "markdown",
   "id": "d3108fb5",
   "metadata": {},
   "source": [
    "# 2. When does the code in a function run: when it's specified or when it's called?"
   ]
  },
  {
   "cell_type": "code",
   "execution_count": 2,
   "id": "fd959193",
   "metadata": {},
   "outputs": [
    {
     "name": "stdout",
     "output_type": "stream",
     "text": [
      "function called\n"
     ]
    }
   ],
   "source": [
    "\"\"\"\n",
    "Ans:\n",
    "When the function is invoked i.e., called\n",
    "\n",
    "def cal():\n",
    "    print('function called')\n",
    "\n",
    "cal()\n",
    "\n",
    "\"\"\"\n",
    "\n",
    "def cal():\n",
    "    print('function called')\n",
    "\n",
    "cal()"
   ]
  },
  {
   "cell_type": "markdown",
   "id": "d7ed5437",
   "metadata": {},
   "source": [
    "# 3. What statement creates a function?"
   ]
  },
  {
   "cell_type": "code",
   "execution_count": 4,
   "id": "8945e052",
   "metadata": {},
   "outputs": [
    {
     "name": "stdout",
     "output_type": "stream",
     "text": [
      "New Function block created\n"
     ]
    }
   ],
   "source": [
    "\"\"\"\n",
    "The def statement creates the function\n",
    "\n",
    "\"\"\"\n",
    "#example\n",
    "def calc():\n",
    "    print('New Function block created')\n",
    "calc()"
   ]
  },
  {
   "cell_type": "markdown",
   "id": "5f6f4bc1",
   "metadata": {},
   "source": [
    "# 4. What is the difference between a function and a function call?"
   ]
  },
  {
   "cell_type": "code",
   "execution_count": 5,
   "id": "1c8ee15e",
   "metadata": {},
   "outputs": [
    {
     "name": "stdout",
     "output_type": "stream",
     "text": [
      "Function Block\n"
     ]
    }
   ],
   "source": [
    "\"\"\"\n",
    "A function consists of the def statement and the code in its def clause.\n",
    "A function call is what moves the program execution into the function, and the function \n",
    "call evaluates to the function's return value.\n",
    "\"\"\"\n",
    "#def of func\n",
    "def my_func(): \n",
    "    print('Function Block') \n",
    "my_func() #calling of function"
   ]
  },
  {
   "cell_type": "markdown",
   "id": "c0f5dd26",
   "metadata": {},
   "source": [
    "# 5. How many global scopes are there in a Python program? How many local scopes?"
   ]
  },
  {
   "cell_type": "code",
   "execution_count": 6,
   "id": "be76f816",
   "metadata": {},
   "outputs": [
    {
     "data": {
      "text/plain": [
       "\"\\nAt any given time during execution, you'll have at most four active Python \\nscopes—local, enclosing, global, and built-in—depending on where you are in the code. On the other hand, \\nyou'll always have at least two active scopes, which are the global and built-in scopes.\\n\\nAns .However There's only one global Python scope per program execution. \\nThis scope remains in existence until the program terminates , and a local scope is created whenever a function is called.\\n\""
      ]
     },
     "execution_count": 6,
     "metadata": {},
     "output_type": "execute_result"
    }
   ],
   "source": [
    "\"\"\"\n",
    "At any given time during execution, you'll have at most four active Python \n",
    "scopes—local, enclosing, global, and built-in—depending on where you are in the code. On the other hand, \n",
    "you'll always have at least two active scopes, which are the global and built-in scopes.\n",
    "\n",
    "Ans .However There's only one global Python scope per program execution. \n",
    "This scope remains in existence until the program terminates , and a local scope is created whenever a function is called.\n",
    "\"\"\""
   ]
  },
  {
   "cell_type": "markdown",
   "id": "aab023ef",
   "metadata": {},
   "source": [
    "# 6. What happens to variables in a local scope when the function call returns?"
   ]
  },
  {
   "cell_type": "code",
   "execution_count": 7,
   "id": "4bcc5098",
   "metadata": {},
   "outputs": [],
   "source": [
    "#Ans. When a function returns, the local scope is destroyed."
   ]
  },
  {
   "cell_type": "markdown",
   "id": "ca69f46d",
   "metadata": {},
   "source": [
    "# 7. What is the concept of a return value? Is it possible to have a return value in an expression?"
   ]
  },
  {
   "cell_type": "code",
   "execution_count": 8,
   "id": "95d4c466",
   "metadata": {},
   "outputs": [
    {
     "data": {
      "text/plain": [
       "'\\nAns. A return value is the value that a function call evaluates to. Like any value, \\na return value can be used as part of an expression.\\n\\n'"
      ]
     },
     "execution_count": 8,
     "metadata": {},
     "output_type": "execute_result"
    }
   ],
   "source": [
    "\"\"\"\n",
    "Ans. A return value is the value that a function call evaluates to. Like any value, \n",
    "a return value can be used as part of an expression.\n",
    "\n",
    "\"\"\""
   ]
  },
  {
   "cell_type": "markdown",
   "id": "6d114857",
   "metadata": {},
   "source": [
    "# 8. If a function does not have a return statement, what is the return value of a call to that function?"
   ]
  },
  {
   "cell_type": "code",
   "execution_count": 11,
   "id": "d57b512d",
   "metadata": {},
   "outputs": [
    {
     "name": "stdout",
     "output_type": "stream",
     "text": [
      "Printing:: Hi\n",
      "A function without return statement returns None\n"
     ]
    }
   ],
   "source": [
    "\"\"\"\n",
    "Ans. If the funtion does not have a return statement it will return None.\n",
    "\"\"\"\n",
    "def print_something(s):\n",
    "    print('Printing::', s)\n",
    "\n",
    "\n",
    "output = print_something('Hi')\n",
    "\n",
    "print(f'A function without return statement returns {output}')"
   ]
  },
  {
   "cell_type": "markdown",
   "id": "18b0d22a",
   "metadata": {},
   "source": [
    "# 9. How do you make a function variable refer to the global variable?"
   ]
  },
  {
   "cell_type": "code",
   "execution_count": 12,
   "id": "0137fc3d",
   "metadata": {},
   "outputs": [
    {
     "name": "stdout",
     "output_type": "stream",
     "text": [
      "Python is fantastic\n"
     ]
    }
   ],
   "source": [
    "\"\"\"\n",
    "A global variable is a variable that you can use from any part of a program, including within functions. \n",
    "Using global variables inside your Python functions can be tricky.\n",
    "You’ll need to differentiate between accessing and changing the values of the target global variable \n",
    "if you want your code to work correctly.\n",
    "\n",
    "Global variables can play a fundamental role in many software projects because they enable data sharing across \n",
    "an entire program. However, you should use them judiciously to avoid issues.\n",
    "\n",
    "\"\"\"\n",
    "\n",
    "#Example\n",
    "\n",
    "def myfunc():\n",
    "    global x\n",
    "    x = \"fantastic\"\n",
    "\n",
    "myfunc()\n",
    "\n",
    "print(\"Python is \" + x)"
   ]
  },
  {
   "cell_type": "markdown",
   "id": "be41b05e",
   "metadata": {},
   "source": [
    "# 10. What is the data type of None?"
   ]
  },
  {
   "cell_type": "code",
   "execution_count": 13,
   "id": "d734e5cc",
   "metadata": {},
   "outputs": [
    {
     "name": "stdout",
     "output_type": "stream",
     "text": [
      "<class 'NoneType'>\n"
     ]
    }
   ],
   "source": [
    "#Ans . The data type of None is NoneType.\n",
    "\n",
    "a = None\n",
    "print(type(a))"
   ]
  },
  {
   "cell_type": "markdown",
   "id": "9f575529",
   "metadata": {},
   "source": [
    "# Q11. What does the sentence import areallyourpetsnamederic do?"
   ]
  },
  {
   "cell_type": "code",
   "execution_count": 14,
   "id": "7e4bc42a",
   "metadata": {},
   "outputs": [],
   "source": [
    "#Ans .That import statement imports a module named areallyourpetsnamederic"
   ]
  },
  {
   "cell_type": "markdown",
   "id": "a94e4aea",
   "metadata": {},
   "source": [
    "# Q12. If you had a bacon() feature in a spam module, what would you call it after importing spam?"
   ]
  },
  {
   "cell_type": "code",
   "execution_count": 16,
   "id": "c5024872",
   "metadata": {},
   "outputs": [
    {
     "data": {
      "text/plain": [
       "'\\nimport spam\\nspam.bacon()\\n'"
      ]
     },
     "execution_count": 16,
     "metadata": {},
     "output_type": "execute_result"
    }
   ],
   "source": [
    "\"\"\"\n",
    "import spam\n",
    "spam.bacon()\n",
    "\"\"\""
   ]
  },
  {
   "cell_type": "markdown",
   "id": "e0a177cb",
   "metadata": {},
   "source": [
    "# Q13. What can you do to save a programme from crashing if it encounters an error?"
   ]
  },
  {
   "cell_type": "code",
   "execution_count": 18,
   "id": "e2ae54f5",
   "metadata": {},
   "outputs": [
    {
     "name": "stdout",
     "output_type": "stream",
     "text": [
      "There is No G\n"
     ]
    }
   ],
   "source": [
    "\"\"\"\n",
    "We can use try and expect clause in the code block to avoid crashing errors\n",
    "\"\"\"\n",
    "\n",
    "#we can handle the exception by using tray and except block\n",
    "\n",
    "try:\n",
    "    print(g) #this will throw the error \n",
    "except:\n",
    "    print('There is No G')"
   ]
  },
  {
   "cell_type": "markdown",
   "id": "0251ab16",
   "metadata": {},
   "source": [
    "# Q14. What is the purpose of the try clause? What is the purpose of the except clause?"
   ]
  },
  {
   "cell_type": "code",
   "execution_count": 20,
   "id": "b480bf85",
   "metadata": {},
   "outputs": [
    {
     "name": "stdout",
     "output_type": "stream",
     "text": [
      "Wrong Index or Index is out of range\n"
     ]
    }
   ],
   "source": [
    "\"\"\"\n",
    "Ans. Try and Except clause is used to handle the errors within our code . The try block is \n",
    "used to check some code for errors i.e the code inside the try block will execute \n",
    "when there is no error in the program. Whereas the code inside the except block will execute \n",
    "whenever the program encounters some error in the try block.\n",
    "\"\"\"\n",
    "\n",
    "#Example\n",
    "\n",
    "#Index Error\n",
    "try: \n",
    "    listz = [1,2,3,4]\n",
    "    print(listz[4])\n",
    "except IndexError:\n",
    "    print('Wrong Index or Index is out of range')"
   ]
  },
  {
   "cell_type": "code",
   "execution_count": null,
   "id": "e2599ecd",
   "metadata": {},
   "outputs": [],
   "source": []
  }
 ],
 "metadata": {
  "kernelspec": {
   "display_name": "Python 3 (ipykernel)",
   "language": "python",
   "name": "python3"
  },
  "language_info": {
   "codemirror_mode": {
    "name": "ipython",
    "version": 3
   },
   "file_extension": ".py",
   "mimetype": "text/x-python",
   "name": "python",
   "nbconvert_exporter": "python",
   "pygments_lexer": "ipython3",
   "version": "3.11.0"
  }
 },
 "nbformat": 4,
 "nbformat_minor": 5
}
