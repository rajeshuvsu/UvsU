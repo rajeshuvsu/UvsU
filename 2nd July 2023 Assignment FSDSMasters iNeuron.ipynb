{
 "cells": [
  {
   "cell_type": "markdown",
   "id": "a0aa0f34",
   "metadata": {},
   "source": [
    "# 1. Explain what inheritance is in object-oriented programming and why it is used."
   ]
  },
  {
   "cell_type": "code",
   "execution_count": null,
   "id": "dc2f0119",
   "metadata": {},
   "outputs": [],
   "source": [
    "\"\"\"\n",
    "Inheritance is the concept in OOPs in which one class inherits the attributes and methods of another class. \n",
    "The class whose properties and methods are inherited is known as the Parent class. And the class that inherits the \n",
    "properties from the parent class is the Child class.\n",
    "\n",
    "OR\n",
    "\n",
    ":In object-oriented programming (OOP), inheritance is a mechanism that allows a class to inherit the properties and\n",
    "behaviors (methods) of another class. The class that inherits is called the subclass or derived class, and the class \n",
    "from which it inherits is called the superclass or base class. The subclass extends or specializes the functionality \n",
    "of the superclass, adding new features or overriding existing ones.\n",
    "\n",
    "\n",
    "\n",
    "Inheritance is used to establish a hierarchical relationship between classes, creating a parent-child relationship.\n",
    "It promotes code reusability and modularity, as it allows common attributes and behaviors to be defined in a superclass \n",
    "and then inherited by multiple subclasses. This way, subclasses can inherit and utilize the code from the superclass, \n",
    "eliminating the need to rewrite or duplicate code.\n",
    "\n",
    "The key benefits of inheritance include:\n",
    "\n",
    "Code reuse: Inheritance enables subclasses to inherit the properties and methods of the superclass. This reduces cod\n",
    "e duplication and promotes a more efficient and organized development process. Common functionalities can be defined in\n",
    "the superclass, and the subclasses can inherit and extend them as needed.\n",
    "\n",
    "Modularity: Inheritance enhances the modular design of software systems. It allows classes to be structured in a \n",
    "hierarchical manner, where each class represents a specific level of abstraction. This modular structure makes the\n",
    "codebase easier to understand, maintain, and update.\n",
    "\n",
    "Polymorphism: Inheritance is closely related to the concept of polymorphism, which allows objects of different classes\n",
    "to be treated as instances of a common superclass. This enables the use of a single interface to represent multiple \n",
    "related objects, promoting flexibility and extensibility in the code.\n",
    " \n",
    "Encapsulation: Inheritance helps in achieving encapsulation, one of the fundamental principles of OOP. By encapsulating \n",
    "related attributes and behaviors within classes, inheritance allows for better organization, data hiding, and separation\n",
    "of concerns. Changes made to the superclass can be localized and affect all the subclasses that inherit from it.\n",
    "\n",
    "Inheritance is a powerful feature of object-oriented programming that facilitates code reuse, modularity, polymorphism, \n",
    "and encapsulation. By establishing hierarchical relationships between classes, it promotes efficient development, \n",
    "maintenance, and extensibility of software systems.\n",
    "\n",
    "\n",
    "\"\"\""
   ]
  },
  {
   "cell_type": "markdown",
   "id": "99571e75",
   "metadata": {},
   "source": [
    "# #2.Discuss the concept of single inheritance and multiple inheritance, highlighting their differences and advantages."
   ]
  },
  {
   "cell_type": "code",
   "execution_count": null,
   "id": "37d97449",
   "metadata": {},
   "outputs": [],
   "source": [
    "\"\"\"\n",
    "In object-oriented programming, both single inheritance and multiple inheritance are mechanisms that allow a class to \n",
    "inherit properties and behaviors from other classes. However, they differ in the number of superclasses a subclass can \n",
    "inherit from.\n",
    " \n",
    "1.Single Inheritance: Single inheritance is a concept where a subclass can inherit from only one superclass. This means \n",
    "that a subclass can have one direct parent class, and it inherits the properties and behaviors defined in that superclass.\n",
    "The superclass can, in turn, have its own superclass, creating a single linear hierarchy.\n",
    "\n",
    "Advantages of Single Inheritance:\n",
    "\n",
    "Simplicity: Single inheritance simplifies the class hierarchy by enforcing a clear and straightforward relationship \n",
    "between classes. It avoids complexities that can arise from multiple superclasses with potential conflicts or ambiguity.\n",
    "\n",
    "Ease of maintenance: With a linear class hierarchy, it is generally easier to understand, maintain, and debug the codebase. \n",
    "Changes made to the superclass are localized and have a limited impact on the subclass.\n",
    "\n",
    "2.Multiple Inheritance: Multiple inheritance allows a subclass to inherit from multiple superclasses, enabling it to\n",
    "acquire properties and behaviors from multiple sources. This means that a subclass can have multiple direct parent classes, \n",
    "and it inherits the characteristics defined in all of those superclasses.\n",
    "\n",
    "Advantages of Multiple Inheritance:\n",
    "\n",
    "Code reuse and flexibility: Multiple inheritance enables greater code reuse by inheriting functionality from multiple \n",
    "superclasses. This promotes modular design and allows the subclass to combine features from different sources, making \n",
    "it more flexible and adaptable.\n",
    "\n",
    "Expressive power: Multiple inheritance can model complex relationships and scenarios more accurately. It allows the \n",
    "creation of classes that combine traits and behaviors from various parent classes, providing a richer and more expressive \n",
    "representation of real-world objects or concepts.\n",
    "\n",
    "However, multiple inheritance also brings certain challenges and concerns:\n",
    " \n",
    "Name clashes: If multiple superclasses define methods or attributes with the same name, conflicts may arise. This can \n",
    "result in ambiguity, and the programmer needs to handle these conflicts explicitly.\n",
    "\n",
    "Increased complexity: With multiple superclasses, the class hierarchy becomes more intricate, which can make the code\n",
    "harder to understand and maintain. It may require careful consideration and design decisions to avoid confusion and \n",
    "potential pitfalls.\n",
    " \n",
    "Diamond problem: The diamond problem occurs when a subclass inherits from two superclasses, both of which inherit from a \n",
    "common superclass. This can lead to ambiguity in method resolution, as the subclass does not know which superclass's \n",
    "method to use. Programming languages handle this problem differently, providing mechanisms like method overriding or \n",
    "virtual inheritance to resolve it.\n",
    "\n",
    "It's worth noting that while single and multiple inheritance have their differences and advantages, some programming \n",
    "languages support only single inheritance (e.g., Java), while others allow multiple inheritance (e.g., C++). \n",
    "Some languages provide alternative mechanisms, like interfaces or mixins, to achieve similar goals without the \n",
    "complexities of multiple inheritance. The choice between single and multiple inheritance depends on the specific \n",
    "requirements, design considerations, and language capabilities in a given programming context.\n",
    "\n",
    "\n",
    "\"\"\""
   ]
  },
  {
   "cell_type": "markdown",
   "id": "aa6bb6b5",
   "metadata": {},
   "source": [
    "# #3.Explain the terms \"base class\" and \"derived class\" in the context of inheritance."
   ]
  },
  {
   "cell_type": "code",
   "execution_count": null,
   "id": "03ebc77d",
   "metadata": {},
   "outputs": [],
   "source": [
    "\"\"\"\n",
    "In the context of inheritance, the terms \"base class\" and \"derived class\" are used to describe the relationship between \n",
    "classes.\n",
    " \n",
    "1.Base Class: A base class, also known as a superclass or parent class, is the class from which other classes inherit \n",
    "properties and behaviors. It serves as the starting point or foundation for creating derived classes. The base class \n",
    "defines common attributes and methods that are shared by multiple related classes.\n",
    " \n",
    "In terms of inheritance, the base class is the class that is extended or specialized by other classes. It contains the \n",
    "essential functionality that can be inherited by its derived classes. The base class can have its own base class, creating\n",
    "a hierarchical chain of inheritance.\n",
    "\n",
    "For example, consider a base class called \"Animal\" that defines common attributes and behaviors of animals, such as \"name\" \n",
    "and \"eat()\". Other classes like \"Dog\" and \"Cat\" can inherit from the \"Animal\" class, gaining its properties and methods.\n",
    "\n",
    "2.Derived Class: A derived class, also known as a subclass or child class, is a class that inherits properties and \n",
    "behaviors from a base class. It extends or modifies the functionality of the base class by adding new features or \n",
    "overriding existing ones. The derived class is created by specifying the base class from which it inherits.\n",
    "\n",
    "Inheritance allows the derived class to inherit all the non-private members (attributes and methods) of the base class.\n",
    "It can access and utilize the inherited members directly, as if they were defined within the derived class itself.\n",
    "Additionally, the derived class can introduce its own specific attributes and behaviors.\n",
    " \n",
    "Continuing with the previous example, the \"Dog\" and \"Cat\" classes are derived classes from the \"Animal\" base class.\n",
    "They inherit the common attributes and methods defined in the \"Animal\" class, such as \"name\" and \"eat()\". The derived \n",
    "classes can further define their own specific attributes and behaviors, such as \"bark()\" in the \"Dog\" class and \"meow()\" \n",
    "in the \"Cat\" class.\n",
    " \n",
    "The base class is the class that is inherited from, providing a foundation of shared functionality. The derived class is \n",
    "the class that inherits from the base class, extending or modifying the inherited functionality while adding its own\n",
    "unique characteristics.\n",
    "\n",
    "\"\"\""
   ]
  },
  {
   "cell_type": "markdown",
   "id": "2edffab5",
   "metadata": {},
   "source": [
    "# #4.What is the significance of the \"protected\" access modifier in inheritance? How does it differ from \"private\" and \"public\" modifiers?"
   ]
  },
  {
   "cell_type": "code",
   "execution_count": null,
   "id": "0faa576f",
   "metadata": {},
   "outputs": [],
   "source": [
    "\"\"\"\n",
    "Inheritance and access modifiers play a crucial role in encapsulation and controlling the visibility of members\n",
    "(attributes and methods) in object-oriented programming. The \"protected\" access modifier has a specific significance \n",
    "in the context of inheritance, and it differs from the \"private\" and \"public\" modifiers in the following ways:\n",
    " \n",
    "1.Private Access Modifier: The \"private\" access modifier restricts the visibility of a member to only the class in which\n",
    "it is defined. It prevents access to the member from any other class, including derived classes. Private members are \n",
    "encapsulated within the class, and they cannot be inherited or accessed directly by subclasses.\n",
    "\n",
    "2.Protected Access Modifier: The \"protected\" access modifier allows the visibility of a member within the class in \n",
    "which it is defined, as well as in its derived classes. Protected members are accessible by the class itself and any \n",
    "subclasses that inherit from it. This means that protected members can be inherited, accessed, and utilized by derived \n",
    "classes, but they remain hidden from other classes outside the inheritance hierarchy.\n",
    "\n",
    "The significance of the \"protected\" access modifier in inheritance can be summarized as follows:\n",
    "\n",
    "Inheritance and Code Reuse: Protected members enable code reuse by allowing derived classes to access and utilize the \n",
    "inherited members. This promotes the reuse of common functionality defined in the base class within its derived classes, \n",
    "enhancing code modularity and reducing duplication.\n",
    "\n",
    "Encapsulation and Controlled Access: By using the \"protected\" modifier, a class can expose certain members to its derived \n",
    "classes while still encapsulating them from external classes. This helps in maintaining the integrity of the class's \n",
    "internal implementation, as the protected members are hidden from unrelated classes.\n",
    "\n",
    "3.Public Access Modifier: The \"public\" access modifier provides the widest visibility for members. Public members are \n",
    "accessible from any class, including derived classes, as well as from code outside the class hierarchy. Public members \n",
    "are not limited to inheritance and can be accessed directly by any other class.\n",
    " \n",
    "To summarize the differences:\n",
    " \n",
    "Private members are only accessible within the class itself and are not inherited or accessible by derived classes. \n",
    "Protected members are accessible within the class itself and its derived classes, allowing for code reuse and controlled \n",
    "access. :Public members have the broadest visibility and can be accessed by any class, whether it is a derived class or \n",
    "not.\n",
    "\n",
    "The choice of access modifier depends on the desired level of encapsulation, information hiding, and the intended \n",
    "visibility of members to other classes, particularly in the context of inheritance.\n",
    "\n",
    "\n",
    "\"\"\""
   ]
  },
  {
   "cell_type": "markdown",
   "id": "7b28b140",
   "metadata": {},
   "source": [
    "# #5. What is the purpose of the \"super\" keyword in inheritance? Provide an example."
   ]
  },
  {
   "cell_type": "code",
   "execution_count": null,
   "id": "f59eb818",
   "metadata": {},
   "outputs": [],
   "source": [
    "\"\"\"\n",
    "The \"super\" keyword in inheritance is used to call a method from the parent class (superclass) within the child class \n",
    "(subclass). It allows the child class to access and utilize the functionalities of the parent class. This is particularly\n",
    "useful when you want to override a method in the child class while still retaining some of the behavior from the parent\n",
    "class.\n",
    "\n",
    "Let's provide an example in Python to illustrate the use of the \"super\" keyword:\n",
    "\n",
    "Suppose we have a parent class called Animal, which has a method called make_sound() that prints the sound of the animal. \n",
    "\n",
    "\n",
    "\"\"\""
   ]
  },
  {
   "cell_type": "code",
   "execution_count": 1,
   "id": "7fa313a8",
   "metadata": {},
   "outputs": [],
   "source": [
    "class Animal:\n",
    "    def __init__(self, name):\n",
    "        self.name = name\n",
    "\n",
    "    def make_sound(self):\n",
    "        print(\"Generic animal sound\")\n"
   ]
  },
  {
   "cell_type": "code",
   "execution_count": 2,
   "id": "d8076de4",
   "metadata": {},
   "outputs": [],
   "source": [
    "class Dog(Animal):\n",
    "    def __init__(self, name, breed):\n",
    "        super().__init__(name)\n",
    "        self.breed = breed\n",
    "\n",
    "    def make_sound(self):\n",
    "        print(\"Woof!\")\n"
   ]
  },
  {
   "cell_type": "code",
   "execution_count": 3,
   "id": "9094c3a0",
   "metadata": {},
   "outputs": [
    {
     "name": "stdout",
     "output_type": "stream",
     "text": [
      "Woof!\n"
     ]
    }
   ],
   "source": [
    "# Creating an instance of the Dog class\n",
    "dog_instance = Dog(\"Buddy\", \"Labrador\")\n",
    "\n",
    "# Calling the make_sound() method of the Dog class\n",
    "dog_instance.make_sound()\n",
    "\n"
   ]
  },
  {
   "cell_type": "code",
   "execution_count": null,
   "id": "9054d62b",
   "metadata": {},
   "outputs": [],
   "source": [
    "\"\"\"\n",
    "In this example, we have two classes, Animal and Dog. The Dog class inherits from the Animal class. We use the super() \n",
    "function in the __init__ method of the Dog class to call the __init__ method of the parent class, Animal, and initialize \n",
    "the name attribute. This allows us to reuse the code from the Animal class.\n",
    " \n",
    "Similarly, the make_sound() method in the Dog class overrides the make_sound() method of the Animal class. However, if we\n",
    "still want to use the functionality of the Animal class and print a generic animal sound, we can use the\n",
    "super().make_sound() statement inside the make_sound() method of the Dog class. This way, when we call \n",
    "dog_instance.make_sound(), it prints \"Woof!\" (from the Dog class) and not \"Generic animal sound\" (from the Animal class).\n",
    "\n",
    "\n",
    "\"\"\""
   ]
  },
  {
   "cell_type": "markdown",
   "id": "c92f9749",
   "metadata": {},
   "source": [
    "# 6. Create a base class called \"Vehicle\" with attributes like \"make\", \"model\", and \"year\".Then, create a derived class called \"Car\" that inherits from \"Vehicle\" and adds an attribute called \"fuel_type\". Implement appropriate methods in both classes."
   ]
  },
  {
   "cell_type": "code",
   "execution_count": 4,
   "id": "3da83453",
   "metadata": {},
   "outputs": [],
   "source": [
    "# Define the base class \"Vehicle\"\n",
    "class Vehicle:\n",
    "    def __init__(self, make, model, year):\n",
    "        self.make = make\n",
    "        self.model = model\n",
    "        self.year = year\n",
    "\n",
    "    def display_info(self):\n",
    "        print(f\"Make: {self.make}, Model: {self.model}, Year: {self.year}\")\n"
   ]
  },
  {
   "cell_type": "code",
   "execution_count": 5,
   "id": "c8870082",
   "metadata": {},
   "outputs": [],
   "source": [
    "# Define the derived class \"Car\" that inherits from \"Vehicle\"\n",
    "class Car(Vehicle):\n",
    "    def __init__(self, make, model, year, fuel_type):\n",
    "        super().__init__(make, model, year)\n",
    "        self.fuel_type = fuel_type\n",
    "\n",
    "    def display_info(self):\n",
    "        # Call the display_info() method of the base class and then add fuel_type information\n",
    "        super().display_info()\n",
    "        print(f\"Fuel Type: {self.fuel_type}\")\n"
   ]
  },
  {
   "cell_type": "code",
   "execution_count": 6,
   "id": "97cfd3cd",
   "metadata": {},
   "outputs": [
    {
     "name": "stdout",
     "output_type": "stream",
     "text": [
      "Make: Brand, Model: ModelX, Year: 2022\n"
     ]
    }
   ],
   "source": [
    "# Test the classes\n",
    "if __name__ == \"__main__\":\n",
    "    # Create a Vehicle instance\n",
    "    vehicle1 = Vehicle(\"Brand\", \"ModelX\", 2022)\n",
    "    vehicle1.display_info()\n"
   ]
  },
  {
   "cell_type": "code",
   "execution_count": 7,
   "id": "61e696eb",
   "metadata": {},
   "outputs": [
    {
     "name": "stdout",
     "output_type": "stream",
     "text": [
      "Make: Toyota, Model: Camry, Year: 2023\n",
      "Fuel Type: Gasoline\n"
     ]
    }
   ],
   "source": [
    "# Create a Car instance\n",
    "car1 = Car(\"Toyota\", \"Camry\", 2023, \"Gasoline\")\n",
    "car1.display_info()\n"
   ]
  },
  {
   "cell_type": "code",
   "execution_count": null,
   "id": "04e93cc0",
   "metadata": {},
   "outputs": [],
   "source": [
    "\"\"\"\n",
    "We first create the base class Vehicle with the make, model, and year attributes. It also has a method display_info() that\n",
    "prints the information about the vehicle.\n",
    "\n",
    "Next, we create the derived class Car that inherits from the Vehicle class. The Car class adds an additional attribute \n",
    "fuel_type and overrides the display_info() method to also display the fuel type.\n",
    "\n",
    "In the Car class, we use the super() function to call the __init__() method of the base class (Vehicle) to initialize the \n",
    "common attributes (make, model, and year).\n",
    "\n",
    "We then test the classes by creating instances of both Vehicle and Car classes and calling their display_info() methods to \n",
    "check if the information is displayed correctly.\n",
    "\n",
    "\n",
    "\"\"\""
   ]
  },
  {
   "cell_type": "markdown",
   "id": "361eb105",
   "metadata": {},
   "source": [
    "# 7. Create a base class called \"Employee\" with attributes like \"name\" and \"salary.\"Derive two classes, \"Manager\" and \"Developer,\" from \"Employee.\" Add an additionalattribute called \"department\" for the \"Manager\" class and \"programming_language\" for the \"Developer\" class.\n"
   ]
  },
  {
   "cell_type": "code",
   "execution_count": 8,
   "id": "d21cb4ac",
   "metadata": {},
   "outputs": [],
   "source": [
    "class Employee:\n",
    "    def __init__(self, name, salary):\n",
    "        self.name = name\n",
    "        self.salary = salary\n"
   ]
  },
  {
   "cell_type": "code",
   "execution_count": 9,
   "id": "2efd3a26",
   "metadata": {},
   "outputs": [],
   "source": [
    "class Manager(Employee):\n",
    "    def __init__(self, name, salary, department):\n",
    "        super().__init__(name, salary)\n",
    "        self.department = department\n"
   ]
  },
  {
   "cell_type": "code",
   "execution_count": 10,
   "id": "41b52f25",
   "metadata": {},
   "outputs": [],
   "source": [
    "class Developer(Employee):\n",
    "    def __init__(self, name, salary, programming_language):\n",
    "        super().__init__(name, salary)\n",
    "        self.programming_language = programming_language\n"
   ]
  },
  {
   "cell_type": "code",
   "execution_count": 14,
   "id": "afe5c177",
   "metadata": {},
   "outputs": [],
   "source": [
    "# Example usage:\n",
    "if __name__ == \"__main__\":\n",
    "    # Creating an instance of the Manager class\n",
    "    manager = Manager(\"K L Rahul\", 75000, \"HR\")\n",
    "    # Creating an instance of the Developer class\n",
    "    developer = Developer(\"Gary Kristen\", 65000, \"Python\")\n",
    "\n"
   ]
  },
  {
   "cell_type": "code",
   "execution_count": 15,
   "id": "f51835df",
   "metadata": {},
   "outputs": [
    {
     "name": "stdout",
     "output_type": "stream",
     "text": [
      "|Manager: K L Rahul|Salary: $75000|Department: HR|\n",
      "|Developer: Gary Kristen|Salary: $65000|Programming Language: Python|\n"
     ]
    }
   ],
   "source": [
    "# Accessing attributes\n",
    "print(f\"|Manager: {manager.name}|Salary: ${manager.salary}|Department: {manager.department}|\")\n",
    "print(f\"|Developer: {developer.name}|Salary: ${developer.salary}|Programming Language: {developer.programming_language}|\")\n",
    "\n"
   ]
  },
  {
   "cell_type": "markdown",
   "id": "86924dd6",
   "metadata": {},
   "source": [
    "# 8.Design a base class called \"Shape\" with attributes like \"colour\" and \"border_width.\"Create derived classes, \"Rectangle\" and \"Circle,\" that inherit from \"Shape\" and add specific attributes like \"length\" and \"width\" for the \"Rectangle\" class and \"radius\" for the \"Circle\" class.\n"
   ]
  },
  {
   "cell_type": "code",
   "execution_count": null,
   "id": "26c5dd68",
   "metadata": {},
   "outputs": [],
   "source": [
    "\"\"\"\n",
    "To implement the above requirements, we'll create a Python script with a base class called \"Shape\" and two derived classes,\n",
    "\"Rectangle\" and \"Circle.\" We'll add attributes to each class as specified in the guidelines.\n",
    "\"\"\""
   ]
  },
  {
   "cell_type": "code",
   "execution_count": 16,
   "id": "5b72dbc2",
   "metadata": {},
   "outputs": [],
   "source": [
    "#base class or parent class\n",
    "class Shape:\n",
    "    def __init__(self, colour, border_width):\n",
    "        self.colour = colour\n",
    "        self.border_width = border_width\n",
    "\n",
    "    def display_info(self):\n",
    "        print(f\"Colour: {self.colour}, Border Width: {self.border_width}\")\n"
   ]
  },
  {
   "cell_type": "code",
   "execution_count": 18,
   "id": "7916f202",
   "metadata": {},
   "outputs": [],
   "source": [
    "#rectangle class inheriting shape class\n",
    "class Rectangle(Shape):\n",
    "    def __init__(self, colour, border_width, length, width):\n",
    "        super().__init__(colour, border_width)\n",
    "        self.length = length\n",
    "        self.width = width\n",
    "\n",
    "    def display_info(self):\n",
    "        super().display_info()\n",
    "        print(f\"Length: {self.length}, Width: {self.width}\")\n",
    "\n",
    "    def area(self):\n",
    "        return self.length * self.width\n",
    "    "
   ]
  },
  {
   "cell_type": "code",
   "execution_count": 19,
   "id": "bdf52fac",
   "metadata": {},
   "outputs": [],
   "source": [
    "#circle class inheriting shape class\n",
    "class Circle(Shape):\n",
    "    def __init__(self, colour, border_width, radius):\n",
    "        super().__init__(colour, border_width)\n",
    "        self.radius = radius\n",
    "\n",
    "    def display_info(self):\n",
    "        super().display_info()\n",
    "        print(f\"Radius: {self.radius}\")\n",
    "\n",
    "    def area(self):\n",
    "        import math\n",
    "        return math.pi * self.radius ** 2\n"
   ]
  },
  {
   "cell_type": "code",
   "execution_count": 20,
   "id": "654ef4e5",
   "metadata": {},
   "outputs": [
    {
     "name": "stdout",
     "output_type": "stream",
     "text": [
      "Rectangle Information:\n",
      "Colour: Blue, Border Width: 2\n",
      "Length: 5, Width: 10\n",
      "Rectangle Area: 50\n",
      "\n",
      "Circle Information:\n",
      "Colour: Red, Border Width: 1\n",
      "Radius: 7\n",
      "Circle Area: 153.93804002589985\n"
     ]
    }
   ],
   "source": [
    "# Testing the classes\n",
    "if __name__ == \"__main__\":\n",
    "    # Creating instances of Rectangle and Circle\n",
    "    rect = Rectangle(\"Blue\", 2, 5, 10)\n",
    "    circle = Circle(\"Red\", 1, 7)\n",
    "\n",
    "    # Displaying information and calculating area\n",
    "    print(\"Rectangle Information:\")\n",
    "    rect.display_info()\n",
    "    print(\"Rectangle Area:\", rect.area())\n",
    "\n",
    "    print(\"\\nCircle Information:\")\n",
    "    circle.display_info()\n",
    "    print(\"Circle Area:\", circle.area())\n"
   ]
  },
  {
   "cell_type": "code",
   "execution_count": null,
   "id": "4f9abe2c",
   "metadata": {},
   "outputs": [],
   "source": [
    "\"\"\"\n",
    "Explanation:\n",
    "\n",
    "We define the Shape class with attributes colour and border_width. It has a method display_info() to display the shape's \n",
    "information.\n",
    "\n",
    "The Rectangle class is derived from the Shape class and has additional attributes length and width. It also overrides the \n",
    "display_info() method to include its specific information and defines an area() method to calculate the area of the \n",
    "rectangle.\n",
    "\n",
    "The Circle class is also derived from the Shape class and has an additional attribute radius. It overrides the \n",
    "display_info() method to include its specific information and defines an area() method to calculate the area of the circle.\n",
    "\n",
    "\n",
    "\"\"\""
   ]
  },
  {
   "cell_type": "markdown",
   "id": "c00fd657",
   "metadata": {},
   "source": [
    "# 9. Create a base class called \"Device\" with attributes like \"brand\" and \"model.\" Derive two classes, \"Phone\" and \"Tablet,\" from \"Device.\" Add specific attributes like \"screen_size\" for the \"Phone\" class and \"battery_capacity\" for the \"Tablet\" class.\n"
   ]
  },
  {
   "cell_type": "code",
   "execution_count": 21,
   "id": "10bd7a48",
   "metadata": {},
   "outputs": [],
   "source": [
    "class Device:\n",
    "    def __init__(self, brand, model):\n",
    "        self.brand = brand\n",
    "        self.model = model\n",
    "\n",
    "class Phone(Device):\n",
    "    def __init__(self, brand, model, screen_size):\n",
    "        super().__init__(brand, model)\n",
    "        self.screen_size = screen_size\n",
    "\n",
    "class Tablet(Device):\n",
    "    def __init__(self, brand, model, battery_capacity):\n",
    "        super().__init__(brand, model)\n",
    "        self.battery_capacity = battery_capacity\n"
   ]
  },
  {
   "cell_type": "code",
   "execution_count": 22,
   "id": "af32adaa",
   "metadata": {},
   "outputs": [],
   "source": [
    "# Create instances of Phone and Tablet classes\n",
    "phone1 = Phone(\"Apple\", \"iPhone X\", 6.1)\n",
    "tablet1 = Tablet(\"Samsung\", \"Galaxy Tab S7\", 8000)"
   ]
  },
  {
   "cell_type": "code",
   "execution_count": 23,
   "id": "7af62729",
   "metadata": {},
   "outputs": [
    {
     "name": "stdout",
     "output_type": "stream",
     "text": [
      "Phone: Apple iPhone X, Screen Size: 6.1 inches\n",
      "Tablet: Samsung Galaxy Tab S7, Battery Capacity: 8000 mAh\n"
     ]
    }
   ],
   "source": [
    "# Accessing attributes\n",
    "print(f\"Phone: {phone1.brand} {phone1.model}, Screen Size: {phone1.screen_size} inches\")\n",
    "print(f\"Tablet: {tablet1.brand} {tablet1.model}, Battery Capacity: {tablet1.battery_capacity} mAh\")"
   ]
  },
  {
   "cell_type": "code",
   "execution_count": null,
   "id": "2104beec",
   "metadata": {},
   "outputs": [],
   "source": [
    "\"\"\"\n",
    "Explanation:\n",
    "\n",
    "We created a base class called Device with attributes brand and model. The __init__ method initializes these attributes\n",
    "when an instance of the class is created.\n",
    "\n",
    "The Phone class is derived from the Device class using inheritance. It has an additional attribute screen_size specific to \n",
    "the phone.\n",
    "\n",
    "The Tablet class is also derived from the Device class and has an additional attribute battery_capacity specific to the\n",
    "tablet.\n",
    "\n",
    "With this implementation, you can create instances of the Phone and Tablet classes, and they will have access to the\n",
    "attributes of the base class Device as well as their specific attributes.\n",
    "\n",
    "\n",
    "\"\"\""
   ]
  },
  {
   "cell_type": "markdown",
   "id": "efa8bbba",
   "metadata": {},
   "source": [
    "# 10. Create a base class called \"BankAccount\" with attributes like \"account_number\" and \"balance.\" Derive two classes, \"SavingsAccount\" and \"CheckingAccount,\" from \"BankAccount.\" Add specific methods like \"calculate_interest\" for the \"SavingsAccount\" class and \"deduct_fees\" for the \"CheckingAccount\" class.\n"
   ]
  },
  {
   "cell_type": "code",
   "execution_count": 24,
   "id": "661e3c79",
   "metadata": {},
   "outputs": [],
   "source": [
    "class BankAccount:\n",
    "    def __init__(self, account_number, balance):\n",
    "        self.account_number = account_number\n",
    "        self.balance = balance\n",
    "\n",
    "    def deposit(self, amount):\n",
    "        self.balance += amount\n",
    "\n",
    "    def withdraw(self, amount):\n",
    "        if self.balance >= amount:\n",
    "            self.balance -= amount\n",
    "            return amount\n",
    "        else:\n",
    "            return \"Insufficient balance\"\n",
    "\n",
    "    def display_balance(self):\n",
    "        print(f\"Account Number: {self.account_number}\")\n",
    "        print(f\"Balance: {self.balance}\")\n",
    "\n"
   ]
  },
  {
   "cell_type": "code",
   "execution_count": 26,
   "id": "ca0d1480",
   "metadata": {},
   "outputs": [],
   "source": [
    "#savings class\n",
    "class SavingsAccount(BankAccount):\n",
    "    def __init__(self, account_number, balance):\n",
    "        super().__init__(account_number, balance)\n",
    "        self.interest_rate = 0.05\n",
    "\n",
    "    def calculate_interest(self):\n",
    "        interest = self.balance * self.interest_rate\n",
    "        self.balance += interest\n",
    "        return interest"
   ]
  },
  {
   "cell_type": "code",
   "execution_count": 27,
   "id": "115238b8",
   "metadata": {},
   "outputs": [],
   "source": [
    "class CheckingAccount(BankAccount):\n",
    "    def __init__(self, account_number, balance):\n",
    "        super().__init__(account_number, balance)\n",
    "        self.fees = 0.02\n",
    "\n",
    "    def deduct_fees(self):\n",
    "        fees = self.balance * self.fees\n",
    "        self.balance -= fees\n",
    "        return fees"
   ]
  },
  {
   "cell_type": "code",
   "execution_count": 28,
   "id": "2f2516c1",
   "metadata": {},
   "outputs": [
    {
     "name": "stdout",
     "output_type": "stream",
     "text": [
      "Account Number: SAV-123\n",
      "Balance: 1000\n",
      "Interest earned: 50.0\n",
      "Account Number: SAV-123\n",
      "Balance: 1050.0\n"
     ]
    }
   ],
   "source": [
    "# Test the implementation\n",
    "if __name__ == \"__main__\":\n",
    "    # Create SavingsAccount instance\n",
    "    savings_account = SavingsAccount(\"SAV-123\", 1000)\n",
    "    savings_account.display_balance()\n",
    "    interest = savings_account.calculate_interest()\n",
    "    print(f\"Interest earned: {interest}\")\n",
    "    savings_account.display_balance()"
   ]
  },
  {
   "cell_type": "code",
   "execution_count": 35,
   "id": "df4bab1e",
   "metadata": {},
   "outputs": [
    {
     "name": "stdout",
     "output_type": "stream",
     "text": [
      "Account Number: CHK-456\n",
      "Balance: 2000\n",
      "Fees Deducted: 40.0\n",
      "Account Number: CHK-456\n",
      "Balance: 1960.0\n"
     ]
    }
   ],
   "source": [
    "#Create CheckingAccount instance\n",
    "checking_account = CheckingAccount(\"CHK-456\", 2000)\n",
    "checking_account.display_balance()\n",
    "fees = checking_account.deduct_fees()\n",
    "print(f\"Fees Deducted: {fees}\")\n",
    "checking_account.display_balance()"
   ]
  },
  {
   "cell_type": "code",
   "execution_count": null,
   "id": "275e341b",
   "metadata": {},
   "outputs": [],
   "source": [
    "\"\"\"\n",
    "Explanation:\n",
    " \n",
    "The BankAccount class serves as the base class, containing attributes account_number and balance. It has methods to \n",
    "deposit, withdraw, and display the account balance.\n",
    "\n",
    "The SavingsAccount class is derived from BankAccount. It inherits the account_number and balance attributes and defines \n",
    "an additional attribute interest_rate. The calculate_interest method calculates the interest based on the balance and \n",
    "interest rate and adds it to the account balance.\n",
    "\n",
    "The CheckingAccount class is also derived from BankAccount. It inherits the account_number and balance attributes and \n",
    "defines an additional attribute fees. The deduct_fees method calculates the fees based on the account balance and deducts\n",
    "it from the balance.\n",
    "\n",
    "In the test section, we create instances of SavingsAccount and CheckingAccount to demonstrate the functionality of the \n",
    "classes. We call the calculate_interest method on the savings_account instance to calculate and add interest, and the \n",
    "deduct_fees method on the checking_account instance to deduct fees.\n",
    "\n",
    "\n",
    "\"\"\""
   ]
  }
 ],
 "metadata": {
  "kernelspec": {
   "display_name": "Python 3 (ipykernel)",
   "language": "python",
   "name": "python3"
  },
  "language_info": {
   "codemirror_mode": {
    "name": "ipython",
    "version": 3
   },
   "file_extension": ".py",
   "mimetype": "text/x-python",
   "name": "python",
   "nbconvert_exporter": "python",
   "pygments_lexer": "ipython3",
   "version": "3.11.0"
  }
 },
 "nbformat": 4,
 "nbformat_minor": 5
}
