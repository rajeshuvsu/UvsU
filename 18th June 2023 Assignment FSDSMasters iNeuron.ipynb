{
 "cells": [
  {
   "cell_type": "markdown",
   "id": "7c75f834",
   "metadata": {},
   "source": [
    "# 1.What is the role of the 'else' block in a try-except statement?"
   ]
  },
  {
   "cell_type": "code",
   "execution_count": null,
   "id": "5d03222f",
   "metadata": {},
   "outputs": [],
   "source": [
    "\"\"\"\n",
    "he 'else' block in a try-except statement is executed only if there is no exception raised in the corresponding \n",
    "'try' block. It is useful when you want to perform some actions if no exceptions occurred.\n",
    "\"\"\""
   ]
  },
  {
   "cell_type": "code",
   "execution_count": 1,
   "id": "07a299d9",
   "metadata": {},
   "outputs": [],
   "source": [
    "def divide(a, b):\n",
    "    try:\n",
    "        result = a / b\n",
    "    except ZeroDivisionError:\n",
    "        print(\"Error: Cannot divide by zero!\")\n",
    "    else:\n",
    "        print(\"Division result:\", result)\n"
   ]
  },
  {
   "cell_type": "code",
   "execution_count": 2,
   "id": "fa33dc98",
   "metadata": {},
   "outputs": [
    {
     "name": "stdout",
     "output_type": "stream",
     "text": [
      "Division result: 5.0\n"
     ]
    }
   ],
   "source": [
    "divide(10, 2)\n"
   ]
  },
  {
   "cell_type": "code",
   "execution_count": 3,
   "id": "972f759b",
   "metadata": {},
   "outputs": [
    {
     "name": "stdout",
     "output_type": "stream",
     "text": [
      "Error: Cannot divide by zero!\n"
     ]
    }
   ],
   "source": [
    "divide(10, 0) "
   ]
  },
  {
   "cell_type": "markdown",
   "id": "a31339db",
   "metadata": {},
   "source": [
    "# 2. Can a try-except block be nested inside another try-except block? Explain with an example"
   ]
  },
  {
   "cell_type": "code",
   "execution_count": null,
   "id": "37d04040",
   "metadata": {},
   "outputs": [],
   "source": [
    "\"\"\"\n",
    "Yes, a try-except block can be nested inside another try-except block. This allows handling different types of exceptions\n",
    "at different levels of code.\n",
    "\"\"\""
   ]
  },
  {
   "cell_type": "code",
   "execution_count": 4,
   "id": "67bb48f2",
   "metadata": {},
   "outputs": [],
   "source": [
    "def nested_example(a, b):\n",
    "    try:\n",
    "        result = a / b\n",
    "        try:\n",
    "            print(\"Result squared:\", result ** 2)\n",
    "        except TypeError:\n",
    "            print(\"Error: Result cannot be squared due to a TypeError.\")\n",
    "    except ZeroDivisionError:\n",
    "        print(\"Error: Cannot divide by zero!\")"
   ]
  },
  {
   "cell_type": "code",
   "execution_count": 5,
   "id": "a75af675",
   "metadata": {},
   "outputs": [
    {
     "name": "stdout",
     "output_type": "stream",
     "text": [
      "Result squared: 25.0\n"
     ]
    }
   ],
   "source": [
    "nested_example(10, 2)  "
   ]
  },
  {
   "cell_type": "code",
   "execution_count": 6,
   "id": "1c0fcd8d",
   "metadata": {},
   "outputs": [
    {
     "name": "stdout",
     "output_type": "stream",
     "text": [
      "Error: Cannot divide by zero!\n"
     ]
    }
   ],
   "source": [
    "nested_example(10, 0)  "
   ]
  },
  {
   "cell_type": "code",
   "execution_count": 7,
   "id": "65e05bbe",
   "metadata": {},
   "outputs": [
    {
     "name": "stdout",
     "output_type": "stream",
     "text": [
      "Result squared: 25.0\n"
     ]
    }
   ],
   "source": [
    "nested_example(10, 2.0)  "
   ]
  },
  {
   "cell_type": "code",
   "execution_count": 8,
   "id": "22fe9b7d",
   "metadata": {},
   "outputs": [
    {
     "ename": "TypeError",
     "evalue": "unsupported operand type(s) for /: 'int' and 'str'",
     "output_type": "error",
     "traceback": [
      "\u001b[1;31m---------------------------------------------------------------------------\u001b[0m",
      "\u001b[1;31mTypeError\u001b[0m                                 Traceback (most recent call last)",
      "Cell \u001b[1;32mIn[8], line 1\u001b[0m\n\u001b[1;32m----> 1\u001b[0m \u001b[43mnested_example\u001b[49m\u001b[43m(\u001b[49m\u001b[38;5;241;43m10\u001b[39;49m\u001b[43m,\u001b[49m\u001b[43m \u001b[49m\u001b[38;5;124;43m'\u001b[39;49m\u001b[38;5;124;43m2\u001b[39;49m\u001b[38;5;124;43m'\u001b[39;49m\u001b[43m)\u001b[49m  \n",
      "Cell \u001b[1;32mIn[4], line 3\u001b[0m, in \u001b[0;36mnested_example\u001b[1;34m(a, b)\u001b[0m\n\u001b[0;32m      1\u001b[0m \u001b[38;5;28;01mdef\u001b[39;00m \u001b[38;5;21mnested_example\u001b[39m(a, b):\n\u001b[0;32m      2\u001b[0m     \u001b[38;5;28;01mtry\u001b[39;00m:\n\u001b[1;32m----> 3\u001b[0m         result \u001b[38;5;241m=\u001b[39m \u001b[43ma\u001b[49m\u001b[43m \u001b[49m\u001b[38;5;241;43m/\u001b[39;49m\u001b[43m \u001b[49m\u001b[43mb\u001b[49m\n\u001b[0;32m      4\u001b[0m         \u001b[38;5;28;01mtry\u001b[39;00m:\n\u001b[0;32m      5\u001b[0m             \u001b[38;5;28mprint\u001b[39m(\u001b[38;5;124m\"\u001b[39m\u001b[38;5;124mResult squared:\u001b[39m\u001b[38;5;124m\"\u001b[39m, result \u001b[38;5;241m*\u001b[39m\u001b[38;5;241m*\u001b[39m \u001b[38;5;241m2\u001b[39m)\n",
      "\u001b[1;31mTypeError\u001b[0m: unsupported operand type(s) for /: 'int' and 'str'"
     ]
    }
   ],
   "source": [
    "nested_example(10, '2')  "
   ]
  },
  {
   "cell_type": "markdown",
   "id": "7d86d948",
   "metadata": {},
   "source": [
    "# 3. How can you create a custom exception class in Python? Provide an example that demonstrates its usage"
   ]
  },
  {
   "cell_type": "code",
   "execution_count": null,
   "id": "d511a48d",
   "metadata": {},
   "outputs": [],
   "source": [
    "\"\"\"\n",
    "In Python, we can define custom exceptions by creating a new class that is derived from the built-in Exception class.\n",
    "\n",
    "Here's the syntax to define custom exceptions,\n",
    "\n",
    "class CustomError(Exception):\n",
    "    ...\n",
    "    pass\n",
    "\n",
    "try:\n",
    "   ...\n",
    "\n",
    "except CustomError:\n",
    "    ...\n",
    "\n",
    "\"\"\""
   ]
  },
  {
   "cell_type": "code",
   "execution_count": 11,
   "id": "d64fe25d",
   "metadata": {},
   "outputs": [
    {
     "name": "stdout",
     "output_type": "stream",
     "text": [
      "Enter a number: 12\n",
      "Exception occurred: Invalid Age\n"
     ]
    }
   ],
   "source": [
    "# define Python user-defined exceptions\n",
    "class InvalidAgeException(Exception):\n",
    "    \"Raised when the input value is less than 18\"\n",
    "    pass\n",
    "\n",
    "# you need to guess this number\n",
    "number = 18\n",
    "\n",
    "try:\n",
    "    input_num = int(input(\"Enter a number: \"))\n",
    "    if input_num < number:\n",
    "        raise InvalidAgeException\n",
    "    else:\n",
    "        print(\"Eligible to Vote\")\n",
    "        \n",
    "except InvalidAgeException:\n",
    "    print(\"Exception occurred: Invalid Age\")"
   ]
  },
  {
   "cell_type": "markdown",
   "id": "f3d22be6",
   "metadata": {},
   "source": [
    "# 4. What are some common exceptions that are built-in to Python?"
   ]
  },
  {
   "cell_type": "code",
   "execution_count": null,
   "id": "40b222a5",
   "metadata": {},
   "outputs": [],
   "source": [
    "\"\"\"\n",
    "Some common built-in exceptions in Python include:\n",
    "\n",
    "ZeroDivisionError: Raised when dividing by zero. \n",
    "\n",
    "TypeError: Raised when an operation or function is applied to an object of inappropriate type. \n",
    "\n",
    "ValueError: Raised when a function receives an argument of the correct type but an inappropriate value.\n",
    "\n",
    "IndexError: Raised when trying to access an index that is out of range. \n",
    "\n",
    "KeyError: Raised when trying to access a non-existent key in a dictionary. \n",
    "\n",
    "FileNotFoundError: Raised when trying to open a file that does not exist. \n",
    "\n",
    "ImportError: Raised when a module or package cannot be imported. \n",
    "\n",
    "NameError: Raised when a variable is not defined\n",
    "\n",
    "\"\"\""
   ]
  },
  {
   "cell_type": "markdown",
   "id": "e22b5b77",
   "metadata": {},
   "source": [
    "# 5. What is logging in Python, and why is it important in software development?"
   ]
  },
  {
   "cell_type": "code",
   "execution_count": null,
   "id": "6f2f0c6f",
   "metadata": {},
   "outputs": [],
   "source": [
    "\"\"\"\n",
    "Logging is a way to store information about your script and track events that occur. When writing any complex script \n",
    "in Python, logging is essential for debugging software as you develop it. Without logging, finding the source of a problem\n",
    "in your code may be extremely time consuming\n",
    "\n",
    "There are many different ways to log events in Python. One common approach is to use the built-in logging module. \n",
    "The logging module provides a flexible and extensible mechanism for logging messages at different levels of severity.\n",
    "These messages can be sent to a variety of destinations, such as a console, a file, or a network stream.\n",
    "\n",
    "Another approach to logging is to use a third-party logging framework. There are many different logging frameworks \n",
    "available, each with its own strengths and weaknesses. Some popular logging frameworks include:\n",
    "Splunk, ELK Stack, Fluentbit, Logstash.\n",
    "\n",
    "Choosing a logging framework depends on a variety of factors, such as the size and complexity of the system, the desired \n",
    "level of flexibility, and the budget.\n",
    "\n",
    "Logging is an essential tool for software developers. It can help to identify and fix bugs, improve performance, \n",
    "and monitor the health of a system. There are many different ways to log events in Python, and the best approach will \n",
    "vary depending on the specific needs of the project.\n",
    "\n",
    "Here are some additional benefits of logging in Python:\n",
    "\n",
    "Debugging:\n",
    "Logging can help to identify and fix bugs by providing information about the state of the system when the bug occurred. \n",
    "This can help developers to quickly reproduce the bug and identify the root cause.\n",
    "\n",
    "Performance tuning:\n",
    "Logging can be used to identify bottlenecks in a program and improve performance. By understanding where the most time is \n",
    "being spent, developers can make changes to the code to improve performance.\n",
    "\n",
    "Monitoring:\n",
    "Logging can be used to monitor the health of a system by providing information about the system's performance and \n",
    "availability. This information can be used to identify potential problems before they cause outages.\n",
    "\n",
    "\n",
    "Python Logging Levels\n",
    "\n",
    "There are five built-in levels of the log message. \n",
    "\n",
    "Debug: These are used to give Detailed information, typically of interest only when diagnosing problems.\n",
    "\n",
    "Info: These are used to confirm that things are working as expected\n",
    "\n",
    "Warning: These are used as an indication that something unexpected happened, or is indicative of some problem in the \n",
    "near future\n",
    "\n",
    "Error: This tells that due to a more serious problem, the software has not been able to perform some function\n",
    "\n",
    "Critical: This tells serious error, indicating that the program itself may be unable to continue running\n",
    "\n",
    "\n",
    "\n",
    "\n",
    "Overall, logging is a powerful tool that can be used to improve the quality of software systems.\n",
    "\n",
    "\n",
    "\n",
    "\"\"\""
   ]
  },
  {
   "cell_type": "markdown",
   "id": "adfce767",
   "metadata": {},
   "source": [
    "# 6. Explain the purpose of log levels in Python logging and provide examples of when each log level would be appropriate."
   ]
  },
  {
   "cell_type": "code",
   "execution_count": null,
   "id": "91ce70e0",
   "metadata": {},
   "outputs": [],
   "source": [
    "\"\"\"\n",
    "Python logging provides different log levels to categorize log messages based on their severity. The common log levels are,\n",
    "in increasing order of severity:\n",
    "\n",
    "DEBUG: Detailed information, typically used for debugging purposes. INFO: General information about the program's \n",
    "execution. WARNING: Indicates potential issues or unusual situations that do not necessarily cause errors. \n",
    "ERROR: Indicates errors that can be recovered from. CRITICAL: Indicates critical errors that may lead to the termination \n",
    "of the program\n",
    "\n",
    "\"\"\""
   ]
  },
  {
   "cell_type": "code",
   "execution_count": 12,
   "id": "ad9b3ca7",
   "metadata": {},
   "outputs": [],
   "source": [
    "import logging\n",
    "\n",
    "logging.basicConfig(level=logging.DEBUG)\n",
    "\n",
    "def process_data(data):\n",
    "    logging.debug(\"Processing data: %s\", data)\n",
    "    # ... processing logic ...\n",
    "    logging.warning(\"Data processing completed, but with some warnings.\")\n",
    "    if error_occurred:\n",
    "        logging.error(\"An error occurred during data processing.\")\n",
    "    if critical_failure:\n",
    "        logging.critical(\"Critical failure. Aborting operation.\")"
   ]
  },
  {
   "cell_type": "code",
   "execution_count": 13,
   "id": "8576b937",
   "metadata": {},
   "outputs": [
    {
     "ename": "NameError",
     "evalue": "name 'some_data' is not defined",
     "output_type": "error",
     "traceback": [
      "\u001b[1;31m---------------------------------------------------------------------------\u001b[0m",
      "\u001b[1;31mNameError\u001b[0m                                 Traceback (most recent call last)",
      "Cell \u001b[1;32mIn[13], line 1\u001b[0m\n\u001b[1;32m----> 1\u001b[0m process_data(\u001b[43msome_data\u001b[49m)\n",
      "\u001b[1;31mNameError\u001b[0m: name 'some_data' is not defined"
     ]
    }
   ],
   "source": [
    "process_data(some_data)"
   ]
  },
  {
   "cell_type": "code",
   "execution_count": 14,
   "id": "303263b4",
   "metadata": {},
   "outputs": [
    {
     "name": "stderr",
     "output_type": "stream",
     "text": [
      "DEBUG:root:Processing data: some_data\n",
      "WARNING:root:Data processing completed, but with some warnings.\n"
     ]
    },
    {
     "ename": "NameError",
     "evalue": "name 'error_occurred' is not defined",
     "output_type": "error",
     "traceback": [
      "\u001b[1;31m---------------------------------------------------------------------------\u001b[0m",
      "\u001b[1;31mNameError\u001b[0m                                 Traceback (most recent call last)",
      "Cell \u001b[1;32mIn[14], line 1\u001b[0m\n\u001b[1;32m----> 1\u001b[0m \u001b[43mprocess_data\u001b[49m\u001b[43m(\u001b[49m\u001b[38;5;124;43m\"\u001b[39;49m\u001b[38;5;124;43msome_data\u001b[39;49m\u001b[38;5;124;43m\"\u001b[39;49m\u001b[43m)\u001b[49m\n",
      "Cell \u001b[1;32mIn[12], line 9\u001b[0m, in \u001b[0;36mprocess_data\u001b[1;34m(data)\u001b[0m\n\u001b[0;32m      7\u001b[0m \u001b[38;5;66;03m# ... processing logic ...\u001b[39;00m\n\u001b[0;32m      8\u001b[0m logging\u001b[38;5;241m.\u001b[39mwarning(\u001b[38;5;124m\"\u001b[39m\u001b[38;5;124mData processing completed, but with some warnings.\u001b[39m\u001b[38;5;124m\"\u001b[39m)\n\u001b[1;32m----> 9\u001b[0m \u001b[38;5;28;01mif\u001b[39;00m \u001b[43merror_occurred\u001b[49m:\n\u001b[0;32m     10\u001b[0m     logging\u001b[38;5;241m.\u001b[39merror(\u001b[38;5;124m\"\u001b[39m\u001b[38;5;124mAn error occurred during data processing.\u001b[39m\u001b[38;5;124m\"\u001b[39m)\n\u001b[0;32m     11\u001b[0m \u001b[38;5;28;01mif\u001b[39;00m critical_failure:\n",
      "\u001b[1;31mNameError\u001b[0m: name 'error_occurred' is not defined"
     ]
    }
   ],
   "source": [
    "process_data(\"some_data\")"
   ]
  },
  {
   "cell_type": "markdown",
   "id": "4100cf13",
   "metadata": {},
   "source": [
    "# 7. What are log formatters in Python logging, and how can you customise the log message format using formatters? "
   ]
  },
  {
   "cell_type": "code",
   "execution_count": null,
   "id": "8cc20c73",
   "metadata": {},
   "outputs": [],
   "source": [
    "\"\"\"\n",
    "Log formatters in Python logging are used to customize the way log messages are presented in the output. They define the \n",
    "structure and content of log records. Python provides a Formatter class to create custom log message formats.\n",
    "\n",
    "A logger formatter is a Python object that converts a LogRecord instance into a string representation. The Formatter class\n",
    "provides a number of predefined formatters, but it is also possible to create custom formatters.\n",
    "\n",
    "To create a custom formatter, you can subclass the Formatter class and override the format() method. The format() method \n",
    "takes a LogRecord instance as its only argument and returns a string representation of the log record.\n",
    "\n",
    "The following is an example of a custom formatter that adds a timestamp and a level name to each log record:\n",
    "\n",
    "\"\"\""
   ]
  },
  {
   "cell_type": "code",
   "execution_count": 29,
   "id": "3c070615",
   "metadata": {},
   "outputs": [],
   "source": [
    "import logging\n",
    "import time\n",
    "class CustomFormatter(logging.Formatter):\n",
    "\n",
    "    def __init__(self, fmt='%(asctime)s %(levelname)-8s %(message)s'):\n",
    "        super().__init__(fmt)\n",
    "\n",
    "    def format(self, record):\n",
    "        record.asctime = time.strftime('%H:%M:%S')\n",
    "        return super().format(record)"
   ]
  },
  {
   "cell_type": "code",
   "execution_count": 30,
   "id": "b4b80c0f",
   "metadata": {},
   "outputs": [
    {
     "name": "stderr",
     "output_type": "stream",
     "text": [
      "This is a debug message.\n",
      "This is a debug message.\n",
      "This is a debug message.\n",
      "2023-10-01 14:25:38,168 DEBUG    This is a debug message.\n",
      "This is a debug message.\n",
      "2023-10-01 14:25:38,168 DEBUG    This is a debug message.\n",
      "2023-10-01 14:25:38,168 - __main__ - DEBUG - This is a debug message.\n",
      "2023-10-01 14:25:38,168 - __main__ - DEBUG - This is a debug message.\n",
      "2023-10-01 14:25:38,168 - __main__ - DEBUG - This is a debug message.\n",
      "2023-10-01 14:25:38,168 - __main__ - DEBUG - This is a debug message.\n",
      "DEBUG:__main__:This is a debug message.\n",
      "This is an info message.\n",
      "This is an info message.\n",
      "This is an info message.\n",
      "2023-10-01 14:25:38,185 INFO     This is an info message.\n",
      "This is an info message.\n",
      "2023-10-01 14:25:38,185 INFO     This is an info message.\n",
      "2023-10-01 14:25:38,185 - __main__ - INFO - This is an info message.\n",
      "2023-10-01 14:25:38,185 - __main__ - INFO - This is an info message.\n",
      "2023-10-01 14:25:38,185 - __main__ - INFO - This is an info message.\n",
      "2023-10-01 14:25:38,185 - __main__ - INFO - This is an info message.\n",
      "INFO:__main__:This is an info message.\n"
     ]
    }
   ],
   "source": [
    "import logging\n",
    "\n",
    "# Create a logger\n",
    "logger = logging.getLogger(__name__)\n",
    "\n",
    "# Set the logger level to DEBUG\n",
    "logger.setLevel(logging.DEBUG)\n",
    "\n",
    "# Create a stream handler and add it to the logger\n",
    "handler = logging.StreamHandler()\n",
    "logger.addHandler(handler)\n",
    "\n",
    "# Use the custom formatter\n",
    "formatter = logging.Formatter('%(asctime)s - %(name)s - %(levelname)s - %(message)s')\n",
    "handler.setFormatter(formatter)\n",
    "\n",
    "# Log some messages\n",
    "logger.debug('This is a debug message.')\n",
    "logger.info('This is an info message.')"
   ]
  },
  {
   "cell_type": "markdown",
   "id": "b52c5001",
   "metadata": {},
   "source": [
    "# 8. How can you set up logging to capture log messages from multiple modules or classes in a Python application?"
   ]
  },
  {
   "cell_type": "code",
   "execution_count": null,
   "id": "04566aec",
   "metadata": {},
   "outputs": [],
   "source": [
    "\"\"\"\n",
    "To capture log messages from multiple modules or classes in a Python application, you can configure a root logger using \n",
    "logging.basicConfig() and then define loggers for specific modules or classes using logging.getLogger().\n",
    "\n",
    "To configure a root logger, you can use the logging.basicConfig() function. This function takes a number of arguments, \n",
    "including the log level, the format of the log messages, and the location of the log file. The following code shows an \n",
    "example of how to configure a root logger:\n",
    "\n",
    "\"\"\""
   ]
  },
  {
   "cell_type": "code",
   "execution_count": 31,
   "id": "1a71f661",
   "metadata": {},
   "outputs": [],
   "source": [
    "import logging\n",
    "\n",
    "logging.basicConfig(level=logging.INFO, format='%(asctime)s %(levelname)-8s %(message)s', filename='application.log')"
   ]
  },
  {
   "cell_type": "code",
   "execution_count": null,
   "id": "d9e3e959",
   "metadata": {},
   "outputs": [],
   "source": [
    "\"\"\"\n",
    "Once the root logger has been configured, you can define loggers for specific modules or classes using the \n",
    "logging.getLogger() function. The logging.getLogger() function takes a single argument, which is the name of the module \n",
    "or class. The following code shows an example of how to define a logger for a specific module:\n",
    "\n",
    "\"\"\""
   ]
  },
  {
   "cell_type": "code",
   "execution_count": 32,
   "id": "b9a61291",
   "metadata": {},
   "outputs": [],
   "source": [
    "import logging\n",
    "\n",
    "module_logger = logging.getLogger(__name__)"
   ]
  },
  {
   "cell_type": "code",
   "execution_count": null,
   "id": "cdb1e769",
   "metadata": {},
   "outputs": [],
   "source": [
    "\"\"\"\n",
    "The module_logger variable is now a logger object for the __name__ module. You can use this logger object to log messages \n",
    "from the __name__ module.\n",
    "\n",
    "You can also use the logging.getLogger() function to define loggers for specific classes. The following code shows an \n",
    "example of how to define a logger for a specific class:\n",
    "\n",
    "\"\"\""
   ]
  },
  {
   "cell_type": "code",
   "execution_count": 33,
   "id": "787f6c94",
   "metadata": {},
   "outputs": [],
   "source": [
    "import logging\n",
    "\n",
    "class Foo:\n",
    "\n",
    "    logger = logging.getLogger(__name__)\n",
    "\n",
    "    def __init__(self):\n",
    "        self.logger.info('The Foo class has been instantiated.')"
   ]
  },
  {
   "cell_type": "code",
   "execution_count": 35,
   "id": "ab61b12e",
   "metadata": {},
   "outputs": [
    {
     "name": "stderr",
     "output_type": "stream",
     "text": [
      "The Foo class has been instantiated.\n",
      "The Foo class has been instantiated.\n",
      "The Foo class has been instantiated.\n",
      "2023-10-01 14:31:47,081 INFO     The Foo class has been instantiated.\n",
      "The Foo class has been instantiated.\n",
      "2023-10-01 14:31:47,081 INFO     The Foo class has been instantiated.\n",
      "2023-10-01 14:31:47,081 - __main__ - INFO - The Foo class has been instantiated.\n",
      "2023-10-01 14:31:47,081 - __main__ - INFO - The Foo class has been instantiated.\n",
      "2023-10-01 14:31:47,081 - __main__ - INFO - The Foo class has been instantiated.\n",
      "2023-10-01 14:31:47,081 - __main__ - INFO - The Foo class has been instantiated.\n",
      "INFO:__main__:The Foo class has been instantiated.\n"
     ]
    }
   ],
   "source": [
    "obj = Foo()"
   ]
  },
  {
   "cell_type": "code",
   "execution_count": null,
   "id": "886d1d44",
   "metadata": {},
   "outputs": [],
   "source": [
    "\"\"\"\n",
    "The logger variable is now a logger object for the Foo class. You can use this logger object to log messages from the \n",
    "Foo class.\n",
    "\n",
    "By configuring a root logger and defining loggers for specific modules or classes, you can capture log messages from \n",
    "multiple modules or classes in a Python application.\n",
    "\n",
    "\"\"\""
   ]
  },
  {
   "cell_type": "code",
   "execution_count": 36,
   "id": "703e4cf9",
   "metadata": {},
   "outputs": [],
   "source": [
    "import logging\n",
    "\n",
    "logging.basicConfig(level=logging.DEBUG)\n",
    "\n",
    "# Create a logger for module A\n",
    "logger_module_a = logging.getLogger('module_a')\n",
    "\n",
    "# Create a logger for class B\n",
    "logger_class_b = logging.getLogger('module_a.ClassB')\n",
    "\n",
    "def some_function():\n",
    "    logger_module_a.debug(\"Message from module A.\")\n",
    "    logger_class_b.info(\"Message from Class B.\")"
   ]
  },
  {
   "cell_type": "code",
   "execution_count": 37,
   "id": "36952edc",
   "metadata": {},
   "outputs": [
    {
     "name": "stderr",
     "output_type": "stream",
     "text": [
      "DEBUG:module_a:Message from module A.\n",
      "INFO:module_a.ClassB:Message from Class B.\n"
     ]
    }
   ],
   "source": [
    "some_function()"
   ]
  },
  {
   "cell_type": "markdown",
   "id": "559e1a99",
   "metadata": {},
   "source": [
    "# 9. What is the difference between the logging and print statements in Python? Whenshould you use logging over print statements in a real-world application?"
   ]
  },
  {
   "cell_type": "code",
   "execution_count": null,
   "id": "cf610258",
   "metadata": {},
   "outputs": [],
   "source": [
    "\"\"\"\n",
    "The main differences between logging and print statements in Python are:\n",
    "\n",
    "Output Stream: print sends its output to the standard output stream (stdout), whereas logging sends its output to a \n",
    "variety of destinations (e.g., file, console, network) based on the logging configuration.\n",
    "\n",
    "Flexibility: logging provides different log levels, loggers, and handlers, allowing fine-grained control over what to \n",
    "log and where to log it. print statements, on the other hand, are simple and do not offer such configurability.\n",
    "\n",
    "Log Levels: Logging allows you to categorize log messages based on their severity, which is crucial for identifying and \n",
    "dealing with issues at different levels of importance. print statements are just meant for simple debugging and don't offer\n",
    "such differentiation.\n",
    "\n",
    "In real-world applications, it is generally better to use logging over print statements because:\n",
    "\n",
    "print statements can clutter the code, and removing them one by one for the final production version can be cumbersome. \n",
    "logging provides more control over logging behavior without modifying the code. In production environments, logging allows\n",
    "\n",
    "\"\"\""
   ]
  },
  {
   "cell_type": "markdown",
   "id": "38a84844",
   "metadata": {},
   "source": [
    "# 10. Write a Python program that logs a message to a file named \"app.log\" with the following requirements: ● The log message should be \"Hello, World!\" ● The log level should be set to \"INFO.\" ● The log file should append new log entries without overwriting previous ones."
   ]
  },
  {
   "cell_type": "code",
   "execution_count": 38,
   "id": "5b778a78",
   "metadata": {},
   "outputs": [
    {
     "name": "stderr",
     "output_type": "stream",
     "text": [
      "INFO:my_app_logger:Hello, World!\n"
     ]
    }
   ],
   "source": [
    "import logging\n",
    "import time\n",
    "\n",
    "def setup_logger():\n",
    "    # Create a logger\n",
    "    logger = logging.getLogger('my_app_logger')\n",
    "    logger.setLevel(logging.INFO)\n",
    "\n",
    "    # Create a file handler and set it to append mode\n",
    "    file_handler = logging.FileHandler('app.log', mode='a')\n",
    "\n",
    "    # Create a formatter to define the log message format\n",
    "    formatter = logging.Formatter('%(asctime)s - %(levelname)s - %(message)s')\n",
    "\n",
    "    # Set the formatter for the file handler\n",
    "    file_handler.setFormatter(formatter)\n",
    "\n",
    "    # Add the file handler to the logger\n",
    "    logger.addHandler(file_handler)\n",
    "\n",
    "    return logger\n",
    "\n",
    "def main():\n",
    "    logger = setup_logger()\n",
    "\n",
    "    # Log the message\n",
    "    logger.info(\"Hello, World!\")\n",
    "\n",
    "if __name__ == \"__main__\":\n",
    "    main()"
   ]
  },
  {
   "cell_type": "code",
   "execution_count": null,
   "id": "04a05e2e",
   "metadata": {},
   "outputs": [],
   "source": [
    "\"\"\"\n",
    "In this program, we first define a function setup_logger() that configures the logger with the specified log level, \n",
    "log file (app.log), and log message format. The log file is set to append mode ('a') to ensure new log entries are \n",
    "appended to the existing file without overwriting.\n",
    "\n",
    "The main() function sets up the logger using setup_logger() and logs the message \"Hello, World!\" using the info() method.\n",
    "When you run this program, it will create or append to the \"app.log\" file with the log message in the specified format and \n",
    "log level.\n",
    "\n",
    "\"\"\""
   ]
  },
  {
   "cell_type": "markdown",
   "id": "0fe36435",
   "metadata": {},
   "source": [
    "# 11. Create a Python program that logs an error message to the console and a file named\"errors.log\" if an exception occurs during the program's execution. The error message should include the exception type and a timestamp"
   ]
  },
  {
   "cell_type": "code",
   "execution_count": null,
   "id": "3ee54e35",
   "metadata": {},
   "outputs": [],
   "source": [
    "\"\"\"\n",
    "To achieve the given requirements, you can use the Python logging module and set up two handlers—one for logging to the\n",
    "console and another for logging to the \"errors.log\" file. We'll configure the logger to capture any exceptions that occur \n",
    "during the program's execution and log them with the required information. Here's the Python program:\n",
    "\n",
    "\"\"\""
   ]
  },
  {
   "cell_type": "code",
   "execution_count": 39,
   "id": "1b20991d",
   "metadata": {},
   "outputs": [
    {
     "name": "stderr",
     "output_type": "stream",
     "text": [
      "2023-10-01 14:39:06,104 - ERROR - Exception occurred: ValueError. This is a sample error.\n",
      "ERROR:my_error_logger:Exception occurred: ValueError. This is a sample error.\n",
      "2023-10-01 14:39:06,108 - ERROR - Traceback (most recent call last):\n",
      "  File \"C:\\Users\\RAJESH K\\AppData\\Local\\Temp\\ipykernel_13040\\1106353163.py\", line 36, in main\n",
      "    raise ValueError(\"This is a sample error.\")\n",
      "ValueError: This is a sample error.\n",
      "\n",
      "ERROR:my_error_logger:Traceback (most recent call last):\n",
      "  File \"C:\\Users\\RAJESH K\\AppData\\Local\\Temp\\ipykernel_13040\\1106353163.py\", line 36, in main\n",
      "    raise ValueError(\"This is a sample error.\")\n",
      "ValueError: This is a sample error.\n",
      "\n"
     ]
    }
   ],
   "source": [
    "import logging\n",
    "import traceback\n",
    "\n",
    "def setup_logger():\n",
    "    # Create a logger\n",
    "    logger = logging.getLogger('my_error_logger')\n",
    "    logger.setLevel(logging.ERROR)\n",
    "\n",
    "    # Create a console handler\n",
    "    console_handler = logging.StreamHandler()\n",
    "    console_handler.setLevel(logging.ERROR)\n",
    "\n",
    "    # Create a file handler and set it to append mode\n",
    "    file_handler = logging.FileHandler('errors.log', mode='a')\n",
    "    file_handler.setLevel(logging.ERROR)\n",
    "\n",
    "    # Create a formatter to define the log message format\n",
    "    formatter = logging.Formatter('%(asctime)s - %(levelname)s - %(message)s')\n",
    "\n",
    "    # Set the formatter for the handlers\n",
    "    console_handler.setFormatter(formatter)\n",
    "    file_handler.setFormatter(formatter)\n",
    "\n",
    "    # Add the handlers to the logger\n",
    "    logger.addHandler(console_handler)\n",
    "    logger.addHandler(file_handler)\n",
    "\n",
    "    return logger\n",
    "\n",
    "def main():\n",
    "    logger = setup_logger()\n",
    "\n",
    "    try:\n",
    "        # Your main program logic here\n",
    "        # For demonstration purposes, let's raise an exception\n",
    "        raise ValueError(\"This is a sample error.\")\n",
    "    except Exception as e:\n",
    "        # Log the error message with the exception type and timestamp\n",
    "        error_message = f\"Exception occurred: {type(e).__name__}. {e}\"\n",
    "        logger.error(error_message)\n",
    "        logger.error(traceback.format_exc())  # Log the traceback for detailed error information\n",
    "\n",
    "if __name__ == \"__main__\":\n",
    "    main()"
   ]
  },
  {
   "cell_type": "code",
   "execution_count": null,
   "id": "207b79c7",
   "metadata": {},
   "outputs": [],
   "source": [
    "\"\"\"\n",
    "In this program, we define a function setup_logger() that configures the logger with an error log level. We create two\n",
    "handlers—one for the console (console_handler) and another for the \"errors.log\" file (file_handler). Both handlers are \n",
    "set to capture log messages with an error log level or higher.\n",
    "\n",
    "In the main() function, we simulate an exception by raising a ValueError for demonstration purposes. You can replace this\n",
    "with your actual program logic that might raise exceptions. If an exception occurs, we capture the error message, the \n",
    "exception type, and the traceback using traceback.format_exc(). We then log this information to both the console and the\n",
    "\"errors.log\" file using the logger's error() method.\n",
    "\n",
    "When you run this program, any exceptions that occur during execution will be logged to the console and appended to the \n",
    "\"errors.log\" file with the required information\n",
    "\"\"\""
   ]
  }
 ],
 "metadata": {
  "kernelspec": {
   "display_name": "Python 3 (ipykernel)",
   "language": "python",
   "name": "python3"
  },
  "language_info": {
   "codemirror_mode": {
    "name": "ipython",
    "version": 3
   },
   "file_extension": ".py",
   "mimetype": "text/x-python",
   "name": "python",
   "nbconvert_exporter": "python",
   "pygments_lexer": "ipython3",
   "version": "3.11.0"
  }
 },
 "nbformat": 4,
 "nbformat_minor": 5
}
