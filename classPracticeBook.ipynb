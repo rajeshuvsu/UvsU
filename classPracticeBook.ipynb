{
 "cells": [
  {
   "cell_type": "code",
   "execution_count": 1,
   "id": "edf6f849",
   "metadata": {},
   "outputs": [
    {
     "name": "stdout",
     "output_type": "stream",
     "text": [
      "this is true\n",
      "0\n",
      "1\n",
      "2\n",
      "hello world\n",
      "None\n",
      "positive number\n",
      "54\n",
      "['apples', 'bananas', 'grapes']\n",
      "[1, 'alice', ['apples', 'bananas', 'grapes']]\n",
      "['apples', 'bananas', 'grapes']\n",
      "(1, 2, 3, 4, 5, 6)\n",
      "(1, 'alice', ('apples', 'bananas', 'grapes'))\n",
      "('apples', 'bananas', 'grapes')\n",
      "<class 'tuple'>\n",
      "\n",
      " {'rollno': 893, 'name': 'tom', 'percentage': 93, (1, 2): [4, 5, 6]}\n",
      "<class 'dict'>\n",
      "{'blue', 'green', 'red'}\n",
      "<class 'set'>\n",
      "my name is Tom\n",
      "Enter your name:tom\n",
      "How are you tom\n",
      "how are you,tom\n"
     ]
    }
   ],
   "source": [
    "if True:\n",
    "   print('this is true') # Error: expected an indented block\n",
    "\n",
    "for i in range(3):\n",
    "    print(i)  # Error: expected an indented block\n",
    "\n",
    "def hello():\n",
    "    print('hello world') #Error: expected an indented block\n",
    "print(hello())\n",
    "\n",
    "while False:\n",
    "     print('this wont print') #Error: expected an indented block\n",
    "\n",
    "\n",
    "x = 2\n",
    "if x >0:\n",
    "    print('positive number')\n",
    "    --x\n",
    "\n",
    "\n",
    "\n",
    "s = 1+2+3+5+6+9+\\\n",
    "3+9+7+9\n",
    "\n",
    "print(s)\n",
    "\n",
    "fruits = ['apples','bananas','grapes']\n",
    "print(fruits)\n",
    "\n",
    "hetro_mylist = [1,'alice',['apples','bananas','grapes']] #list can be mutable\n",
    "\n",
    "print(hetro_mylist)\n",
    "print(hetro_mylist[2])\n",
    "\n",
    "my_tuple = (1,2,3,4,5,6) #tuples are immutable\n",
    "print(my_tuple)\n",
    "#my_tuple[2] = 9\n",
    "#print(my_tuple)\n",
    "#both list and tuples are heterogeneous\n",
    "\n",
    "hetro_mylisttuples = (1,'alice',('apples','bananas','grapes')) #list can be mutable\n",
    "\n",
    "print(hetro_mylisttuples)\n",
    "print(hetro_mylisttuples[2])\n",
    "\n",
    "print(type(hetro_mylisttuples))\n",
    "\n",
    "#dictonary is mutable and heterogeneous\n",
    "person = {'rollno': 893,'name':'tom','percentage':93,(1,2):[4,5,6]}\n",
    "print('\\n',person)\n",
    "print(type(person))\n",
    "\"\"\"\n",
    "keys and values in dictonary can be any type . values can be hetero buts\n",
    "keys should be of an immutable type like int string and tuple\n",
    "\"\"\"\n",
    "#set is an unordered collection of items where evey element is unique\n",
    "color = {'blue','green','red'}\n",
    "print(color)\n",
    "print(type(color))\n",
    "\n",
    "#standard I/O\n",
    "#output\n",
    "print('my name is Tom')\n",
    "\n",
    "#input\n",
    "\n",
    "x = input(\"Enter your name:\")\n",
    "print('How are you',x)\n",
    "print(f'how are you,{x}')\n"
   ]
  },
  {
   "cell_type": "code",
   "execution_count": null,
   "id": "be91f21c",
   "metadata": {},
   "outputs": [],
   "source": []
  },
  {
   "cell_type": "code",
   "execution_count": null,
   "id": "575b1fa1",
   "metadata": {},
   "outputs": [],
   "source": []
  },
  {
   "cell_type": "code",
   "execution_count": 2,
   "id": "d22977bd",
   "metadata": {},
   "outputs": [
    {
     "name": "stdout",
     "output_type": "stream",
     "text": [
      "\n",
      " Paramaters :\n",
      " c(int) : the 1st variable\n",
      " d(int) : the 2nd variable\n",
      " Return:\n",
      " int : which is the sum of c and d\n",
      " \n"
     ]
    }
   ],
   "source": [
    "def add_num(c,d):\n",
    " \"\"\"\n",
    " Paramaters :\n",
    " c(int) : the 1st variable\n",
    " d(int) : the 2nd variable\n",
    " Return:\n",
    " int : which is the sum of c and d\n",
    " \"\"\"\n",
    "\n",
    " return c + d\n",
    "print(add_num.__doc__)\n"
   ]
  },
  {
   "cell_type": "code",
   "execution_count": 1,
   "id": "4644bb39",
   "metadata": {},
   "outputs": [
    {
     "data": {
      "text/plain": [
       "2"
      ]
     },
     "execution_count": 1,
     "metadata": {},
     "output_type": "execute_result"
    }
   ],
   "source": [
    "1+1\n"
   ]
  },
  {
   "cell_type": "code",
   "execution_count": null,
   "id": "23faff06",
   "metadata": {},
   "outputs": [],
   "source": []
  }
 ],
 "metadata": {
  "kernelspec": {
   "display_name": "Python 3 (ipykernel)",
   "language": "python",
   "name": "python3"
  },
  "language_info": {
   "codemirror_mode": {
    "name": "ipython",
    "version": 3
   },
   "file_extension": ".py",
   "mimetype": "text/x-python",
   "name": "python",
   "nbconvert_exporter": "python",
   "pygments_lexer": "ipython3",
   "version": "3.11.0"
  }
 },
 "nbformat": 4,
 "nbformat_minor": 5
}
