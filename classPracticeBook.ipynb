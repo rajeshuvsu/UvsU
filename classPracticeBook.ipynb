{
 "cells": [
  {
   "cell_type": "code",
   "execution_count": 1,
   "id": "edf6f849",
   "metadata": {},
   "outputs": [
    {
     "name": "stdout",
     "output_type": "stream",
     "text": [
      "this is true\n",
      "0\n",
      "1\n",
      "2\n",
      "hello world\n",
      "None\n",
      "positive number\n",
      "54\n",
      "['apples', 'bananas', 'grapes']\n",
      "[1, 'alice', ['apples', 'bananas', 'grapes']]\n",
      "['apples', 'bananas', 'grapes']\n",
      "(1, 2, 3, 4, 5, 6)\n",
      "(1, 'alice', ('apples', 'bananas', 'grapes'))\n",
      "('apples', 'bananas', 'grapes')\n",
      "<class 'tuple'>\n",
      "\n",
      " {'rollno': 893, 'name': 'tom', 'percentage': 93, (1, 2): [4, 5, 6]}\n",
      "<class 'dict'>\n",
      "{'blue', 'green', 'red'}\n",
      "<class 'set'>\n",
      "my name is Tom\n",
      "Enter your name:tom\n",
      "How are you tom\n",
      "how are you,tom\n"
     ]
    }
   ],
   "source": [
    "if True:\n",
    "   print('this is true') # Error: expected an indented block\n",
    "\n",
    "for i in range(3):\n",
    "    print(i)  # Error: expected an indented block\n",
    "\n",
    "def hello():\n",
    "    print('hello world') #Error: expected an indented block\n",
    "print(hello())\n",
    "\n",
    "while False:\n",
    "     print('this wont print') #Error: expected an indented block\n",
    "\n",
    "\n",
    "x = 2\n",
    "if x >0:\n",
    "    print('positive number')\n",
    "    --x\n",
    "\n",
    "\n",
    "\n",
    "s = 1+2+3+5+6+9+\\\n",
    "3+9+7+9\n",
    "\n",
    "print(s)\n",
    "\n",
    "fruits = ['apples','bananas','grapes']\n",
    "print(fruits)\n",
    "\n",
    "hetro_mylist = [1,'alice',['apples','bananas','grapes']] #list can be mutable\n",
    "\n",
    "print(hetro_mylist)\n",
    "print(hetro_mylist[2])\n",
    "\n",
    "my_tuple = (1,2,3,4,5,6) #tuples are immutable\n",
    "print(my_tuple)\n",
    "#my_tuple[2] = 9\n",
    "#print(my_tuple)\n",
    "#both list and tuples are heterogeneous\n",
    "\n",
    "hetro_mylisttuples = (1,'alice',('apples','bananas','grapes')) #list can be mutable\n",
    "\n",
    "print(hetro_mylisttuples)\n",
    "print(hetro_mylisttuples[2])\n",
    "\n",
    "print(type(hetro_mylisttuples))\n",
    "\n",
    "#dictonary is mutable and heterogeneous\n",
    "person = {'rollno': 893,'name':'tom','percentage':93,(1,2):[4,5,6]}\n",
    "print('\\n',person)\n",
    "print(type(person))\n",
    "\"\"\"\n",
    "keys and values in dictonary can be any type . values can be hetero buts\n",
    "keys should be of an immutable type like int string and tuple\n",
    "\"\"\"\n",
    "#set is an unordered collection of items where evey element is unique\n",
    "color = {'blue','green','red'}\n",
    "print(color)\n",
    "print(type(color))\n",
    "\n",
    "#standard I/O\n",
    "#output\n",
    "print('my name is Tom')\n",
    "\n",
    "#input\n",
    "\n",
    "x = input(\"Enter your name:\")\n",
    "print('How are you',x)\n",
    "print(f'how are you,{x}')\n"
   ]
  },
  {
   "cell_type": "code",
   "execution_count": null,
   "id": "c118e453",
   "metadata": {},
   "outputs": [],
   "source": []
  },
  {
   "cell_type": "code",
   "execution_count": null,
   "id": "ffbd5995",
   "metadata": {},
   "outputs": [],
   "source": []
  },
  {
   "cell_type": "code",
   "execution_count": 2,
   "id": "d22977bd",
   "metadata": {},
   "outputs": [
    {
     "name": "stdout",
     "output_type": "stream",
     "text": [
      "\n",
      " Paramaters :\n",
      " c(int) : the 1st variable\n",
      " d(int) : the 2nd variable\n",
      " Return:\n",
      " int : which is the sum of c and d\n",
      " \n"
     ]
    }
   ],
   "source": [
    "def add_num(c,d):\n",
    " \"\"\"\n",
    " Paramaters :\n",
    " c(int) : the 1st variable\n",
    " d(int) : the 2nd variable\n",
    " Return:\n",
    " int : which is the sum of c and d\n",
    " \"\"\"\n",
    "\n",
    " return c + d\n",
    "print(add_num.__doc__)\n"
   ]
  },
  {
   "cell_type": "code",
   "execution_count": 1,
   "id": "4644bb39",
   "metadata": {},
   "outputs": [
    {
     "data": {
      "text/plain": [
       "2"
      ]
     },
     "execution_count": 1,
     "metadata": {},
     "output_type": "execute_result"
    }
   ],
   "source": [
    "1+1\n"
   ]
  },
  {
   "cell_type": "code",
   "execution_count": 1,
   "id": "23faff06",
   "metadata": {},
   "outputs": [
    {
     "name": "stdout",
     "output_type": "stream",
     "text": [
      "['False', 'None', 'True', 'and', 'as', 'assert', 'async', 'await', 'break', 'class', 'continue', 'def', 'del', 'elif', 'else', 'except', 'finally', 'for', 'from', 'global', 'if', 'import', 'in', 'is', 'lambda', 'nonlocal', 'not', 'or', 'pass', 'raise', 'return', 'try', 'while', 'with', 'yield']\n"
     ]
    }
   ],
   "source": [
    "#what are packages?\n",
    "import keyword\n",
    "\n",
    "print(keyword.kwlist)\n"
   ]
  },
  {
   "cell_type": "code",
   "execution_count": 3,
   "id": "00c239ae",
   "metadata": {},
   "outputs": [
    {
     "name": "stdout",
     "output_type": "stream",
     "text": [
      "5.0\n"
     ]
    }
   ],
   "source": [
    "import math\n",
    "result = math.sqrt(25)\n",
    "print(result)"
   ]
  },
  {
   "cell_type": "code",
   "execution_count": 4,
   "id": "b9dffe3f",
   "metadata": {},
   "outputs": [
    {
     "name": "stdout",
     "output_type": "stream",
     "text": [
      "12.0\n"
     ]
    }
   ],
   "source": [
    "from math import sqrt\n",
    "result = sqrt(144)\n",
    "print(result)"
   ]
  },
  {
   "cell_type": "code",
   "execution_count": 13,
   "id": "159bce6f",
   "metadata": {},
   "outputs": [
    {
     "name": "stdout",
     "output_type": "stream",
     "text": [
      "170\n"
     ]
    }
   ],
   "source": [
    "import math\n",
    "m1 = 80\n",
    "m2 = 90\n",
    "\n",
    "tot = m1 + m2\n",
    "print(tot)"
   ]
  },
  {
   "cell_type": "code",
   "execution_count": 17,
   "id": "28757f4d",
   "metadata": {},
   "outputs": [
    {
     "name": "stdout",
     "output_type": "stream",
     "text": [
      "21\n",
      "21\n",
      "21\n",
      "21\n",
      "21\n"
     ]
    }
   ],
   "source": [
    "#a-z, A-Z, 0-9,_\n",
    "#you can start the variable using _\n",
    "_age = 21\n",
    "print(_age)\n",
    "\n",
    "#you can start the variable using small letter\n",
    "age = 21\n",
    "print(age)\n",
    "\n",
    "##you can start the variable using all capital letter\n",
    "AGE = 21\n",
    "print(AGE)\n",
    "\n",
    "#you can start the variable using capital letter\n",
    "Age = 21\n",
    "print(Age)\n",
    "\n",
    "#you cannot start the variable using number 0-9 but can be used in between\n",
    "_age123 = 21\n",
    "print(_age123)\n",
    "\n",
    "\n",
    "#you cannot start the variable using number 0-9 or digits\n",
    "#12_age = 21\n",
    "#print(12_age)"
   ]
  },
  {
   "cell_type": "code",
   "execution_count": 28,
   "id": "16526820",
   "metadata": {},
   "outputs": [
    {
     "name": "stdout",
     "output_type": "stream",
     "text": [
      "Positive Number\n",
      "positive number and it is more than 4\n"
     ]
    }
   ],
   "source": [
    "#Indentation?\n",
    "\n",
    "x =5\n",
    "# if x is greater than 2 i have to print 'positive number'\n",
    "if x > 2:\n",
    "  print('Positive Number')\n",
    "if x > 4:\n",
    "  print('positive number and it is more than 4')"
   ]
  },
  {
   "cell_type": "code",
   "execution_count": 29,
   "id": "d7fec8e7",
   "metadata": {},
   "outputs": [
    {
     "name": "stdout",
     "output_type": "stream",
     "text": [
      "<class 'int'>\n",
      "<class 'float'>\n",
      "<class 'str'>\n",
      "<class 'str'>\n"
     ]
    }
   ],
   "source": [
    "# integer,float,string.....\n",
    "\n",
    "a = 10 #its a integer\n",
    "print(type(a))\n",
    "b = 12.50 #its a float\n",
    "print(type(b))\n",
    "nm = 'tom'\n",
    "c = '12' #c is treated as string(char)\n",
    "print(type(nm))\n",
    "print(type(c))\n",
    "\n"
   ]
  },
  {
   "cell_type": "code",
   "execution_count": 33,
   "id": "6ae72bc8",
   "metadata": {},
   "outputs": [
    {
     "name": "stdout",
     "output_type": "stream",
     "text": [
      "['banana', 'grapes', 'apples']\n",
      "['banana', 'mango', 'apples']\n",
      "[1, 2, 3, 5.0, 6.8, 'lux']\n",
      "<class 'list'>\n",
      "<class 'list'>\n"
     ]
    }
   ],
   "source": [
    "#List \n",
    "fruits = ['banana','grapes','apples']\n",
    "print(fruits)\n",
    "# list are mutable \n",
    "fruits[1] = 'mango'\n",
    "print(fruits)\n",
    "#multiple data types which is hetrogenous\n",
    "a = [1,2,3,5.0,6.8,'lux']\n",
    "print(a)\n",
    "print(type(a))\n",
    "print(type(fruits))"
   ]
  },
  {
   "cell_type": "code",
   "execution_count": 37,
   "id": "ad7da17f",
   "metadata": {},
   "outputs": [
    {
     "name": "stdout",
     "output_type": "stream",
     "text": [
      "('banana', 'grapes', 'apples')\n",
      "<class 'tuple'>\n",
      "(1, 2, 3, 5.0, 6.8, 'lux')\n",
      "<class 'tuple'>\n"
     ]
    }
   ],
   "source": [
    "#Tuple\n",
    "\n",
    "fruits = ('banana','grapes','apples')\n",
    "#tuples are immutable and hetrogenous\n",
    "#fruits[1] = 'mango'\n",
    "print(fruits)\n",
    "print(type(fruits))\n",
    "\n",
    "a = (1,2,3,5.0,6.8,'lux')\n",
    "\n",
    "print(a)\n",
    "print(type(a))"
   ]
  },
  {
   "cell_type": "code",
   "execution_count": 4,
   "id": "26d247b6",
   "metadata": {},
   "outputs": [
    {
     "name": "stdout",
     "output_type": "stream",
     "text": [
      "{'name': 'Tom', 'subject': 'math', 'marks': 90}\n"
     ]
    }
   ],
   "source": [
    "#Dictonary\n",
    "#Dictonaries and list are mutable\n",
    "\n",
    "my_dict = {'name':'Tom','subject':'math','marks':90}\n",
    "print(my_dict)\n",
    "\n",
    "#list & tuples are ordered where as dictonary is not in order"
   ]
  },
  {
   "cell_type": "code",
   "execution_count": 21,
   "id": "53dfea9f",
   "metadata": {},
   "outputs": [
    {
     "name": "stdout",
     "output_type": "stream",
     "text": [
      "{'banana', 'cherries', 'apples'}\n",
      "({1, 2, 3, 4, 5, 'banana'}, {1, 2, 3, 4, 5, 6, 7, 8, 9})\n"
     ]
    }
   ],
   "source": [
    "#sets there are no keyvalue unlike dictionary\n",
    "#sets and dictonary are unordered\n",
    "\n",
    "fruits = {'banana','cherries','apples'}\n",
    "print(fruits)\n",
    "\n",
    "s1 = {1,2,3,4,5,'banana'}\n",
    "s2 = {1,2,3,4,5,6,7,8,9}\n",
    "\n",
    "s = s1,s2\n",
    "\n",
    "print(s)"
   ]
  },
  {
   "cell_type": "code",
   "execution_count": 20,
   "id": "e3ae5591",
   "metadata": {},
   "outputs": [],
   "source": [
    "#Table 1:name,salary,designation...main\n",
    "    \n",
    "#Table 2:name,salary,designation...city = bangalore"
   ]
  },
  {
   "cell_type": "code",
   "execution_count": 22,
   "id": "cf64df55",
   "metadata": {},
   "outputs": [
    {
     "data": {
      "text/plain": [
       "30"
      ]
     },
     "execution_count": 22,
     "metadata": {},
     "output_type": "execute_result"
    }
   ],
   "source": [
    "#Standard Input and ouput --- 27/05/2023\n",
    "\n",
    "a = 10\n",
    "b = 20\n",
    "c = a+b\n",
    "c\n",
    "\n"
   ]
  },
  {
   "cell_type": "code",
   "execution_count": 34,
   "id": "c05f54ff",
   "metadata": {},
   "outputs": [
    {
     "name": "stdout",
     "output_type": "stream",
     "text": [
      "Enter the number:\n",
      "23\n",
      "Enter the number:\n",
      "5\n",
      "addition 28\n",
      "substraction 18\n",
      "multiplication 115\n",
      "power function 6436343\n",
      "modulo function 3\n",
      "division 4.6\n",
      "this operater gives nearest Floor/integer division operator 4\n"
     ]
    }
   ],
   "source": [
    "#Operators\n",
    "\n",
    "#Arithmetic + - / * // ** % ... etc\n",
    "\n",
    "a = int(input('Enter the number:\\n'))\n",
    "\n",
    " \n",
    "b = int(input('Enter the number:\\n'))\n",
    "\n",
    "print('addition',a+b)\n",
    "print('substraction',a-b)\n",
    "print('multiplication',a*b)\n",
    "print('power function',a**b)\n",
    "print('modulo function',a%b)\n",
    "print('division',a/b)\n",
    "print('this operater gives nearest Floor/integer division operator',a//b) # this operater gives nearest Floor/integer division operator"
   ]
  },
  {
   "cell_type": "code",
   "execution_count": 54,
   "id": "19379228",
   "metadata": {},
   "outputs": [
    {
     "name": "stdout",
     "output_type": "stream",
     "text": [
      "Enter the number:25\n",
      "Enter the number:16\n",
      "False \n",
      "\n",
      "True \n",
      "\n",
      "True \n",
      "\n",
      "False \n",
      "\n",
      "True \n",
      "\n",
      "False \n",
      "\n",
      "16 \n",
      "\n",
      "25\n"
     ]
    }
   ],
   "source": [
    "#Comparison Operations\n",
    "\n",
    "a = int(input('Enter the number:'))\n",
    "\n",
    " \n",
    "b = int(input('Enter the number:'))\n",
    "\n",
    "print(a == b,'\\n') # a equals to b checking\n",
    "\n",
    "print(a != b,'\\n') # a is not equal to b checking\n",
    "\n",
    "print(a > b,'\\n') # a is greater than b checking\n",
    "\n",
    "print(a < b,'\\n') # a is less than b checking\n",
    "\n",
    "print(a >= b,'\\n') # a is greater than or equal to b checking\n",
    "\n",
    "print(a <= b,'\\n') # a is less than or equal to b checking\n",
    "\n",
    "\n",
    "\n",
    "print( a and b,'\\n')\n",
    "\n",
    "print(a or b)"
   ]
  },
  {
   "cell_type": "code",
   "execution_count": 62,
   "id": "6f8aabc5",
   "metadata": {},
   "outputs": [
    {
     "name": "stdout",
     "output_type": "stream",
     "text": [
      "False \n",
      "\n",
      "True \n",
      "\n",
      "False \n",
      "\n",
      "True \n",
      "\n"
     ]
    }
   ],
   "source": [
    "#logical operation\n",
    "#we have to apply for a job : two candidates are there : (1) more than 60% marks (2) you should be from cs, it\n",
    "#|------------------AND---------------------------------|\n",
    "# tom he has 75% marks and he is from arts = tom will go out \n",
    "# alice she has 61% marks and she is from cs = alce go and give interview\n",
    "\n",
    "#we have to apply for a job : two candidates are there : (1) more than 60% marks (2) you should be from cs, it\n",
    "#|------------------OR---------------------------------|\n",
    "# tom he has 75% marks and he is from arts \n",
    "# alice she has 61% marks and she is from cs\n",
    "#both tom and alice can attend the interview\n",
    "\n",
    "#|------------------NOT---------------------------------|\n",
    "#opposite to what you have\n",
    "\n",
    "a = True\n",
    "b = False\n",
    "\n",
    "print( a and b,'\\n')\n",
    "\n",
    "print(a or b,'\\n')\n",
    "\n",
    "print(not a and b,'\\n')\n",
    "\n",
    "print(a and not b,'\\n')"
   ]
  },
  {
   "cell_type": "code",
   "execution_count": 7,
   "id": "6146e1b2",
   "metadata": {},
   "outputs": [],
   "source": [
    "#Binary Numbers 0,1 this bit wise operators deals with this binary numbers"
   ]
  },
  {
   "cell_type": "code",
   "execution_count": 11,
   "id": "266b6663",
   "metadata": {},
   "outputs": [
    {
     "name": "stdout",
     "output_type": "stream",
     "text": [
      "14\n"
     ]
    }
   ],
   "source": [
    "#AND operator : &\n",
    "\n",
    "'''\n",
    "AND operator : & compares each bit of 1st operand with 2nd\n",
    "if both bits are 1, corrosponding bit is set to 1 otherwise to 0\n",
    "'''\n",
    "\n",
    "a = 10 #1010\n",
    "b = 4 #0100\n",
    "\n",
    "result = a & b\n",
    "#rint(result)\n",
    "#in(0)\n",
    "\n",
    "'''\n",
    "OR operator : | compares each bit of 1st operand with 2nd \n",
    "if either bit is 1, corrosponding bit is set to 1,otherwise the result bit is set to 0\n",
    "'''\n",
    "result = a | b\n",
    "#rint(result)\n",
    "#in(result)\n",
    "#1 0 1 0\n",
    "#0 1 0 0\n",
    "\n",
    "#result 1 1 1 0 equals to 14\n",
    "\n",
    "\n",
    "#NOT operator : ~\n",
    "#XOR operator : ^ compares each bit of 1st operand with 2nd\n",
    "#if one bit is 1 (but not both) ,corrosponding result is set to 1, otherwise 0\n",
    "\n",
    "result = a ^ b\n",
    "print(result)\n",
    "\n",
    "\n"
   ]
  },
  {
   "cell_type": "code",
   "execution_count": 14,
   "id": "4cf8e8bb",
   "metadata": {},
   "outputs": [
    {
     "name": "stdout",
     "output_type": "stream",
     "text": [
      "2\n",
      "40\n"
     ]
    }
   ],
   "source": [
    "#Right shift \n",
    "\n",
    "a = 10  #1010\n",
    "result = a >> 2\n",
    "#2 0010\n",
    "print(result)\n",
    "\n",
    "#Left Shift\n",
    "\n",
    "result = a << 2 #10 --- 1010   40-- 101000\n",
    "print(result)"
   ]
  },
  {
   "cell_type": "code",
   "execution_count": 16,
   "id": "ce74a9ab",
   "metadata": {},
   "outputs": [
    {
     "name": "stdout",
     "output_type": "stream",
     "text": [
      "8\n",
      "15\n",
      "1.6666666666666667\n"
     ]
    }
   ],
   "source": [
    "#Assignment operator\n",
    "\n",
    "x = 5\n",
    "x += 3 # x = x+3\n",
    "print(x)\n",
    "\n",
    "y = 5\n",
    "y *= 3\n",
    "print(y)\n",
    "\n",
    "z = 5\n",
    "z /= 3\n",
    "print(z)"
   ]
  },
  {
   "cell_type": "code",
   "execution_count": 17,
   "id": "31a50949",
   "metadata": {},
   "outputs": [
    {
     "name": "stdout",
     "output_type": "stream",
     "text": [
      "Enter the Age of the person:15\n",
      "Warning! not eligible to drive\n"
     ]
    }
   ],
   "source": [
    "#if statements\n",
    "\n",
    "age = int(input('Enter the Age of the person:'))\n",
    "if age >= 18:\n",
    "    print('you can drive')\n",
    "else:\n",
    "    print('Warning! not eligible to drive')"
   ]
  },
  {
   "cell_type": "code",
   "execution_count": 27,
   "id": "c4d7aa96",
   "metadata": {},
   "outputs": [
    {
     "name": "stdout",
     "output_type": "stream",
     "text": [
      "Enter the Score of the Student:85\n",
      "good performance, your garde is A\n"
     ]
    }
   ],
   "source": [
    "score = int(input('Enter the Score of the Student:'))\n",
    "if score > 90:\n",
    "    print('excellent perfomanace,your garde is A+')\n",
    "elif score >= 80:\n",
    "    print('good performance, your garde is A')\n",
    "elif score >= 70:\n",
    "    print('average performace,your grade is b')\n",
    "else:\n",
    "    print('performance not good,your grade is c')\n"
   ]
  },
  {
   "cell_type": "code",
   "execution_count": 32,
   "id": "132a7296",
   "metadata": {},
   "outputs": [
    {
     "name": "stdout",
     "output_type": "stream",
     "text": [
      "enter the number 1:15\n",
      "enter the number 2:60\n",
      "enter the number 3:100\n",
      "Largest Number is: 100\n"
     ]
    }
   ],
   "source": [
    "#Find the largest number from 3 given number\n",
    "\n",
    "num1 = int(input('enter the number 1:'))\n",
    "num2 = int(input('enter the number 2:'))\n",
    "num3 = int(input('enter the number 3:'))\n",
    "\n",
    "if (num1 >= num2) and (num1 >= num3):\n",
    "    largest = num1\n",
    "elif (num2 >= num1) and (num2 >= num3):\n",
    "    largest = num2\n",
    "else:\n",
    "    largest = num3\n",
    "print('Largest Number is:',largest)"
   ]
  },
  {
   "cell_type": "code",
   "execution_count": 35,
   "id": "57726d91",
   "metadata": {},
   "outputs": [
    {
     "name": "stdout",
     "output_type": "stream",
     "text": [
      "enter the choice(add/sub/mul/div):mul\n",
      "enter the number 1:20\n",
      "enter the number 2:25\n",
      "20.0 * 25.0 = 500.0\n"
     ]
    }
   ],
   "source": [
    "#Let us make a simple calculator which takes the choice of operation from user\n",
    "#also user can give two numbers which needed to be computed\n",
    "\n",
    "choice = input('enter the choice(add/sub/mul/div):')\n",
    "\n",
    "num1 = float(input('enter the number 1:'))\n",
    "num2 = float(input('enter the number 2:'))\n",
    "\n",
    "if choice == 'add':\n",
    "    print(num1,'+',num2,'=',num1 + num2)\n",
    "elif choice == 'sub':\n",
    "    print(num1,'-',num2,'=',num1 - num2)\n",
    "elif choice == 'mul':\n",
    "    print(num1,'*',num2,'=',num1 * num2)\n",
    "elif choice == 'div':\n",
    "    print(num1,'/',num2,'=',num1 / num2)\n",
    "    \n",
    "else:\n",
    "    print('you entered a wrong choice!! :)')\n"
   ]
  },
  {
   "cell_type": "code",
   "execution_count": 42,
   "id": "013b0fd9",
   "metadata": {},
   "outputs": [
    {
     "name": "stdout",
     "output_type": "stream",
     "text": [
      "Enter the Designation(1.Executive 2.Manager 3.Senior Manager):manager\n",
      "salary range is 1.50lakhs to 2.00lakhs per month\n"
     ]
    }
   ],
   "source": [
    "#we have 3 postions : executive, manager ,senior manager\n",
    "#take input from user 'designation' and print the salary range of that designation\n",
    "\n",
    "desgntn = input('Enter the Designation(1.Executive 2.Manager 3.Senior Manager):')\n",
    "\n",
    "desgntn = desgntn.lower() # converting the designation input to lower case\n",
    "\n",
    "if desgntn == 'executive':\n",
    "    print('salary range is more than 5.00lakhs per month')\n",
    "elif desgntn == 'manager':\n",
    "     print('salary range is 1.50lakhs to 2.00lakhs per month')\n",
    "elif desgntn == 'senior manager':\n",
    "    print('salary range is 2.50lakhs to 3.50lakhs per month')\n",
    "else:\n",
    "          print('you entered a wrong choice')"
   ]
  },
  {
   "cell_type": "code",
   "execution_count": 51,
   "id": "e38c2277",
   "metadata": {},
   "outputs": [
    {
     "name": "stdout",
     "output_type": "stream",
     "text": [
      "1\n",
      "6\n",
      "11\n",
      "16\n",
      "21\n",
      "26\n",
      "31\n",
      "36\n",
      "41\n",
      "46\n",
      "51\n",
      "56\n",
      "61\n",
      "66\n",
      "71\n",
      "76\n",
      "81\n",
      "86\n",
      "91\n",
      "96\n"
     ]
    }
   ],
   "source": [
    "#For Loop generating sequence of numbers 1,2,3,4,5..\n",
    "\n",
    "for i in range(0,100,5): #using range(start,stop,step)\n",
    "    print(i)\n",
    "\n"
   ]
  },
  {
   "cell_type": "code",
   "execution_count": 53,
   "id": "a631dae2",
   "metadata": {},
   "outputs": [
    {
     "name": "stdout",
     "output_type": "stream",
     "text": [
      "Yummy Yummy: apple\n",
      "Yummy Yummy: cherry\n",
      "Yummy Yummy: banana\n"
     ]
    }
   ],
   "source": [
    "#let us have for loop on list\n",
    "fruits = ['apple','cherry','banana']\n",
    "\n",
    "for fruit in fruits:\n",
    "    print('Yummy Yummy:',fruit)"
   ]
  },
  {
   "cell_type": "code",
   "execution_count": 54,
   "id": "cadad397",
   "metadata": {},
   "outputs": [
    {
     "name": "stdout",
     "output_type": "stream",
     "text": [
      "India\n",
      "UK\n",
      "USA\n",
      "Russia\n",
      "Germany\n",
      "France\n"
     ]
    }
   ],
   "source": [
    "country = ['India','UK','USA','Russia','Germany','France']\n",
    "\n",
    "for index in range(len(country)):\n",
    "    print(country[index])"
   ]
  },
  {
   "cell_type": "code",
   "execution_count": 1,
   "id": "d315a2e7",
   "metadata": {},
   "outputs": [
    {
     "name": "stdout",
     "output_type": "stream",
     "text": [
      "* \n",
      "* * \n",
      "* * * \n",
      "* * * * \n",
      "* * * * * \n",
      "* * * * * * \n",
      "* * * * * * * \n",
      "* * * * * * * * \n",
      "* * * * * * * * * \n",
      "* * * * * * * * * * \n"
     ]
    }
   ],
   "source": [
    "'''\n",
    "*  i= 0 , then j in range(1)\n",
    "** i= 1 , then j in range(2)\n",
    "*** i= 2 , then j in range(3)\n",
    "**** i= 3 , then j in range(4)\n",
    "***** i= 4 , then j in range(5)\n",
    "print the patern\n",
    "'''\n",
    "\n",
    "rows = 10\n",
    "for i in range(rows):\n",
    "    for j in range(i+1):\n",
    "        print('*',end=' ') #end=' ' to have space between *\n",
    "            \n",
    "    print()\n",
    "    "
   ]
  },
  {
   "cell_type": "code",
   "execution_count": 83,
   "id": "fbc3671c",
   "metadata": {},
   "outputs": [
    {
     "name": "stdout",
     "output_type": "stream",
     "text": [
      "1\n",
      "2\n",
      "3\n",
      "4\n",
      "5\n"
     ]
    }
   ],
   "source": [
    "#While Loop\n",
    "\n",
    "count = 1\n",
    "while count <= 5:\n",
    "    print(count)\n",
    "    count += 1"
   ]
  },
  {
   "cell_type": "code",
   "execution_count": 1,
   "id": "d31832f5",
   "metadata": {},
   "outputs": [
    {
     "name": "stdout",
     "output_type": "stream",
     "text": [
      "Enter a word (or quit to Exit):happy new year\n",
      "You Entered: happy new year\n",
      "Enter a word (or quit to Exit):hello welcome to world of coding\n",
      "You Entered: hello welcome to world of coding\n",
      "Enter a word (or quit to Exit):quit\n",
      "You Entered: quit\n"
     ]
    }
   ],
   "source": [
    "text = ''\n",
    "\n",
    "while text != 'quit':\n",
    "    text = input('Enter a word (or quit to Exit):')\n",
    "    text = text.upper()\n",
    "    print('You Entered:',text)"
   ]
  },
  {
   "cell_type": "code",
   "execution_count": 8,
   "id": "9fbd1869",
   "metadata": {},
   "outputs": [
    {
     "name": "stdout",
     "output_type": "stream",
     "text": [
      "Old Salary: [30000, 40000, 45000, 40000]\n",
      "Updated Salary: [30000, 40000, 45000, 42000.0]\n"
     ]
    }
   ],
   "source": [
    "#for we used generally we know when to stop\n",
    "#while is when stop condition is satisfied, we do not know\n",
    "\n",
    "#we have list nm = [Alice,Tom,Mary,James]\n",
    "#salary = [30000,40000,45000,40000]\n",
    "#give 5% bonus to James as he is performing great. Boss is happy\n",
    "\n",
    "nm = ['Alice','Tom','Mary','James']\n",
    "salary = [30000,40000,45000,40000]\n",
    "print('Old Salary:',salary)\n",
    "#first sub problem is we need to itirate both the list\n",
    "#we need to update the salary of james\n",
    "for i in range(len(nm)):\n",
    "    if nm[i] == 'James':\n",
    "        increment = salary[i]*0.05\n",
    "        salary[i] += increment\n",
    "print('Updated Salary:',salary)\n",
    "        \n",
    "        \n",
    "         \n",
    "              \n",
    "                \n",
    "        \n",
    "        \n",
    "      \n",
    "\n"
   ]
  },
  {
   "cell_type": "code",
   "execution_count": 1,
   "id": "117b86d9",
   "metadata": {},
   "outputs": [],
   "source": [
    "#June 3rd Live Class"
   ]
  },
  {
   "cell_type": "code",
   "execution_count": 3,
   "id": "51db0e9c",
   "metadata": {},
   "outputs": [
    {
     "name": "stdout",
     "output_type": "stream",
     "text": [
      "John Deo\n"
     ]
    }
   ],
   "source": [
    "name = 'John Deo'\n",
    "print(name)"
   ]
  },
  {
   "cell_type": "code",
   "execution_count": 4,
   "id": "17e2069a",
   "metadata": {},
   "outputs": [
    {
     "name": "stdout",
     "output_type": "stream",
     "text": [
      "h\n"
     ]
    }
   ],
   "source": [
    "#index is starting from 0,1,2,3.....n-1\n",
    "print(name[2])"
   ]
  },
  {
   "cell_type": "code",
   "execution_count": 5,
   "id": "4e41f748",
   "metadata": {},
   "outputs": [
    {
     "name": "stdout",
     "output_type": "stream",
     "text": [
      "h\n",
      "e\n",
      "l\n",
      "l\n",
      "o\n"
     ]
    }
   ],
   "source": [
    "for i in 'hello':\n",
    "    print(i)"
   ]
  },
  {
   "cell_type": "code",
   "execution_count": 7,
   "id": "a12ac802",
   "metadata": {},
   "outputs": [
    {
     "name": "stdout",
     "output_type": "stream",
     "text": [
      "10\n"
     ]
    }
   ],
   "source": [
    "pan = 'AAAAA0000B'\n",
    "print(len(pan))"
   ]
  },
  {
   "cell_type": "code",
   "execution_count": 12,
   "id": "46f40473",
   "metadata": {},
   "outputs": [
    {
     "name": "stdout",
     "output_type": "stream",
     "text": [
      "Data is there in tw\n",
      "True\n"
     ]
    }
   ],
   "source": [
    "tw = 'Indian economy growth is not as expected'\n",
    "if 'is' in tw:\n",
    "    print('Data is there in tw')\n",
    "print('economy' in tw)"
   ]
  },
  {
   "cell_type": "code",
   "execution_count": 24,
   "id": "ae8dee46",
   "metadata": {},
   "outputs": [
    {
     "name": "stdout",
     "output_type": "stream",
     "text": [
      "h\n",
      "John\n",
      "John\n",
      "John Deo\n",
      "Deo\n",
      "ohn\n"
     ]
    }
   ],
   "source": [
    "#Slicing string_name[start:end]\n",
    "#start is inclusive it includes the index value & end is exclusive it does not include the incluse the particular index value\n",
    "\n",
    "name = 'John Deo'\n",
    "print(name[2])\n",
    "\n",
    "print(name[0:4])  # index at 0 i.e., 'J' 1 is at 'o' ....\n",
    "\n",
    "print(name[:4]) #by default python starts at index 0\n",
    "print(name[0:]) #runs till the end\n",
    "\n",
    "print(name[-3:]) # \"John Deo\" third to last\n",
    "print(name[-7:4])"
   ]
  },
  {
   "cell_type": "code",
   "execution_count": 30,
   "id": "e9a52903",
   "metadata": {},
   "outputs": [
    {
     "name": "stdout",
     "output_type": "stream",
     "text": [
      "JOHN DEO\n",
      "john deo\n",
      "John deo\n",
      "['JOHN', 'DEO']\n"
     ]
    }
   ],
   "source": [
    "nm = 'john deo'\n",
    "print(nm.upper())\n",
    "\n",
    "print(nm.lower())\n",
    "\n",
    "print(nm.replace('j','J')) #replace(what,by)\n",
    "\n",
    "print(nm.upper().split(' '))"
   ]
  },
  {
   "cell_type": "code",
   "execution_count": 32,
   "id": "50aeac3b",
   "metadata": {},
   "outputs": [
    {
     "name": "stdout",
     "output_type": "stream",
     "text": [
      "John Deo\n"
     ]
    }
   ],
   "source": [
    "nm1 = 'John'\n",
    "nm2 = 'Deo'\n",
    "\n",
    "print(nm1 + ' ' + nm2)"
   ]
  },
  {
   "cell_type": "code",
   "execution_count": 34,
   "id": "a28b1476",
   "metadata": {},
   "outputs": [
    {
     "name": "stdout",
     "output_type": "stream",
     "text": [
      "['apple', 'banana', 'cherries']\n",
      "_______________________________\n",
      "['apple', 'mangoes', 'cherries']\n"
     ]
    }
   ],
   "source": [
    "list1 = ['apple','banana','cherries']\n",
    "print(list1)\n",
    "list1[1] = 'mangoes'\n",
    "print('_______________________________')\n",
    "print(list1)"
   ]
  },
  {
   "cell_type": "code",
   "execution_count": 35,
   "id": "0d5354a6",
   "metadata": {},
   "outputs": [
    {
     "name": "stdout",
     "output_type": "stream",
     "text": [
      "['apple', 'banana', 'cherries', 'grapes', 'almonds']\n",
      "_________________________________________________\n",
      "['apple', 'mangoes', 'blue berry', 'grapes', 'almonds']\n"
     ]
    }
   ],
   "source": [
    "list2 = ['apple','banana','cherries','grapes','almonds']\n",
    "print(list2)\n",
    "print('_________________________________________________')\n",
    "list2[1:3] = ['mangoes','blue berry']\n",
    "print(list2)"
   ]
  },
  {
   "cell_type": "code",
   "execution_count": 43,
   "id": "3b66ef19",
   "metadata": {},
   "outputs": [
    {
     "name": "stdout",
     "output_type": "stream",
     "text": [
      "['apple', 'banana', 'cherries']\n",
      "____________________________________\n",
      "['apple', 'mangoes', 'banana', 'cherries']\n"
     ]
    }
   ],
   "source": [
    "list3 = ['apple','banana','cherries',]\n",
    "print(list3)\n",
    "print('____________________________________')\n",
    "list3.insert(1,'mangoes') #appends at the specified index value\n",
    "print(list3)"
   ]
  },
  {
   "cell_type": "code",
   "execution_count": 44,
   "id": "66709682",
   "metadata": {},
   "outputs": [
    {
     "name": "stdout",
     "output_type": "stream",
     "text": [
      "['apple', 'banana', 'cherries']\n",
      "____________________________________\n",
      "['apple', 'banana', 'cherries', 'orange']\n"
     ]
    }
   ],
   "source": [
    "list4 = ['apple','banana','cherries',]\n",
    "print(list4)\n",
    "print('____________________________________')\n",
    "list4.append('orange') # append the list at the end\n",
    "print(list4)"
   ]
  },
  {
   "cell_type": "code",
   "execution_count": 51,
   "id": "f1a98511",
   "metadata": {},
   "outputs": [
    {
     "name": "stdout",
     "output_type": "stream",
     "text": [
      "['apple', 'banana', 'cherries']\n",
      "____________________________________\n",
      "['apple', 'banana', 'cherries', 'orange']\n",
      "['apple', 'cherries', 'orange']\n"
     ]
    }
   ],
   "source": [
    "list4 = ['apple','banana','cherries',]\n",
    "print(list4)\n",
    "print('____________________________________')\n",
    "list4.append('orange') # append the list at the end\n",
    "print(list4)\n",
    "\n",
    "list4.remove('banana')\n",
    "print(list4)"
   ]
  },
  {
   "cell_type": "code",
   "execution_count": 52,
   "id": "805b73ea",
   "metadata": {},
   "outputs": [
    {
     "name": "stdout",
     "output_type": "stream",
     "text": [
      "['apple', 'banana', 'cherries']\n",
      "____________________________________\n",
      "['apple', 'banana', 'cherries', 'orange']\n",
      "['apple', 'banana', 'orange']\n"
     ]
    }
   ],
   "source": [
    "list4 = ['apple','banana','cherries',]\n",
    "print(list4)\n",
    "print('____________________________________')\n",
    "list4.append('orange') # append the list at the end\n",
    "print(list4)\n",
    "\n",
    "list4.pop(2)\n",
    "print(list4)"
   ]
  },
  {
   "cell_type": "code",
   "execution_count": 53,
   "id": "a1a972f1",
   "metadata": {},
   "outputs": [
    {
     "name": "stdout",
     "output_type": "stream",
     "text": [
      "['apple', 'banana', 'cherries']\n",
      "____________________________________\n",
      "['apple', 'banana', 'cherries', 'orange']\n",
      "['apple', 'cherries', 'orange']\n"
     ]
    }
   ],
   "source": [
    "#remove() need to pass arguments\n",
    "#pop() index need to be passed\n",
    "#where as del method returns the removed element\n",
    "\n",
    "#the way it removes the element\n",
    "\n",
    "list4 = ['apple','banana','cherries',]\n",
    "print(list4)\n",
    "print('____________________________________')\n",
    "list4.append('orange') # append the list at the end\n",
    "print(list4)\n",
    "\n",
    "del list4[1]\n",
    "print(list4)"
   ]
  },
  {
   "cell_type": "code",
   "execution_count": 56,
   "id": "a14719d9",
   "metadata": {},
   "outputs": [
    {
     "name": "stdout",
     "output_type": "stream",
     "text": [
      "\n",
      "\n",
      "[0, 3, 2]\n",
      "[9, 7, 6]\n",
      "[4, 5]\n"
     ]
    }
   ],
   "source": [
    "\"\"\"\n",
    "What is the difference between pop() and del?\n",
    "del removes an element(s) by index. At the same time, pop() removes it by index and also returns the value. \n",
    "pop() is a function, and del is a keyword in Python.\n",
    "\n",
    "How are pop() and remove() similar?\n",
    "Both pop and remove are the in-built functions in Python which work on lists for deleting elements.\n",
    "\n",
    "What is the return value of pop()?\n",
    "The pop() function returns the popped element.\n",
    "\n",
    "What is the return value of remove()?\n",
    "It is a void return type function, i.e., it does not return anything.\n",
    "\n",
    "What if pop() is applied to an empty list?\n",
    "It will give an IndexError saying pop from an empty list. \n",
    "\n",
    "Can I pop() in a tuple like a list?\n",
    "No, tuples are immutable and don't have a pop method.\n",
    "\n",
    "Examples\n",
    "The effects of the three different methods to remove an element from a list:\n",
    "\n",
    "remove removes the first matching value, not a specific index:\n",
    "\n",
    "del removes the item at a specific index:\n",
    "\n",
    "and pop removes the item at a specific index and returns it.\n",
    "\n",
    "Use del to remove an element by index, pop() to remove it by index if you need the returned value, and \n",
    "remove() to delete an element by value\n",
    "\n",
    "Evidently, pop is the only one which returns the value, and remove is the only one which searches the object, \n",
    "while del limits itself to a simple deletion.\n",
    "\"\"\"\n",
    "print('\\n')\n",
    "a = [0, 2, 3, 2]\n",
    "a.remove(2)\n",
    "print(a)\n",
    "\n",
    "b = [9, 8, 7, 6]\n",
    "del b[1]\n",
    "print(b)\n",
    "\n",
    "c = [4, 3, 5]\n",
    "c.pop(1)\n",
    "print(c)"
   ]
  },
  {
   "cell_type": "code",
   "execution_count": 57,
   "id": "9bdfb1ef",
   "metadata": {},
   "outputs": [
    {
     "name": "stdout",
     "output_type": "stream",
     "text": [
      "apple\n",
      "banana\n",
      "cherries\n",
      "grapes\n",
      "almonds\n"
     ]
    }
   ],
   "source": [
    "list2 = ['apple','banana','cherries','grapes','almonds']\n",
    "for lst in list2:\n",
    "    print(lst)"
   ]
  },
  {
   "cell_type": "code",
   "execution_count": 61,
   "id": "9f14a576",
   "metadata": {},
   "outputs": [
    {
     "name": "stdout",
     "output_type": "stream",
     "text": [
      "5\n",
      "range(0, 5)\n",
      "apple\n",
      "banana\n",
      "cherries\n",
      "grapes\n",
      "almonds\n"
     ]
    }
   ],
   "source": [
    "list2 = ['apple','banana','cherries','grapes','almonds']\n",
    "print(len(list2))\n",
    "print(range(len(list2)))\n",
    "for lst in range(len(list2)):\n",
    "    print(list2[lst]) #print(lst) will give the index postions where as list2[lst] will give the list of elemnets"
   ]
  },
  {
   "cell_type": "code",
   "execution_count": 63,
   "id": "0fe1f716",
   "metadata": {},
   "outputs": [
    {
     "name": "stdout",
     "output_type": "stream",
     "text": [
      "['grapes']\n"
     ]
    }
   ],
   "source": [
    "list5 = ['apple','banana','cherries','grapes','almonds']\n",
    "newlist = []\n",
    "\n",
    "for lst in list5:\n",
    "    if 'g' in lst:\n",
    "        newlist.append(lst)\n",
    "print(newlist)"
   ]
  },
  {
   "cell_type": "code",
   "execution_count": 68,
   "id": "fda54d72",
   "metadata": {},
   "outputs": [
    {
     "name": "stdout",
     "output_type": "stream",
     "text": [
      "['grapes']\n"
     ]
    }
   ],
   "source": [
    "#list comprehention  or shortend code\n",
    "\n",
    "newlist = [lst for lst in list5 if 'g' in lst]\n",
    "print(newlist)"
   ]
  },
  {
   "cell_type": "code",
   "execution_count": 74,
   "id": "18e32355",
   "metadata": {},
   "outputs": [
    {
     "name": "stdout",
     "output_type": "stream",
     "text": [
      "['Almonds', 'Apple', 'Banana', 'Cherries', 'Grapes']\n",
      "['Grapes', 'Cherries', 'Banana', 'Apple', 'Almonds']\n"
     ]
    }
   ],
   "source": [
    "list6 = ['Apple','Banana','Cherries','Grapes','Almonds']\n",
    "list6.sort()\n",
    "print(list6)\n",
    "\n",
    "list6.sort(reverse = True)\n",
    "print(list6)\n"
   ]
  },
  {
   "cell_type": "code",
   "execution_count": 76,
   "id": "71c3697c",
   "metadata": {},
   "outputs": [
    {
     "name": "stdout",
     "output_type": "stream",
     "text": [
      "[1, 2, 5, 6, 7, 8, 9, 10]\n",
      "[10, 9, 8, 7, 6, 5, 2, 1]\n"
     ]
    }
   ],
   "source": [
    "lst = [1,6,9,8,10,2,5,7]\n",
    "\n",
    "lst.sort()\n",
    "print(lst)\n",
    "lst.sort(reverse = True)\n",
    "print(lst)"
   ]
  },
  {
   "cell_type": "code",
   "execution_count": 78,
   "id": "8ab17176",
   "metadata": {},
   "outputs": [
    {
     "name": "stdout",
     "output_type": "stream",
     "text": [
      "['Almonds', 'Apple', 'Banana', 'Cherries', 'Grapes']\n"
     ]
    }
   ],
   "source": [
    "lst1 = ['Apple','Banana','Cherries','Grapes','Almonds']\n",
    "lst2 = lst1.copy()\n",
    "lst2.sort()\n",
    "print(lst2)"
   ]
  },
  {
   "cell_type": "code",
   "execution_count": 79,
   "id": "4f02f90e",
   "metadata": {},
   "outputs": [
    {
     "name": "stdout",
     "output_type": "stream",
     "text": [
      "('Apple', 'Grapes')\n",
      "------------------------\n"
     ]
    },
    {
     "ename": "AttributeError",
     "evalue": "'tuple' object has no attribute 'insert'",
     "output_type": "error",
     "traceback": [
      "\u001b[1;31m---------------------------------------------------------------------------\u001b[0m",
      "\u001b[1;31mAttributeError\u001b[0m                            Traceback (most recent call last)",
      "Cell \u001b[1;32mIn[79], line 4\u001b[0m\n\u001b[0;32m      2\u001b[0m \u001b[38;5;28mprint\u001b[39m(tupl)\n\u001b[0;32m      3\u001b[0m \u001b[38;5;28mprint\u001b[39m(\u001b[38;5;124m'\u001b[39m\u001b[38;5;124m------------------------\u001b[39m\u001b[38;5;124m'\u001b[39m)\n\u001b[1;32m----> 4\u001b[0m \u001b[43mtupl\u001b[49m\u001b[38;5;241;43m.\u001b[39;49m\u001b[43minsert\u001b[49m(\u001b[38;5;241m1\u001b[39m,\u001b[38;5;124m'\u001b[39m\u001b[38;5;124mMango\u001b[39m\u001b[38;5;124m'\u001b[39m)\n\u001b[0;32m      5\u001b[0m \u001b[38;5;28mprint\u001b[39m(tupl)\n",
      "\u001b[1;31mAttributeError\u001b[0m: 'tuple' object has no attribute 'insert'"
     ]
    }
   ],
   "source": [
    "tupl = ('Apple',\"Grapes\")\n",
    "print(tupl)\n",
    "print('------------------------')\n",
    "tupl.insert(1,'Mango') #we cannot mute or alter the tuples once decleared\n",
    "print(tupl)"
   ]
  },
  {
   "cell_type": "code",
   "execution_count": 85,
   "id": "7d6568bb",
   "metadata": {},
   "outputs": [
    {
     "name": "stdout",
     "output_type": "stream",
     "text": [
      "Grapes\n",
      "Apple\n",
      "Grapes\n",
      "Mangoes\n",
      "0\n",
      "Apple\n",
      "1\n",
      "Grapes\n",
      "2\n",
      "Mangoes\n",
      "('Apple', 'Grapes', 'Mangoes', 1, 2, 3, 4)\n"
     ]
    }
   ],
   "source": [
    "tupl = ('Apple',\"Grapes\",'Mangoes')\n",
    "print(tupl[1])\n",
    "\n",
    "for tp in tupl:\n",
    "    print(tp)\n",
    "for tp in range(len(tupl)):\n",
    "    print(tp)\n",
    "    print(tupl[tp])\n",
    "\n",
    "tupl1 = (1,2,3,4)\n",
    "\n",
    "print(tupl + tupl1)"
   ]
  },
  {
   "cell_type": "code",
   "execution_count": 86,
   "id": "541e34b1",
   "metadata": {},
   "outputs": [],
   "source": [
    "#4th June Live Class Agenda Sets Disctonary and uers defined functions"
   ]
  },
  {
   "cell_type": "code",
   "execution_count": 87,
   "id": "8bd09c4b",
   "metadata": {},
   "outputs": [
    {
     "name": "stdout",
     "output_type": "stream",
     "text": [
      "{'UK', 'USA', 'India', 'Germany'}\n"
     ]
    }
   ],
   "source": [
    "#SETS\n",
    "set1 = {'India','USA','UK','Germany'} #sets we cannot change the inside the set and not inorder\n",
    "#you can remove and add the item\n",
    "#we change the list but not tuples\n",
    "#set can be mutable\n",
    "#we cannot have duplicates\n",
    "print(set1)"
   ]
  },
  {
   "cell_type": "code",
   "execution_count": 90,
   "id": "59bbdd3d",
   "metadata": {},
   "outputs": [
    {
     "name": "stdout",
     "output_type": "stream",
     "text": [
      "4\n",
      "{'UK', 'USA', 'India', 'Germany'}\n"
     ]
    },
    {
     "data": {
      "text/plain": [
       "'\\nUnlike lists, sets are unordered. You cannot access the elements of a set by index. The order you see when printing a set is not\\nnecessarily the order in which the elements were added.\\n\\nSets cannot contain duplicates. Duplicates are discarded when initializing a set. If adding an element to a set, and that \\nelement is already contained in the set, then the set will not change.\\n\\n\\n'"
      ]
     },
     "execution_count": 90,
     "metadata": {},
     "output_type": "execute_result"
    }
   ],
   "source": [
    "#we cannot have duplicates in set\n",
    "set2 = {'India','USA','UK','Germany','USA'}\n",
    "print(len(set2))\n",
    "print(set2)\n",
    "\"\"\"\n",
    "Unlike lists, sets are unordered. You cannot access the elements of a set by index. The order you see when printing a set is not\n",
    "necessarily the order in which the elements were added.\n",
    "\n",
    "Sets cannot contain duplicates. Duplicates are discarded when initializing a set. If adding an element to a set, and that \n",
    "element is already contained in the set, then the set will not change.\n",
    "\\n\n",
    "\"\"\""
   ]
  },
  {
   "cell_type": "code",
   "execution_count": 92,
   "id": "5b7e6fc8",
   "metadata": {},
   "outputs": [
    {
     "name": "stdout",
     "output_type": "stream",
     "text": [
      "{'UK', 'USA', 'India', 'Germany'}\n"
     ]
    }
   ],
   "source": [
    "set3 = set(('India','USA','UK','Germany')) #by using set constructor we can have sets\n",
    "print(set3)"
   ]
  },
  {
   "cell_type": "code",
   "execution_count": 96,
   "id": "56c37600",
   "metadata": {},
   "outputs": [
    {
     "name": "stdout",
     "output_type": "stream",
     "text": [
      "{5, 40, 10, 'India', 'Germany', 'USA', 20, 'UK', 30}\n",
      "{5, 40, 10, 'India', 'Germany', 'USA', 20, 'UK', 30}\n"
     ]
    }
   ],
   "source": [
    "set4 = {'India','USA','UK','Germany'}\n",
    "set5 = {10,20,30,40,5}\n",
    "#union()\n",
    "set6 = set4.union(set5) #new set is created\n",
    "print(set6)\n",
    "#update()\n",
    "set4.update(set5) #same set is updated here \n",
    "print(set4)\n"
   ]
  },
  {
   "cell_type": "code",
   "execution_count": 98,
   "id": "5a26fd7e",
   "metadata": {},
   "outputs": [
    {
     "name": "stdout",
     "output_type": "stream",
     "text": [
      "{'Germany'}\n",
      "{'Germany'}\n"
     ]
    }
   ],
   "source": [
    "#i just want to keep duplicate values\n",
    "set7 = {'India','USA','UK','Germany'}\n",
    "set8 = {'KSA','Italy','Germany','France'}\n",
    "\n",
    "#we use intersection update only duplicate items in both sets\n",
    "\n",
    "set7.intersection_update(set8) #updating the existing set\n",
    "\n",
    "print(set7)\n",
    "\n",
    "set9 = set7.intersection(set8) #creating new set after intersection\n",
    "print(set9)"
   ]
  },
  {
   "cell_type": "code",
   "execution_count": 2,
   "id": "02162012",
   "metadata": {},
   "outputs": [
    {
     "name": "stdout",
     "output_type": "stream",
     "text": [
      "{'France', 'UK', 'Italy', 'India', 'USA', 'KSA'}\n"
     ]
    }
   ],
   "source": [
    "set7 = {'India','USA','UK','Germany'}\n",
    "set8 = {'KSA','Italy','Germany','France'}\n",
    "\n",
    "\n",
    "\n",
    "set7.symmetric_difference_update(set8) \n",
    "\n",
    "print(set7)"
   ]
  },
  {
   "cell_type": "code",
   "execution_count": 3,
   "id": "9ec15d8c",
   "metadata": {},
   "outputs": [
    {
     "name": "stdout",
     "output_type": "stream",
     "text": [
      "{'Tom', 'Ally', 'John', 'Mary', 'Jerry'}\n"
     ]
    }
   ],
   "source": [
    "team1 = {'Tom','Alice','John'}\n",
    "team2 = {'Ally','Mary','Alice','Jerry'}\n",
    "team3 = team1.symmetric_difference(team2)\n",
    "print(team3)"
   ]
  },
  {
   "cell_type": "code",
   "execution_count": 6,
   "id": "7d544c15",
   "metadata": {},
   "outputs": [
    {
     "name": "stdout",
     "output_type": "stream",
     "text": [
      "Tom\n",
      "John\n",
      "Alice\n"
     ]
    }
   ],
   "source": [
    "for i in team1:\n",
    "    print(i)"
   ]
  },
  {
   "cell_type": "code",
   "execution_count": 11,
   "id": "7dafedc2",
   "metadata": {},
   "outputs": [
    {
     "name": "stdout",
     "output_type": "stream",
     "text": [
      "{'Tom', 'John', 'Alice'}\n",
      "{'Jerry', 'Mary', 'Ally', 'Alice'}\n"
     ]
    }
   ],
   "source": [
    "for i in team1,team2:\n",
    "    print(i)\n",
    "   "
   ]
  },
  {
   "cell_type": "code",
   "execution_count": 3,
   "id": "86ceeace",
   "metadata": {},
   "outputs": [
    {
     "name": "stdout",
     "output_type": "stream",
     "text": [
      "{'Name': 'Alice', 'Age': 20, 'City': 'Milan'}\n",
      "Alice\n"
     ]
    }
   ],
   "source": [
    "#dictionar\n",
    "dict1 = {'Name':'Alice','Age':20,'City':'Milan'}\n",
    "#python version 3.7 is ordered, but upto 3.6 version unordered\n",
    "#dictionaries does not allow duplicates\n",
    "#dictonary is associated with key : value\n",
    "print(dict1)\n",
    "#we can access the data item by keyvalue\n",
    "print(dict1['Name'])"
   ]
  },
  {
   "cell_type": "code",
   "execution_count": 10,
   "id": "73f80a88",
   "metadata": {},
   "outputs": [
    {
     "name": "stdout",
     "output_type": "stream",
     "text": [
      "{'Name': 'Alice', 'Age': 20, 'City': 'Goa'}\n",
      "<class 'dict'>\n",
      "dict_keys(['Name', 'Age', 'City'])\n"
     ]
    }
   ],
   "source": [
    "dict2 = {'Name':'Alice','Age':20,'City':'Milan','City':'Goa'}\n",
    "#Dict over riders with latest value\n",
    "print(dict2)\n",
    "print(type(dict2))\n",
    "\n",
    "ky = dict2.keys()\n",
    "print(ky)"
   ]
  },
  {
   "cell_type": "code",
   "execution_count": 11,
   "id": "312dcc3b",
   "metadata": {},
   "outputs": [
    {
     "name": "stdout",
     "output_type": "stream",
     "text": [
      "Name\n",
      "Age\n",
      "City\n"
     ]
    }
   ],
   "source": [
    "for k in ky:\n",
    "    print(k)"
   ]
  },
  {
   "cell_type": "code",
   "execution_count": 12,
   "id": "b24e5f4b",
   "metadata": {},
   "outputs": [
    {
     "name": "stdout",
     "output_type": "stream",
     "text": [
      "{'Name': 'Alice Tom', 'Age': 23, 'City': 'Milan'}\n"
     ]
    }
   ],
   "source": [
    "#dict() constructor\n",
    "\n",
    "dict3 = dict(Name = 'Alice Tom',Age = 23,City = 'Milan')\n",
    "print(dict3)\n"
   ]
  },
  {
   "cell_type": "code",
   "execution_count": 13,
   "id": "53bc4e92",
   "metadata": {},
   "outputs": [
    {
     "name": "stdout",
     "output_type": "stream",
     "text": [
      "{'Name': 'Alice', 'Age': 20, 'City': 'Milan', 'RollNo': '06M61A04B4'}\n",
      "{'Name': 'Alice Tom', 'Age': 20, 'City': 'Milan', 'RollNo': '06M61A04B4'}\n"
     ]
    }
   ],
   "source": [
    "dict4 = {'Name':'Alice','Age':20,'City':'Milan','RollNo':'06M61A04B4'}\n",
    "\n",
    "print(dict4)\n",
    "\n",
    "dict4['Name'] = 'Alice Tom'\n",
    "\n",
    "print(dict4)"
   ]
  },
  {
   "cell_type": "code",
   "execution_count": 17,
   "id": "417107ea",
   "metadata": {},
   "outputs": [
    {
     "name": "stdout",
     "output_type": "stream",
     "text": [
      "{'Name': 'Alice Tom', 'Age': 20, 'City': 'New York', 'RollNo': '06M61A04B4'}\n"
     ]
    }
   ],
   "source": [
    "\n",
    "dict4.update({'City':'New York'})#id the key value already then it will update the value\n",
    "print(dict4)"
   ]
  },
  {
   "cell_type": "code",
   "execution_count": 18,
   "id": "9db43416",
   "metadata": {},
   "outputs": [
    {
     "name": "stdout",
     "output_type": "stream",
     "text": [
      "{'Name': 'Alice Tom', 'Age': 20, 'City': 'New York', 'RollNo': '06M61A04B4', 'Grade': 'A'}\n"
     ]
    }
   ],
   "source": [
    "#add a new key vale to the dictonary\n",
    "\n",
    "dict4['Grade'] = 'A'\n",
    "print(dict4)"
   ]
  },
  {
   "cell_type": "code",
   "execution_count": 26,
   "id": "8483a7c6",
   "metadata": {},
   "outputs": [
    {
     "name": "stdout",
     "output_type": "stream",
     "text": [
      "{'Name': 'Alice', 'Age': 20, 'City': 'Milan', 'RollNo': '06M61A04B4', 'Grade': 'A+'}\n"
     ]
    }
   ],
   "source": [
    "#we can updated the dict\n",
    "dict5 = {'Name':'Alice','Age':20,'City':'Milan','RollNo':'06M61A04B4'}\n",
    "dict5.update({'Grade':'A+'})#if the key is not there then it will be add a key and value\n",
    "print(dict5)"
   ]
  },
  {
   "cell_type": "code",
   "execution_count": 27,
   "id": "87e7b488",
   "metadata": {},
   "outputs": [
    {
     "name": "stdout",
     "output_type": "stream",
     "text": [
      "{'Name': 'Alice', 'Age': 20, 'City': 'Milan', 'RollNo': '06M61A04B4'}\n"
     ]
    }
   ],
   "source": [
    "#delete the key value from the dict\n",
    "dict5.pop('Grade')\n",
    "print(dict5)\n"
   ]
  },
  {
   "cell_type": "code",
   "execution_count": 28,
   "id": "dffad0ae",
   "metadata": {},
   "outputs": [
    {
     "name": "stdout",
     "output_type": "stream",
     "text": [
      "{'Name': 'Alice', 'Age': 20, 'City': 'Milan', 'RollNo': '06M61A04B4'}\n",
      "{'Name': 'Alice', 'City': 'Milan', 'RollNo': '06M61A04B4'}\n"
     ]
    }
   ],
   "source": [
    "dict6 = {'Name':'Alice','Age':20,'City':'Milan','RollNo':'06M61A04B4'}\n",
    "print(dict6)\n",
    "del dict6['Age']\n",
    "print(dict6)"
   ]
  },
  {
   "cell_type": "code",
   "execution_count": 29,
   "id": "61b155e7",
   "metadata": {},
   "outputs": [
    {
     "name": "stdout",
     "output_type": "stream",
     "text": [
      "{'Name': 'Alice', 'City': 'Milan', 'RollNo': '06M61A04B4'}\n"
     ]
    },
    {
     "ename": "NameError",
     "evalue": "name 'dict6' is not defined",
     "output_type": "error",
     "traceback": [
      "\u001b[1;31m---------------------------------------------------------------------------\u001b[0m",
      "\u001b[1;31mNameError\u001b[0m                                 Traceback (most recent call last)",
      "Cell \u001b[1;32mIn[29], line 3\u001b[0m\n\u001b[0;32m      1\u001b[0m \u001b[38;5;28mprint\u001b[39m(dict6)\n\u001b[0;32m      2\u001b[0m \u001b[38;5;28;01mdel\u001b[39;00m dict6\n\u001b[1;32m----> 3\u001b[0m \u001b[38;5;28mprint\u001b[39m(\u001b[43mdict6\u001b[49m)\n",
      "\u001b[1;31mNameError\u001b[0m: name 'dict6' is not defined"
     ]
    }
   ],
   "source": [
    "print(dict6)\n",
    "del dict6\n",
    "print(dict6)"
   ]
  },
  {
   "cell_type": "code",
   "execution_count": 30,
   "id": "ce7a074f",
   "metadata": {},
   "outputs": [
    {
     "name": "stdout",
     "output_type": "stream",
     "text": [
      "{'Name': 'Alice', 'Age': 20, 'City': 'Milan', 'RollNo': '06M61A04B4'}\n",
      "{}\n"
     ]
    }
   ],
   "source": [
    "dict7 = {'Name':'Alice','Age':20,'City':'Milan','RollNo':'06M61A04B4'} \n",
    "print(dict7)\n",
    "dict7.clear()#cleares the dictionary\n",
    "print(dict7)"
   ]
  },
  {
   "cell_type": "code",
   "execution_count": 32,
   "id": "27436d85",
   "metadata": {},
   "outputs": [
    {
     "name": "stdout",
     "output_type": "stream",
     "text": [
      "Alice\n",
      "20\n",
      "Milan\n",
      "06M61A04B4\n"
     ]
    }
   ],
   "source": [
    "dct1 = {'Name':'Alice','Age':20,'City':'Milan','RollNo':'06M61A04B4'} \n",
    "\n",
    "for d in dct1.values(): #gives values\n",
    "    print(d)"
   ]
  },
  {
   "cell_type": "code",
   "execution_count": 33,
   "id": "5a6c8105",
   "metadata": {},
   "outputs": [
    {
     "name": "stdout",
     "output_type": "stream",
     "text": [
      "Name\n",
      "Age\n",
      "City\n",
      "RollNo\n"
     ]
    }
   ],
   "source": [
    "dct1 = {'Name':'Alice','Age':20,'City':'Milan','RollNo':'06M61A04B4'} \n",
    "\n",
    "for d in dct1: #gives Key\n",
    "    print(d)"
   ]
  },
  {
   "cell_type": "code",
   "execution_count": 34,
   "id": "d580696f",
   "metadata": {},
   "outputs": [
    {
     "name": "stdout",
     "output_type": "stream",
     "text": [
      "{'Name': 'Alice', 'Age': 20, 'City': 'Milan', 'RollNo': '06M61A04B4'}\n"
     ]
    }
   ],
   "source": [
    "dct2 = {'Name':'Alice','Age':20,'Designation':'Manager'}\n",
    "dct3 = dct1.copy() #copies the dct2 items into dct3\n",
    "print(dct3)"
   ]
  },
  {
   "cell_type": "code",
   "execution_count": 35,
   "id": "512bd5e1",
   "metadata": {},
   "outputs": [
    {
     "name": "stdout",
     "output_type": "stream",
     "text": [
      "{'d1': {'Name': 'Alice', 'Age': 20}, 'd2': {'Name': 'Tom', 'Age': 23}, 'd3': {'Name': 'Gary', 'Age': 21}}\n"
     ]
    }
   ],
   "source": [
    "#Nested Dictonary\n",
    "\n",
    "d = {'d1':{'Name':'Alice','Age':20},'d2':{'Name':'Tom','Age':23},'d3':{'Name':'Gary','Age':21}}\n",
    "\n",
    "print(d)"
   ]
  },
  {
   "cell_type": "code",
   "execution_count": 38,
   "id": "fc9035f0",
   "metadata": {},
   "outputs": [
    {
     "name": "stdout",
     "output_type": "stream",
     "text": [
      "{'Name': 'Alice', 'Age': 20}\n",
      "{'Name': 'Tom', 'Age': 23}\n",
      "{'Name': 'Gary', 'Age': 21}\n"
     ]
    }
   ],
   "source": [
    "for i in d.values():\n",
    "    print(i)"
   ]
  },
  {
   "cell_type": "code",
   "execution_count": 1,
   "id": "250209bb",
   "metadata": {},
   "outputs": [
    {
     "name": "stdout",
     "output_type": "stream",
     "text": [
      "this is my 3rd week of lecture\n"
     ]
    }
   ],
   "source": [
    "#Why we need function \n",
    "#key word to define function is def\n",
    "def myFirstFun():\n",
    "    print('this is my 3rd week of lecture')\n",
    "\n",
    "myFirstFun() #untill unless we call the function wemcannot execute the function method"
   ]
  },
  {
   "cell_type": "code",
   "execution_count": 8,
   "id": "5312ab70",
   "metadata": {},
   "outputs": [
    {
     "name": "stdout",
     "output_type": "stream",
     "text": [
      "Please Enter the Name of the Student:Gary Kristen\n",
      "Gary Kristen is a good performing student\n"
     ]
    }
   ],
   "source": [
    "def mySendFun(name):\n",
    "    print(name + ' is a good performing student')\n",
    "\n",
    "nm = input('Please Enter the Name of the Student:') # can take input from the user\n",
    "mySendFun(nm) #function calling with single argument"
   ]
  },
  {
   "cell_type": "code",
   "execution_count": 15,
   "id": "dac8f606",
   "metadata": {},
   "outputs": [
    {
     "name": "stdout",
     "output_type": "stream",
     "text": [
      "Enter the Number1 : 78\n",
      "Enter the Number2 : 12\n",
      "Addition: 90\n",
      "Sustration: 66\n",
      "Division: 6.5\n",
      "Multiplication: 936\n",
      "Modulo: 6\n"
     ]
    }
   ],
   "source": [
    "#Calculator Funtion\n",
    "\n",
    "def myAdd(a,b):\n",
    "    print('Addition:',a + b)\n",
    "    \n",
    "def mySub(a,b):\n",
    "    print('Sustration:',a - b)\n",
    "    \n",
    "def myDiv(a,b):\n",
    "    print('Division:',a / b)\n",
    "    \n",
    "def myMul(a,b):\n",
    "    print('Multiplication:',a * b)\n",
    "    \n",
    "def myMod(a,b):\n",
    "    print('Modulo:',a % b)\n",
    "    \n",
    "i = int(input('Enter the Number1 : '))\n",
    "j = int(input('Enter the Number2 : '))\n",
    "\n",
    "myAdd(i,j)\n",
    "mySub(i,j)\n",
    "myDiv(i,j)\n",
    "myMul(i,j)\n",
    "myMod(i,j)"
   ]
  },
  {
   "cell_type": "code",
   "execution_count": null,
   "id": "499bd7b4",
   "metadata": {},
   "outputs": [],
   "source": []
  }
 ],
 "metadata": {
  "kernelspec": {
   "display_name": "Python 3 (ipykernel)",
   "language": "python",
   "name": "python3"
  },
  "language_info": {
   "codemirror_mode": {
    "name": "ipython",
    "version": 3
   },
   "file_extension": ".py",
   "mimetype": "text/x-python",
   "name": "python",
   "nbconvert_exporter": "python",
   "pygments_lexer": "ipython3",
   "version": "3.11.0"
  }
 },
 "nbformat": 4,
 "nbformat_minor": 5
}
