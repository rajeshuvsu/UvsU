{
 "cells": [
  {
   "cell_type": "code",
   "execution_count": 1,
   "id": "edf6f849",
   "metadata": {},
   "outputs": [
    {
     "name": "stdout",
     "output_type": "stream",
     "text": [
      "this is true\n",
      "0\n",
      "1\n",
      "2\n",
      "hello world\n",
      "None\n",
      "positive number\n",
      "54\n",
      "['apples', 'bananas', 'grapes']\n",
      "[1, 'alice', ['apples', 'bananas', 'grapes']]\n",
      "['apples', 'bananas', 'grapes']\n",
      "(1, 2, 3, 4, 5, 6)\n",
      "(1, 'alice', ('apples', 'bananas', 'grapes'))\n",
      "('apples', 'bananas', 'grapes')\n",
      "<class 'tuple'>\n",
      "\n",
      " {'rollno': 893, 'name': 'tom', 'percentage': 93, (1, 2): [4, 5, 6]}\n",
      "<class 'dict'>\n",
      "{'blue', 'green', 'red'}\n",
      "<class 'set'>\n",
      "my name is Tom\n",
      "Enter your name:tom\n",
      "How are you tom\n",
      "how are you,tom\n"
     ]
    }
   ],
   "source": [
    "if True:\n",
    "   print('this is true') # Error: expected an indented block\n",
    "\n",
    "for i in range(3):\n",
    "    print(i)  # Error: expected an indented block\n",
    "\n",
    "def hello():\n",
    "    print('hello world') #Error: expected an indented block\n",
    "print(hello())\n",
    "\n",
    "while False:\n",
    "     print('this wont print') #Error: expected an indented block\n",
    "\n",
    "\n",
    "x = 2\n",
    "if x >0:\n",
    "    print('positive number')\n",
    "    --x\n",
    "\n",
    "\n",
    "\n",
    "s = 1+2+3+5+6+9+\\\n",
    "3+9+7+9\n",
    "\n",
    "print(s)\n",
    "\n",
    "fruits = ['apples','bananas','grapes']\n",
    "print(fruits)\n",
    "\n",
    "hetro_mylist = [1,'alice',['apples','bananas','grapes']] #list can be mutable\n",
    "\n",
    "print(hetro_mylist)\n",
    "print(hetro_mylist[2])\n",
    "\n",
    "my_tuple = (1,2,3,4,5,6) #tuples are immutable\n",
    "print(my_tuple)\n",
    "#my_tuple[2] = 9\n",
    "#print(my_tuple)\n",
    "#both list and tuples are heterogeneous\n",
    "\n",
    "hetro_mylisttuples = (1,'alice',('apples','bananas','grapes')) #list can be mutable\n",
    "\n",
    "print(hetro_mylisttuples)\n",
    "print(hetro_mylisttuples[2])\n",
    "\n",
    "print(type(hetro_mylisttuples))\n",
    "\n",
    "#dictonary is mutable and heterogeneous\n",
    "person = {'rollno': 893,'name':'tom','percentage':93,(1,2):[4,5,6]}\n",
    "print('\\n',person)\n",
    "print(type(person))\n",
    "\"\"\"\n",
    "keys and values in dictonary can be any type . values can be hetero buts\n",
    "keys should be of an immutable type like int string and tuple\n",
    "\"\"\"\n",
    "#set is an unordered collection of items where evey element is unique\n",
    "color = {'blue','green','red'}\n",
    "print(color)\n",
    "print(type(color))\n",
    "\n",
    "#standard I/O\n",
    "#output\n",
    "print('my name is Tom')\n",
    "\n",
    "#input\n",
    "\n",
    "x = input(\"Enter your name:\")\n",
    "print('How are you',x)\n",
    "print(f'how are you,{x}')\n"
   ]
  },
  {
   "cell_type": "code",
   "execution_count": null,
   "id": "c118e453",
   "metadata": {},
   "outputs": [],
   "source": []
  },
  {
   "cell_type": "code",
   "execution_count": null,
   "id": "ffbd5995",
   "metadata": {},
   "outputs": [],
   "source": []
  },
  {
   "cell_type": "code",
   "execution_count": 2,
   "id": "d22977bd",
   "metadata": {},
   "outputs": [
    {
     "name": "stdout",
     "output_type": "stream",
     "text": [
      "\n",
      " Paramaters :\n",
      " c(int) : the 1st variable\n",
      " d(int) : the 2nd variable\n",
      " Return:\n",
      " int : which is the sum of c and d\n",
      " \n"
     ]
    }
   ],
   "source": [
    "def add_num(c,d):\n",
    " \"\"\"\n",
    " Paramaters :\n",
    " c(int) : the 1st variable\n",
    " d(int) : the 2nd variable\n",
    " Return:\n",
    " int : which is the sum of c and d\n",
    " \"\"\"\n",
    "\n",
    " return c + d\n",
    "print(add_num.__doc__)\n"
   ]
  },
  {
   "cell_type": "code",
   "execution_count": 1,
   "id": "4644bb39",
   "metadata": {},
   "outputs": [
    {
     "data": {
      "text/plain": [
       "2"
      ]
     },
     "execution_count": 1,
     "metadata": {},
     "output_type": "execute_result"
    }
   ],
   "source": [
    "1+1\n"
   ]
  },
  {
   "cell_type": "code",
   "execution_count": 1,
   "id": "23faff06",
   "metadata": {},
   "outputs": [
    {
     "name": "stdout",
     "output_type": "stream",
     "text": [
      "['False', 'None', 'True', 'and', 'as', 'assert', 'async', 'await', 'break', 'class', 'continue', 'def', 'del', 'elif', 'else', 'except', 'finally', 'for', 'from', 'global', 'if', 'import', 'in', 'is', 'lambda', 'nonlocal', 'not', 'or', 'pass', 'raise', 'return', 'try', 'while', 'with', 'yield']\n"
     ]
    }
   ],
   "source": [
    "#what are packages?\n",
    "import keyword\n",
    "\n",
    "print(keyword.kwlist)\n"
   ]
  },
  {
   "cell_type": "code",
   "execution_count": 3,
   "id": "00c239ae",
   "metadata": {},
   "outputs": [
    {
     "name": "stdout",
     "output_type": "stream",
     "text": [
      "5.0\n"
     ]
    }
   ],
   "source": [
    "import math\n",
    "result = math.sqrt(25)\n",
    "print(result)"
   ]
  },
  {
   "cell_type": "code",
   "execution_count": 4,
   "id": "b9dffe3f",
   "metadata": {},
   "outputs": [
    {
     "name": "stdout",
     "output_type": "stream",
     "text": [
      "12.0\n"
     ]
    }
   ],
   "source": [
    "from math import sqrt\n",
    "result = sqrt(144)\n",
    "print(result)"
   ]
  },
  {
   "cell_type": "code",
   "execution_count": 13,
   "id": "159bce6f",
   "metadata": {},
   "outputs": [
    {
     "name": "stdout",
     "output_type": "stream",
     "text": [
      "170\n"
     ]
    }
   ],
   "source": [
    "import math\n",
    "m1 = 80\n",
    "m2 = 90\n",
    "\n",
    "tot = m1 + m2\n",
    "print(tot)"
   ]
  },
  {
   "cell_type": "code",
   "execution_count": 17,
   "id": "28757f4d",
   "metadata": {},
   "outputs": [
    {
     "name": "stdout",
     "output_type": "stream",
     "text": [
      "21\n",
      "21\n",
      "21\n",
      "21\n",
      "21\n"
     ]
    }
   ],
   "source": [
    "#a-z, A-Z, 0-9,_\n",
    "#you can start the variable using _\n",
    "_age = 21\n",
    "print(_age)\n",
    "\n",
    "#you can start the variable using small letter\n",
    "age = 21\n",
    "print(age)\n",
    "\n",
    "##you can start the variable using all capital letter\n",
    "AGE = 21\n",
    "print(AGE)\n",
    "\n",
    "#you can start the variable using capital letter\n",
    "Age = 21\n",
    "print(Age)\n",
    "\n",
    "#you cannot start the variable using number 0-9 but can be used in between\n",
    "_age123 = 21\n",
    "print(_age123)\n",
    "\n",
    "\n",
    "#you cannot start the variable using number 0-9 or digits\n",
    "#12_age = 21\n",
    "#print(12_age)"
   ]
  },
  {
   "cell_type": "code",
   "execution_count": 28,
   "id": "16526820",
   "metadata": {},
   "outputs": [
    {
     "name": "stdout",
     "output_type": "stream",
     "text": [
      "Positive Number\n",
      "positive number and it is more than 4\n"
     ]
    }
   ],
   "source": [
    "#Indentation?\n",
    "\n",
    "x =5\n",
    "# if x is greater than 2 i have to print 'positive number'\n",
    "if x > 2:\n",
    "  print('Positive Number')\n",
    "if x > 4:\n",
    "  print('positive number and it is more than 4')"
   ]
  },
  {
   "cell_type": "code",
   "execution_count": 29,
   "id": "d7fec8e7",
   "metadata": {},
   "outputs": [
    {
     "name": "stdout",
     "output_type": "stream",
     "text": [
      "<class 'int'>\n",
      "<class 'float'>\n",
      "<class 'str'>\n",
      "<class 'str'>\n"
     ]
    }
   ],
   "source": [
    "# integer,float,string.....\n",
    "\n",
    "a = 10 #its a integer\n",
    "print(type(a))\n",
    "b = 12.50 #its a float\n",
    "print(type(b))\n",
    "nm = 'tom'\n",
    "c = '12' #c is treated as string(char)\n",
    "print(type(nm))\n",
    "print(type(c))\n",
    "\n"
   ]
  },
  {
   "cell_type": "code",
   "execution_count": 33,
   "id": "6ae72bc8",
   "metadata": {},
   "outputs": [
    {
     "name": "stdout",
     "output_type": "stream",
     "text": [
      "['banana', 'grapes', 'apples']\n",
      "['banana', 'mango', 'apples']\n",
      "[1, 2, 3, 5.0, 6.8, 'lux']\n",
      "<class 'list'>\n",
      "<class 'list'>\n"
     ]
    }
   ],
   "source": [
    "#List \n",
    "fruits = ['banana','grapes','apples']\n",
    "print(fruits)\n",
    "# list are mutable \n",
    "fruits[1] = 'mango'\n",
    "print(fruits)\n",
    "#multiple data types which is hetrogenous\n",
    "a = [1,2,3,5.0,6.8,'lux']\n",
    "print(a)\n",
    "print(type(a))\n",
    "print(type(fruits))"
   ]
  },
  {
   "cell_type": "code",
   "execution_count": 37,
   "id": "ad7da17f",
   "metadata": {},
   "outputs": [
    {
     "name": "stdout",
     "output_type": "stream",
     "text": [
      "('banana', 'grapes', 'apples')\n",
      "<class 'tuple'>\n",
      "(1, 2, 3, 5.0, 6.8, 'lux')\n",
      "<class 'tuple'>\n"
     ]
    }
   ],
   "source": [
    "#Tuple\n",
    "\n",
    "fruits = ('banana','grapes','apples')\n",
    "#tuples are immutable and hetrogenous\n",
    "#fruits[1] = 'mango'\n",
    "print(fruits)\n",
    "print(type(fruits))\n",
    "\n",
    "a = (1,2,3,5.0,6.8,'lux')\n",
    "\n",
    "print(a)\n",
    "print(type(a))"
   ]
  },
  {
   "cell_type": "code",
   "execution_count": 4,
   "id": "26d247b6",
   "metadata": {},
   "outputs": [
    {
     "name": "stdout",
     "output_type": "stream",
     "text": [
      "{'name': 'Tom', 'subject': 'math', 'marks': 90}\n"
     ]
    }
   ],
   "source": [
    "#Dictonary\n",
    "#Dictonaries and list are mutable\n",
    "\n",
    "my_dict = {'name':'Tom','subject':'math','marks':90}\n",
    "print(my_dict)\n",
    "\n",
    "#list & tuples are ordered where as dictonary is not in order"
   ]
  },
  {
   "cell_type": "code",
   "execution_count": 21,
   "id": "53dfea9f",
   "metadata": {},
   "outputs": [
    {
     "name": "stdout",
     "output_type": "stream",
     "text": [
      "{'banana', 'cherries', 'apples'}\n",
      "({1, 2, 3, 4, 5, 'banana'}, {1, 2, 3, 4, 5, 6, 7, 8, 9})\n"
     ]
    }
   ],
   "source": [
    "#sets there are no keyvalue unlike dictionary\n",
    "#sets and dictonary are unordered\n",
    "\n",
    "fruits = {'banana','cherries','apples'}\n",
    "print(fruits)\n",
    "\n",
    "s1 = {1,2,3,4,5,'banana'}\n",
    "s2 = {1,2,3,4,5,6,7,8,9}\n",
    "\n",
    "s = s1,s2\n",
    "\n",
    "print(s)"
   ]
  },
  {
   "cell_type": "code",
   "execution_count": 20,
   "id": "e3ae5591",
   "metadata": {},
   "outputs": [],
   "source": [
    "#Table 1:name,salary,designation...main\n",
    "    \n",
    "#Table 2:name,salary,designation...city = bangalore"
   ]
  },
  {
   "cell_type": "code",
   "execution_count": 22,
   "id": "cf64df55",
   "metadata": {},
   "outputs": [
    {
     "data": {
      "text/plain": [
       "30"
      ]
     },
     "execution_count": 22,
     "metadata": {},
     "output_type": "execute_result"
    }
   ],
   "source": [
    "#Standard Input and ouput --- 27/05/2023\n",
    "\n",
    "a = 10\n",
    "b = 20\n",
    "c = a+b\n",
    "c\n",
    "\n"
   ]
  },
  {
   "cell_type": "code",
   "execution_count": 34,
   "id": "c05f54ff",
   "metadata": {},
   "outputs": [
    {
     "name": "stdout",
     "output_type": "stream",
     "text": [
      "Enter the number:\n",
      "23\n",
      "Enter the number:\n",
      "5\n",
      "addition 28\n",
      "substraction 18\n",
      "multiplication 115\n",
      "power function 6436343\n",
      "modulo function 3\n",
      "division 4.6\n",
      "this operater gives nearest Floor/integer division operator 4\n"
     ]
    }
   ],
   "source": [
    "#Operators\n",
    "\n",
    "#Arithmetic + - / * // ** % ... etc\n",
    "\n",
    "a = int(input('Enter the number:\\n'))\n",
    "\n",
    " \n",
    "b = int(input('Enter the number:\\n'))\n",
    "\n",
    "print('addition',a+b)\n",
    "print('substraction',a-b)\n",
    "print('multiplication',a*b)\n",
    "print('power function',a**b)\n",
    "print('modulo function',a%b)\n",
    "print('division',a/b)\n",
    "print('this operater gives nearest Floor/integer division operator',a//b) # this operater gives nearest Floor/integer division operator"
   ]
  },
  {
   "cell_type": "code",
   "execution_count": 54,
   "id": "19379228",
   "metadata": {},
   "outputs": [
    {
     "name": "stdout",
     "output_type": "stream",
     "text": [
      "Enter the number:25\n",
      "Enter the number:16\n",
      "False \n",
      "\n",
      "True \n",
      "\n",
      "True \n",
      "\n",
      "False \n",
      "\n",
      "True \n",
      "\n",
      "False \n",
      "\n",
      "16 \n",
      "\n",
      "25\n"
     ]
    }
   ],
   "source": [
    "#Comparison Operations\n",
    "\n",
    "a = int(input('Enter the number:'))\n",
    "\n",
    " \n",
    "b = int(input('Enter the number:'))\n",
    "\n",
    "print(a == b,'\\n') # a equals to b checking\n",
    "\n",
    "print(a != b,'\\n') # a is not equal to b checking\n",
    "\n",
    "print(a > b,'\\n') # a is greater than b checking\n",
    "\n",
    "print(a < b,'\\n') # a is less than b checking\n",
    "\n",
    "print(a >= b,'\\n') # a is greater than or equal to b checking\n",
    "\n",
    "print(a <= b,'\\n') # a is less than or equal to b checking\n",
    "\n",
    "\n",
    "\n",
    "print( a and b,'\\n')\n",
    "\n",
    "print(a or b)"
   ]
  },
  {
   "cell_type": "code",
   "execution_count": 62,
   "id": "6f8aabc5",
   "metadata": {},
   "outputs": [
    {
     "name": "stdout",
     "output_type": "stream",
     "text": [
      "False \n",
      "\n",
      "True \n",
      "\n",
      "False \n",
      "\n",
      "True \n",
      "\n"
     ]
    }
   ],
   "source": [
    "#logical operation\n",
    "#we have to apply for a job : two candidates are there : (1) more than 60% marks (2) you should be from cs, it\n",
    "#|------------------AND---------------------------------|\n",
    "# tom he has 75% marks and he is from arts = tom will go out \n",
    "# alice she has 61% marks and she is from cs = alce go and give interview\n",
    "\n",
    "#we have to apply for a job : two candidates are there : (1) more than 60% marks (2) you should be from cs, it\n",
    "#|------------------OR---------------------------------|\n",
    "# tom he has 75% marks and he is from arts \n",
    "# alice she has 61% marks and she is from cs\n",
    "#both tom and alice can attend the interview\n",
    "\n",
    "#|------------------NOT---------------------------------|\n",
    "#opposite to what you have\n",
    "\n",
    "a = True\n",
    "b = False\n",
    "\n",
    "print( a and b,'\\n')\n",
    "\n",
    "print(a or b,'\\n')\n",
    "\n",
    "print(not a and b,'\\n')\n",
    "\n",
    "print(a and not b,'\\n')"
   ]
  },
  {
   "cell_type": "code",
   "execution_count": null,
   "id": "6146e1b2",
   "metadata": {},
   "outputs": [],
   "source": []
  },
  {
   "cell_type": "code",
   "execution_count": null,
   "id": "266b6663",
   "metadata": {},
   "outputs": [],
   "source": []
  }
 ],
 "metadata": {
  "kernelspec": {
   "display_name": "Python 3 (ipykernel)",
   "language": "python",
   "name": "python3"
  },
  "language_info": {
   "codemirror_mode": {
    "name": "ipython",
    "version": 3
   },
   "file_extension": ".py",
   "mimetype": "text/x-python",
   "name": "python",
   "nbconvert_exporter": "python",
   "pygments_lexer": "ipython3",
   "version": "3.11.0"
  }
 },
 "nbformat": 4,
 "nbformat_minor": 5
}
