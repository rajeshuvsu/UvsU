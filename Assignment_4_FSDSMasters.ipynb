{
 "cells": [
  {
   "cell_type": "markdown",
   "id": "f4246d47",
   "metadata": {},
   "source": [
    "# 1. What exactly is []?"
   ]
  },
  {
   "cell_type": "code",
   "execution_count": 2,
   "id": "ad7b4a74",
   "metadata": {},
   "outputs": [
    {
     "data": {
      "text/plain": [
       "0"
      ]
     },
     "execution_count": 2,
     "metadata": {},
     "output_type": "execute_result"
    }
   ],
   "source": [
    "#Empty List can add the data into it.\n",
    "\n",
    "lst = []\n",
    "type(lst)\n",
    "len(lst)"
   ]
  },
  {
   "cell_type": "markdown",
   "id": "0a92d1cd",
   "metadata": {},
   "source": [
    "# 2. In a list of values stored in a variable called spam, how would you assign the value 'hello' as the third value? (Assume [2, 4, 6, 8, 10] are in spam.)"
   ]
  },
  {
   "cell_type": "code",
   "execution_count": 11,
   "id": "74aec2ad",
   "metadata": {},
   "outputs": [
    {
     "data": {
      "text/plain": [
       "[2, 4, 'hello', 8, 10]"
      ]
     },
     "execution_count": 11,
     "metadata": {},
     "output_type": "execute_result"
    }
   ],
   "source": [
    "spam = [2,4,6,8,10]\n",
    "\n",
    "spam[2] = 'hello'\n",
    "\n",
    "spam"
   ]
  },
  {
   "cell_type": "markdown",
   "id": "9e3fbe6e",
   "metadata": {},
   "source": [
    "# Let's pretend the spam includes the list ['a', 'b', 'c', 'd'] for the next three queries.\n",
    "#3. What is the value of spam[int(int('3' * 2) / 11)]?\n",
    "\n",
    "#4. What is the value of spam[-1]?\n",
    "\n",
    "#5. What is the value of spam[:2]?\n"
   ]
  },
  {
   "cell_type": "code",
   "execution_count": 14,
   "id": "c10c8d23",
   "metadata": {},
   "outputs": [
    {
     "data": {
      "text/plain": [
       "'d'"
      ]
     },
     "execution_count": 14,
     "metadata": {},
     "output_type": "execute_result"
    }
   ],
   "source": [
    "spam = ['a','b','c','d']\n",
    "\n",
    "spam[int(int('3'*2)/11)]"
   ]
  },
  {
   "cell_type": "code",
   "execution_count": 15,
   "id": "5365e090",
   "metadata": {},
   "outputs": [
    {
     "data": {
      "text/plain": [
       "'d'"
      ]
     },
     "execution_count": 15,
     "metadata": {},
     "output_type": "execute_result"
    }
   ],
   "source": [
    "spam[-1] #negative indexing"
   ]
  },
  {
   "cell_type": "code",
   "execution_count": 16,
   "id": "dd1c2eac",
   "metadata": {},
   "outputs": [
    {
     "data": {
      "text/plain": [
       "['a', 'b']"
      ]
     },
     "execution_count": 16,
     "metadata": {},
     "output_type": "execute_result"
    }
   ],
   "source": [
    "spam[:2]#slicing "
   ]
  },
  {
   "cell_type": "markdown",
   "id": "e4d61776",
   "metadata": {},
   "source": [
    "# Let's pretend bacon has the list [3.14, 'cat,' 11, 'cat,' True] for the next three questions.\n",
    "\n",
    "#6. What is the value of bacon.index('cat')?\n",
    "\n",
    "#7. How does bacon.append(99) change the look of the list value in bacon?\n",
    "\n",
    "#8. How does bacon.remove('cat') change the look of the list in bacon\n"
   ]
  },
  {
   "cell_type": "code",
   "execution_count": 21,
   "id": "048cc72d",
   "metadata": {},
   "outputs": [
    {
     "data": {
      "text/plain": [
       "1"
      ]
     },
     "execution_count": 21,
     "metadata": {},
     "output_type": "execute_result"
    }
   ],
   "source": [
    "bacon = [3.14,'cat',11,'cat',True]\n",
    "\n",
    "bacon.index('cat')"
   ]
  },
  {
   "cell_type": "code",
   "execution_count": 24,
   "id": "d1bb1807",
   "metadata": {},
   "outputs": [
    {
     "data": {
      "text/plain": [
       "[3.14, 'cat', 11, 'cat', True, 99]"
      ]
     },
     "execution_count": 24,
     "metadata": {},
     "output_type": "execute_result"
    }
   ],
   "source": [
    "bacon = [3.14,'cat',11,'cat',True]\n",
    "bacon.append(99) #appends the data at the end of the list\n",
    "\n",
    "bacon "
   ]
  },
  {
   "cell_type": "code",
   "execution_count": 25,
   "id": "c02ae76d",
   "metadata": {},
   "outputs": [
    {
     "data": {
      "text/plain": [
       "[3.14, 11, 'cat', True]"
      ]
     },
     "execution_count": 25,
     "metadata": {},
     "output_type": "execute_result"
    }
   ],
   "source": [
    "bacon = [3.14,'cat',11,'cat',True]\n",
    "bacon.remove('cat') # removes the first occurance of item\n",
    "\n",
    "bacon"
   ]
  },
  {
   "cell_type": "markdown",
   "id": "0116a566",
   "metadata": {},
   "source": [
    "# 9. What are the list concatenation and list replication operators?"
   ]
  },
  {
   "cell_type": "code",
   "execution_count": 27,
   "id": "7346c672",
   "metadata": {},
   "outputs": [
    {
     "data": {
      "text/plain": [
       "[1, 2, 3, 4, 5, 6, 'apple', 'amango', 'grapes', 'monkey']"
      ]
     },
     "execution_count": 27,
     "metadata": {},
     "output_type": "execute_result"
    }
   ],
   "source": [
    "#List concatenation\n",
    "\n",
    "lst1 = [1,2,3,4,5,6]\n",
    "lst2 = ['apple','amango','grapes','monkey']\n",
    "\n",
    "lst1 = lst1 + lst2\n",
    "lst1"
   ]
  },
  {
   "cell_type": "code",
   "execution_count": 28,
   "id": "29ffc902",
   "metadata": {},
   "outputs": [
    {
     "data": {
      "text/plain": [
       "[1,\n",
       " 2,\n",
       " 3,\n",
       " 4,\n",
       " 5,\n",
       " 6,\n",
       " 'apple',\n",
       " 'amango',\n",
       " 'grapes',\n",
       " 'monkey',\n",
       " 1,\n",
       " 2,\n",
       " 3,\n",
       " 4,\n",
       " 5,\n",
       " 6,\n",
       " 'apple',\n",
       " 'amango',\n",
       " 'grapes',\n",
       " 'monkey',\n",
       " 1,\n",
       " 2,\n",
       " 3,\n",
       " 4,\n",
       " 5,\n",
       " 6,\n",
       " 'apple',\n",
       " 'amango',\n",
       " 'grapes',\n",
       " 'monkey']"
      ]
     },
     "execution_count": 28,
     "metadata": {},
     "output_type": "execute_result"
    }
   ],
   "source": [
    "#List replication \n",
    "\n",
    "lst1 * 3"
   ]
  },
  {
   "cell_type": "markdown",
   "id": "f02bf3ef",
   "metadata": {},
   "source": [
    "# 10. What is difference between the list methods append() and insert()?"
   ]
  },
  {
   "cell_type": "code",
   "execution_count": 30,
   "id": "1ab5245e",
   "metadata": {},
   "outputs": [
    {
     "data": {
      "text/plain": [
       "[3.14, 'cat', 11, 'cat', True, 99]"
      ]
     },
     "execution_count": 30,
     "metadata": {},
     "output_type": "execute_result"
    }
   ],
   "source": [
    "\"\"\"\n",
    "The difference between the two methods is that . append() adds an item to the end of a list, whereas . \n",
    "insert() inserts and item in a specified position in the list.\n",
    "\"\"\"\n",
    "bacon = [3.14,'cat',11,'cat',True]\n",
    "\n",
    "bacon.append(99) #appaneds the data at the end of the list\n",
    "\n",
    "bacon"
   ]
  },
  {
   "cell_type": "code",
   "execution_count": 32,
   "id": "d63a7a7a",
   "metadata": {},
   "outputs": [
    {
     "data": {
      "text/plain": [
       "[3.14, 'cat', 11, 'length', 'cat', True]"
      ]
     },
     "execution_count": 32,
     "metadata": {},
     "output_type": "execute_result"
    }
   ],
   "source": [
    "bacon = [3.14,'cat',11,'cat',True]\n",
    "\n",
    "bacon.insert(3,'length') #inserts the data at specified index \n",
    "\n",
    "bacon"
   ]
  },
  {
   "cell_type": "markdown",
   "id": "9564f5fd",
   "metadata": {},
   "source": [
    "# 11. What are the two methods for removing items from a list?"
   ]
  },
  {
   "cell_type": "code",
   "execution_count": 33,
   "id": "edd14eb7",
   "metadata": {},
   "outputs": [
    {
     "data": {
      "text/plain": [
       "[3.14, 11, 'cat', True]"
      ]
     },
     "execution_count": 33,
     "metadata": {},
     "output_type": "execute_result"
    }
   ],
   "source": [
    "\"\"\"\n",
    "The methods are remove(), pop() and clear(). It helps to remove the very first given element matching from the list. \n",
    "The pop() method removes an element from the list based on the index given\n",
    "\"\"\"\n",
    "\n",
    "#remove(item) - removeds first occurence of a item\n",
    "bacon = [3.14, 'cat', 11, 'cat', True]\n",
    "bacon.remove('cat')\n",
    "bacon"
   ]
  },
  {
   "cell_type": "code",
   "execution_count": 34,
   "id": "b46611df",
   "metadata": {},
   "outputs": [
    {
     "data": {
      "text/plain": [
       "[3.14, 11, 'cat', True]"
      ]
     },
     "execution_count": 34,
     "metadata": {},
     "output_type": "execute_result"
    }
   ],
   "source": [
    "#pop() - Remove and returns item at index and by default last item will be removed.\n",
    "bacon = [3.14, 'cat', 11, 'cat', True]\n",
    "bacon.pop(1)\n",
    "bacon"
   ]
  },
  {
   "cell_type": "markdown",
   "id": "611cd2ad",
   "metadata": {},
   "source": [
    "# 12. Describe how list values and string values are identical."
   ]
  },
  {
   "cell_type": "code",
   "execution_count": 35,
   "id": "b89dff04",
   "metadata": {},
   "outputs": [
    {
     "data": {
      "text/plain": [
       "'\\nBoth lists and strings can be passed to len()\\nHave indexes and slices\\nCan be used in for loops\\nCan be concatenated or replicated\\nCan be used with the in and not in operators\\n\\n'"
      ]
     },
     "execution_count": 35,
     "metadata": {},
     "output_type": "execute_result"
    }
   ],
   "source": [
    "\"\"\"\n",
    "Both lists and strings can be passed to len()\n",
    "Have indexes and slices\n",
    "Can be used in for loops\n",
    "Can be concatenated or replicated\n",
    "Can be used with the in and not in operators\n",
    "\n",
    "\"\"\""
   ]
  },
  {
   "cell_type": "markdown",
   "id": "0ba0c2a7",
   "metadata": {},
   "source": [
    "# 13. What's the difference between tuples and lists?"
   ]
  },
  {
   "cell_type": "code",
   "execution_count": 36,
   "id": "5390c88c",
   "metadata": {},
   "outputs": [
    {
     "data": {
      "text/plain": [
       "\"\\nList can be mutable and combination of all date types represnted by []\\nlst = [1,2,3,'ben']\\nwhereas tuples are immutable which can be use as data integration is required. represnted by ()\\ntup = (1,2,3,6,'sam')\\n\""
      ]
     },
     "execution_count": 36,
     "metadata": {},
     "output_type": "execute_result"
    }
   ],
   "source": [
    "\"\"\"\n",
    "List can be mutable and combination of all date types represnted by []\n",
    "lst = [1,2,3,'ben']\n",
    "whereas tuples are immutable which can be use as data integration is required. represnted by ()\n",
    "tup = (1,2,3,6,'sam')\n",
    "\"\"\""
   ]
  },
  {
   "cell_type": "markdown",
   "id": "fa099435",
   "metadata": {},
   "source": [
    "# 14. How do you type a tuple value that only contains the integer 42?"
   ]
  },
  {
   "cell_type": "code",
   "execution_count": 38,
   "id": "e4288ed3",
   "metadata": {},
   "outputs": [
    {
     "data": {
      "text/plain": [
       "42"
      ]
     },
     "execution_count": 38,
     "metadata": {},
     "output_type": "execute_result"
    }
   ],
   "source": [
    "tup = (42,)\n",
    "tup"
   ]
  },
  {
   "cell_type": "markdown",
   "id": "c92c011d",
   "metadata": {},
   "source": [
    "# 15. How do you get a list value's tuple form? How do you get a tuple value's list form?"
   ]
  },
  {
   "cell_type": "code",
   "execution_count": 40,
   "id": "c0fb21b7",
   "metadata": {},
   "outputs": [
    {
     "data": {
      "text/plain": [
       "(3.14, 'cat', 11, 'cat', True)"
      ]
     },
     "execution_count": 40,
     "metadata": {},
     "output_type": "execute_result"
    }
   ],
   "source": [
    "bacon = [3.14, 'cat', 11, 'cat', True]\n",
    "\n",
    "tup = tuple(bacon)\n",
    "tup"
   ]
  },
  {
   "cell_type": "code",
   "execution_count": 42,
   "id": "78823553",
   "metadata": {},
   "outputs": [
    {
     "data": {
      "text/plain": [
       "[3.14, 'cat', 11, 'cat', True]"
      ]
     },
     "execution_count": 42,
     "metadata": {},
     "output_type": "execute_result"
    }
   ],
   "source": [
    "tupl = (3.14, 'cat', 11, 'cat', True)\n",
    "\n",
    "lst = list(tupl)\n",
    "lst"
   ]
  },
  {
   "cell_type": "markdown",
   "id": "ab86e6d4",
   "metadata": {},
   "source": [
    "# 16. Variables that \"contain\" list values are not necessarily lists themselves. Instead, what do they contain?"
   ]
  },
  {
   "cell_type": "code",
   "execution_count": 43,
   "id": "aa239df7",
   "metadata": {},
   "outputs": [
    {
     "data": {
      "text/plain": [
       "'\\nVariables will contain references to list values rather than list values themselves. \\nBut for strings and integer values, variables simply contain the string or integer value.\\n'"
      ]
     },
     "execution_count": 43,
     "metadata": {},
     "output_type": "execute_result"
    }
   ],
   "source": [
    "\"\"\"\n",
    "Variables will contain references to list values rather than list values themselves. \n",
    "But for strings and integer values, variables simply contain the string or integer value.\n",
    "\"\"\""
   ]
  },
  {
   "cell_type": "markdown",
   "id": "4fbf94c4",
   "metadata": {},
   "source": [
    "# 17. How do you distinguish between copy.copy() and copy.deepcopy()?"
   ]
  },
  {
   "cell_type": "code",
   "execution_count": 46,
   "id": "cfc2d6cb",
   "metadata": {},
   "outputs": [
    {
     "name": "stdout",
     "output_type": "stream",
     "text": [
      "li2 ID:  2790816892352 Value:  [1, 2, [3, 5], 4]\n",
      "li3 ID:  2790816939264 Value:  [1, 2, [3, 5], 4]\n"
     ]
    }
   ],
   "source": [
    "\"\"\"\n",
    "The copy() returns a shallow copy of the list, and deepcopy() returns a deep copy of the list\n",
    "only copy.deepcopy() will duplicate any lists inside the list\n",
    "\n",
    "As you can see that both have the same value but have different IDs.\n",
    "\n",
    "\n",
    "\"\"\"\n",
    "\n",
    "# importing copy module\n",
    "import copy\n",
    " \n",
    "# initializing list 1\n",
    "li1 = [1, 2, [3, 5], 4]\n",
    " \n",
    "# using copy for shallow copy\n",
    "li2 = copy.copy(li1)\n",
    "print(\"li2 ID: \", id(li2), \"Value: \", li2)\n",
    "# using deepcopy for deepcopy\n",
    "li3 = copy.deepcopy(li1)\n",
    "print(\"li3 ID: \", id(li3), \"Value: \", li3)"
   ]
  },
  {
   "cell_type": "code",
   "execution_count": 47,
   "id": "b331e810",
   "metadata": {},
   "outputs": [
    {
     "name": "stdout",
     "output_type": "stream",
     "text": [
      "The original elements before deep copying\n",
      "1 2 [3, 5] 4 \r\n",
      "The new list of elements after deep copying \n",
      "1 2 [7, 5] 4 \r\n",
      "The original elements after deep copying\n",
      "1 2 [3, 5] 4 "
     ]
    }
   ],
   "source": [
    "\n",
    "# importing \"copy\" for copy operations\n",
    "import copy\n",
    " \n",
    "# initializing list 1\n",
    "li1 = [1, 2, [3,5], 4]\n",
    " \n",
    "# using deepcopy to deep copy\n",
    "li2 = copy.deepcopy(li1)\n",
    " \n",
    "# original elements of list\n",
    "print (\"The original elements before deep copying\")\n",
    "for i in range(0,len(li1)):\n",
    "    print (li1[i],end=\" \")\n",
    " \n",
    "print(\"\\r\")\n",
    " \n",
    "# adding and element to new list\n",
    "li2[2][0] = 7\n",
    " \n",
    "# Change is reflected in l2\n",
    "print (\"The new list of elements after deep copying \")\n",
    "for i in range(0,len( li1)):\n",
    "    print (li2[i],end=\" \")\n",
    " \n",
    "print(\"\\r\")\n",
    " \n",
    "# Change is NOT reflected in original list\n",
    "# as it is a deep copy\n",
    "print (\"The original elements after deep copying\")\n",
    "for i in range(0,len( li1)):\n",
    "    print (li1[i],end=\" \")"
   ]
  },
  {
   "cell_type": "code",
   "execution_count": null,
   "id": "1fe554a1",
   "metadata": {},
   "outputs": [],
   "source": []
  }
 ],
 "metadata": {
  "kernelspec": {
   "display_name": "Python 3 (ipykernel)",
   "language": "python",
   "name": "python3"
  },
  "language_info": {
   "codemirror_mode": {
    "name": "ipython",
    "version": 3
   },
   "file_extension": ".py",
   "mimetype": "text/x-python",
   "name": "python",
   "nbconvert_exporter": "python",
   "pygments_lexer": "ipython3",
   "version": "3.11.0"
  }
 },
 "nbformat": 4,
 "nbformat_minor": 5
}
