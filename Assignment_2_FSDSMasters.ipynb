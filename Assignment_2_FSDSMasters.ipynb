{
 "cells": [
  {
   "cell_type": "markdown",
   "id": "bb44021e",
   "metadata": {},
   "source": [
    "# 1.What are the two values of the Boolean data type? How do you write them?"
   ]
  },
  {
   "cell_type": "code",
   "execution_count": 2,
   "id": "65215587",
   "metadata": {},
   "outputs": [
    {
     "name": "stdout",
     "output_type": "stream",
     "text": [
      "<class 'bool'>\n",
      "<class 'bool'>\n",
      "False \n",
      "\n",
      "True \n",
      "\n",
      "False \n",
      "\n",
      "True \n",
      "\n"
     ]
    }
   ],
   "source": [
    "\"\"\"\n",
    "Here we have two Boolean data types i.e., True and False\n",
    "\n",
    "In general, a Boolean variable can have only two values - True or False. Or in other words, if a variable \n",
    "can have only these two values, we say that it’s a Boolean variable. \n",
    "It’s often used to represent the Truth value of any given expression.\n",
    "\n",
    "Numerically, True is equal to 1 and False is equal to 0. In contrast with Electronics, when we say that a light bulb is \n",
    "switched on, it has a high value (that is 1) and vice-versa.\n",
    "\n",
    "\n",
    "\"\"\"\n",
    "#Examples\n",
    "\n",
    "a = True\n",
    "b = False\n",
    "\n",
    "print(type(a))\n",
    "print(type(b))\n",
    "\n",
    "\"\"\"\n",
    "We have Boolean Operators AND OR NOT\n",
    "\"\"\"\n",
    "\n",
    "print( a and b,'\\n')\n",
    "\n",
    "print(a or b,'\\n')\n",
    "\n",
    "print(not a and b,'\\n')\n",
    "\n",
    "print(a and not b,'\\n')"
   ]
  },
  {
   "cell_type": "markdown",
   "id": "f893673f",
   "metadata": {},
   "source": [
    "# 2. What are the three different types of Boolean operators?"
   ]
  },
  {
   "cell_type": "code",
   "execution_count": 3,
   "id": "1dd60ae5",
   "metadata": {},
   "outputs": [
    {
     "name": "stdout",
     "output_type": "stream",
     "text": [
      "False \n",
      "\n",
      "True \n",
      "\n",
      "False \n",
      "\n",
      "True \n",
      "\n"
     ]
    }
   ],
   "source": [
    "\"\"\"\n",
    "We have Boolean Operators AND OR NOT\n",
    "\"\"\"\n",
    "\n",
    "print( a and b,'\\n')\n",
    "\n",
    "print(a or b,'\\n')\n",
    "\n",
    "print(not a and b,'\\n')\n",
    "\n",
    "print(a and not b,'\\n')"
   ]
  },
  {
   "cell_type": "markdown",
   "id": "6db5ad93",
   "metadata": {},
   "source": [
    "# 3.Make a list of each Boolean operator's truth tables (i.e. every possible combination of Boolean values for the operator and what it evaluate )."
   ]
  },
  {
   "cell_type": "code",
   "execution_count": 6,
   "id": "df7d8d36",
   "metadata": {},
   "outputs": [
    {
     "name": "stdout",
     "output_type": "stream",
     "text": [
      "Enter The value True = 0 and False = 1: 0\n",
      "Enter The value True = 0 and False = 1: 0\n",
      "The AND opertor output is:  0\n",
      "The OR opertor output is:  0\n",
      "The NOT opertor output is:  True True\n"
     ]
    }
   ],
   "source": [
    "\"\"\"\n",
    "True equal to 1 and False equals to 0\n",
    "\n",
    "For AND Boolean Operations\n",
    "\n",
    "A   B   Output\n",
    "0   0    0\n",
    "0   1    0\n",
    "1   0    0\n",
    "1   1    1\n",
    "\n",
    "For OR Boolean Operations\n",
    "\n",
    "A   B   Output\n",
    "0   0    0\n",
    "0   1    1\n",
    "1   0    1\n",
    "1   1    1\n",
    "\n",
    "For NOT Boolean Operations\n",
    "\n",
    "A  Output\n",
    "1   0\n",
    "0   1\n",
    "\n",
    "AND Operator\n",
    ".............................\n",
    "True and True is True.\n",
    "\n",
    "True and False is False.\n",
    "\n",
    "False and True is False.\n",
    "\n",
    "False and False is False.\n",
    "\n",
    "OR operator\n",
    "............................\n",
    "True or True is True.\n",
    "\n",
    "True or False is True.\n",
    "\n",
    "False or True is True.\n",
    "\n",
    "False or False is False.\n",
    "\n",
    "NOT operator\n",
    "...........................\n",
    "not True is False.\n",
    "\n",
    "not False is True.\n",
    "\n",
    "\n",
    "\n",
    "\n",
    "\"\"\"\n",
    "j = int(input('Enter The value True = 0 and False = 1: '))\n",
    "k = int(input('Enter The value True = 0 and False = 1: '))\n",
    "\n",
    "print('The AND opertor output is: ', (j and k))\n",
    "print('The OR opertor output is: ', (j or k))\n",
    "print('The NOT opertor output is: ', not j ,not k)"
   ]
  },
  {
   "cell_type": "markdown",
   "id": "4c40165a",
   "metadata": {},
   "source": [
    "# 4. What are the values of the following expressions?"
   ]
  },
  {
   "cell_type": "code",
   "execution_count": 8,
   "id": "baf59d49",
   "metadata": {},
   "outputs": [
    {
     "name": "stdout",
     "output_type": "stream",
     "text": [
      "False\n",
      "False\n",
      "True\n",
      "False\n",
      "False\n",
      "True\n"
     ]
    }
   ],
   "source": [
    "print((5 > 4) and (3 == 5))\n",
    "print(not (5 > 4))\n",
    "print((5 > 4) or (3 == 5))\n",
    "print(not ((5 > 4) or (3 == 5)))\n",
    "print((True and True) and (True == False))\n",
    "print((not False) or (not True))\n"
   ]
  },
  {
   "cell_type": "markdown",
   "id": "8f85c442",
   "metadata": {},
   "source": [
    "# 5. What are the six comparison operators?"
   ]
  },
  {
   "cell_type": "code",
   "execution_count": 9,
   "id": "1be11b20",
   "metadata": {},
   "outputs": [
    {
     "data": {
      "text/plain": [
       "'\\n= ---> Assigns or stores the value to the variable\\n== ----> compares the two variables and gives boolean value # if x == b: then condition is true moves to next line\\n!= ----> compares the two variables and gives opposite boolean value if x != b: condition is true when both are not equal\\n> ---> compares the two varables which one is greater \\n< ---> compares the two varables which one is lessthan\\n>= ---> compares the greater than or equal to\\n<= ---> compares lessthan or equal to\\n'"
      ]
     },
     "execution_count": 9,
     "metadata": {},
     "output_type": "execute_result"
    }
   ],
   "source": [
    "\"\"\"\n",
    "= ---> Assigns or stores the value to the variable\n",
    "== ----> compares the two variables and gives boolean value # if x == b: then condition is true moves to next line\n",
    "!= ----> compares the two variables and gives opposite boolean value if x != b: condition is true when both are not equal\n",
    "> ---> compares the two varables which one is greater \n",
    "< ---> compares the two varables which one is lessthan\n",
    ">= ---> compares the greater than or equal to\n",
    "<= ---> compares lessthan or equal to\n",
    "\"\"\""
   ]
  },
  {
   "cell_type": "markdown",
   "id": "1c83e027",
   "metadata": {},
   "source": [
    "# 6. How do you tell the difference between the equal to and assignment operators?Describe a condition and when you would use one."
   ]
  },
  {
   "cell_type": "code",
   "execution_count": 11,
   "id": "6c324c1b",
   "metadata": {},
   "outputs": [
    {
     "name": "stdout",
     "output_type": "stream",
     "text": [
      "False\n",
      "c = 1\n"
     ]
    }
   ],
   "source": [
    "#Equal to(==) compares the the two values and evaluates the boolean,whereas equal(=) is the assignment operator \n",
    "#that stores the value into the variable\n",
    "#Example\n",
    "# Equal To Operator\n",
    "if(5==3):\n",
    "    print(\"True\")\n",
    "else:\n",
    "    print(\"False\")\n",
    "#Assignment operator\n",
    "x = 1 #here we have used assignment operator(=) to assign value of c which is 1\n",
    "print(\"x =\",x)"
   ]
  },
  {
   "cell_type": "markdown",
   "id": "4904078e",
   "metadata": {},
   "source": [
    "# 7. Identify the three blocks in this code:"
   ]
  },
  {
   "cell_type": "code",
   "execution_count": 12,
   "id": "d0b07361",
   "metadata": {},
   "outputs": [
    {
     "name": "stdout",
     "output_type": "stream",
     "text": [
      "ham\n",
      "spam\n",
      "spam\n"
     ]
    }
   ],
   "source": [
    "spam = 0\n",
    "if spam == 10:\n",
    "    print('eggs')\n",
    "if spam > 5:\n",
    "    print('bacon')\n",
    "else:\n",
    "    print('ham')\n",
    "    print('spam')\n",
    "    print('spam')\n"
   ]
  },
  {
   "cell_type": "markdown",
   "id": "c2b5fa1b",
   "metadata": {},
   "source": [
    "# 8. Write code that prints Hello if 1 is stored in spam, prints Howdy if 2 is stored in spam, and prints Greetings! if anything else is stored in spam."
   ]
  },
  {
   "cell_type": "code",
   "execution_count": 16,
   "id": "5f455c80",
   "metadata": {},
   "outputs": [
    {
     "name": "stdout",
     "output_type": "stream",
     "text": [
      "Enter the Number:3\n",
      "Greetings\n"
     ]
    }
   ],
   "source": [
    "spam = int(input('Enter the Number:'))\n",
    "if spam == 1:\n",
    "    print('Hello')\n",
    "elif spam == 2:\n",
    "    print('Howdy')\n",
    "else:\n",
    "    print('Greetings')"
   ]
  },
  {
   "cell_type": "markdown",
   "id": "4364dd0e",
   "metadata": {},
   "source": [
    "# 9.If your programme is stuck in an endless loop, what keys you’ll press?"
   ]
  },
  {
   "cell_type": "code",
   "execution_count": 19,
   "id": "0991eb7b",
   "metadata": {},
   "outputs": [
    {
     "name": "stdout",
     "output_type": "stream",
     "text": [
      "Infinite loop\n"
     ]
    }
   ],
   "source": [
    "#You can stop an infinite loop with CTRL + C . You can generate an infinite loop intentionally with while True \n",
    "\n",
    "#hile True:\n",
    "#   print('Infinite loop')\n",
    "#   break\n",
    "\n"
   ]
  },
  {
   "cell_type": "markdown",
   "id": "e5e5e7d0",
   "metadata": {},
   "source": [
    "# 10. How can you tell the difference between break and continue?"
   ]
  },
  {
   "cell_type": "code",
   "execution_count": 2,
   "id": "ee41ca6c",
   "metadata": {},
   "outputs": [
    {
     "name": "stdout",
     "output_type": "stream",
     "text": [
      "Outer For Loop Iteration: 0\n",
      "--Inner For Loop Iteration: 0\n",
      "--Inner For Loop Iteration: 1\n",
      "--Inner For Loop Iteration: 2\n",
      "--Inner For Loop Iteration: 3\n",
      "--Inner For Loop Iteration: 4\n",
      "Outer For Loop Iteration: 1\n",
      "--Inner For Loop Iteration: 0\n",
      "--Inner For Loop Iteration: 1\n",
      "--Inner For Loop Iteration: 2\n",
      "--Inner For Loop Iteration: 3\n",
      "--Inner For Loop Iteration: 4\n",
      "Outer For Loop Iteration: 2\n",
      "--Inner For Loop Iteration: 0\n",
      "--Inner For Loop Iteration: 1\n",
      "--Inner For Loop Iteration: 2\n",
      "--Inner For Loop Iteration: 3\n",
      "--Inner For Loop Iteration: 4\n",
      "Outer For Loop Iteration: 3\n",
      "--Inner For Loop Iteration: 0\n",
      "--Inner For Loop Iteration: 1\n",
      "--Inner For Loop Iteration: 2\n",
      "--Inner For Loop Iteration: 3\n",
      "--Inner For Loop Iteration: 4\n",
      "Outer For Loop Iteration: 4\n",
      "--Inner For Loop Iteration: 0\n",
      "--Inner For Loop Iteration: 1\n",
      "--Inner For Loop Iteration: 2\n",
      "--Inner For Loop Iteration: 3\n",
      "--Inner For Loop Iteration: 4\n",
      "\n",
      "Enter a Password:python\n",
      "--Correct Passowrd\n",
      "-------Unlocking your phone\n",
      "Iteration: 0\n",
      "Iteration: 1\n",
      "Iteration: 2\n",
      "Iteration: 3\n",
      "Iteration: 4\n",
      "Iteration: 6\n",
      "Iteration: 7\n",
      "Iteration: 8\n",
      "Iteration: 9\n"
     ]
    },
    {
     "data": {
      "text/plain": [
       "'\\n The break statement will move the execution outside and just after a loop. The continue statement will move \\n the execution to the start of the loop.\\n'"
      ]
     },
     "execution_count": 2,
     "metadata": {},
     "output_type": "execute_result"
    }
   ],
   "source": [
    "\"\"\"\n",
    "Break:A break statement in Python alters the flow of a loop by terminating it once a specified condition is met.\n",
    "Continue: The continue statement in Python is used to skip the remaining code inside a loop for the current iteration only.\n",
    "\n",
    "\"\"\"\n",
    "#Example break\n",
    "\n",
    "for k in range(0,5):\n",
    "    print(f'Outer For Loop Iteration: {k}')\n",
    "    for num in range(0,10):\n",
    "        if num == 5:\n",
    "            break\n",
    "        print(f'--Inner For Loop Iteration: {num}')\n",
    "    \n",
    "        \n",
    "for chance in range(1,4):\n",
    "    password = input('\\nEnter a Password:')\n",
    "    if password == 'python':\n",
    "        print('--Correct Passowrd\\n-------Unlocking your phone')\n",
    "        break\n",
    "    print('Incorrect Attempt:',chance)\n",
    "    \n",
    "#Conttinue statement\n",
    "\n",
    "for num in range(0,10):\n",
    "    if num == 5:\n",
    "        continue\n",
    "    print(f'Iteration: {num}')\n",
    "\n",
    "\"\"\"\n",
    " The break statement will move the execution outside and just after a loop. The continue statement will move \n",
    " the execution to the start of the loop.\n",
    "\"\"\""
   ]
  },
  {
   "cell_type": "markdown",
   "id": "16eb1760",
   "metadata": {},
   "source": [
    "# 11. In a for loop, what is the difference between range(10), range(0, 10), and range(0, 10, 1)?"
   ]
  },
  {
   "cell_type": "code",
   "execution_count": 3,
   "id": "1b86e9b5",
   "metadata": {},
   "outputs": [
    {
     "name": "stdout",
     "output_type": "stream",
     "text": [
      "0\n",
      "1\n",
      "2\n",
      "3\n",
      "4\n",
      "5\n",
      "6\n",
      "7\n",
      "8\n",
      "9\n",
      "*************************\n",
      "0\n",
      "1\n",
      "2\n",
      "3\n",
      "4\n",
      "5\n",
      "6\n",
      "7\n",
      "8\n",
      "9\n",
      "*************************\n",
      "0\n",
      "2\n",
      "4\n",
      "6\n",
      "8\n"
     ]
    }
   ],
   "source": [
    "\"\"\"\n",
    "range(10)--> itirates the loop 0 upto 10(not included)\n",
    "range(0,10)--> tells the loop starts at 0\n",
    "range(0,10,1) --> tells the loop increase 1 step on every itiration range(start,stop,step)\n",
    "\"\"\"\n",
    "\n",
    "#example\n",
    "\n",
    "for i in range(10):\n",
    "    print(i)\n",
    "print('*************************')    \n",
    "\n",
    "for x in range(0,10):\n",
    "    print(x)\n",
    "print('*************************')\n",
    "\n",
    "for y in range(0,10,2):\n",
    "    print(y)#prints 2 steps starting 0 upto 10\n",
    "    "
   ]
  },
  {
   "cell_type": "markdown",
   "id": "95a6cfa6",
   "metadata": {},
   "source": [
    "# 12. Write a short program that prints the numbers 1 to 10 using a for loop. Then write an equivalent program that prints the numbers 1 to 10 using a while loop."
   ]
  },
  {
   "cell_type": "code",
   "execution_count": 1,
   "id": "a73b2521",
   "metadata": {},
   "outputs": [
    {
     "name": "stdout",
     "output_type": "stream",
     "text": [
      "[0, 1, 2, 3, 4, 5, 6, 7, 8, 9]\n",
      "While loop begins\n",
      "1\n",
      "2\n",
      "3\n",
      "4\n",
      "5\n",
      "6\n",
      "7\n",
      "8\n",
      "9\n",
      "10\n"
     ]
    }
   ],
   "source": [
    "#for loop\n",
    "z = [i for i in range(10)]\n",
    "print(z)\n",
    "\n",
    "print('While loop begins')\n",
    "s = 1\n",
    "while s <= 10:\n",
    "    print(s)\n",
    "    s += 1"
   ]
  },
  {
   "cell_type": "markdown",
   "id": "273a4f42",
   "metadata": {},
   "source": [
    "# 13. If you had a function named bacon() inside a module named spam, how would you call it after importing spam?"
   ]
  },
  {
   "cell_type": "code",
   "execution_count": 4,
   "id": "9aac6490",
   "metadata": {},
   "outputs": [
    {
     "data": {
      "text/plain": [
       "'\\nimport spam\\n\\nthe fuction can be called \\n\\nspam.bacon\\n\\n'"
      ]
     },
     "execution_count": 4,
     "metadata": {},
     "output_type": "execute_result"
    }
   ],
   "source": [
    "\"\"\"\n",
    "import spam\n",
    "\n",
    "the fuction can be called \n",
    "\n",
    "spam.bacon\n",
    "\n",
    "\"\"\"\n",
    "    "
   ]
  },
  {
   "cell_type": "code",
   "execution_count": null,
   "id": "19b55b09",
   "metadata": {},
   "outputs": [],
   "source": []
  }
 ],
 "metadata": {
  "kernelspec": {
   "display_name": "Python 3 (ipykernel)",
   "language": "python",
   "name": "python3"
  },
  "language_info": {
   "codemirror_mode": {
    "name": "ipython",
    "version": 3
   },
   "file_extension": ".py",
   "mimetype": "text/x-python",
   "name": "python",
   "nbconvert_exporter": "python",
   "pygments_lexer": "ipython3",
   "version": "3.11.0"
  }
 },
 "nbformat": 4,
 "nbformat_minor": 5
}
