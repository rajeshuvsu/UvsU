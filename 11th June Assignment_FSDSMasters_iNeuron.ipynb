{
 "cells": [
  {
   "cell_type": "code",
   "execution_count": null,
   "id": "1e4a6f4d",
   "metadata": {},
   "outputs": [],
   "source": [
    "#1.What is a lambda function in Python, and how does it differ from a regular function?\n",
    "\n",
    "\"\"\"\n",
    "A lambda function in Python, also known as an anonymous function, is a small, one-line function that doesn't require a \n",
    "formal definition using the def keyword. Lambda functions are defined using the lambda keyword and can take any number \n",
    "of arguments but can only have a single expression.\n",
    "\n",
    "The syntax of a lambda function is as follows:  lambda arguments: expression\n",
    "\n",
    "\n",
    "The key differences between a lambda function and a regular function are as follows:\n",
    "\n",
    "Syntax: Lambda functions have a concise syntax compared to regular functions. They are defined in a single line and \n",
    "don't require a separate function name, return statement, or explicit block of code.\n",
    "\n",
    "Anonymous: Lambda functions are anonymous, meaning they don't have a name associated with them. They are usually \n",
    "defined inline where they are needed and aren't assigned to any variable.\n",
    "\n",
    "Single Expression: Lambda functions can only contain a single expression. The expression is evaluated and the result\n",
    "is automatically returned. There can't be multiple statements or complex control flow structures within a lambda function.\n",
    "\n",
    "Limited Functionality: Due to their simplicity, lambda functions are typically used for small, one-off tasks and simple \n",
    "operations. They are not suitable for more complex tasks that require multiple statements or extensive logic.\n",
    "\n",
    "Lambda functions are particularly useful when working with higher-order functions such as map(), filter(), or reduce(), \n",
    "where a function is expected as an argument. Instead of defining a separate function, a lambda function can be used \n",
    "directly inline, making the code more concise and readable.\n",
    "\n",
    "Overall, lambda functions provide a compact and convenient way to define simple functions on the fly without the need for \n",
    "a formal function definition\n",
    "\n",
    "\"\"\""
   ]
  },
  {
   "cell_type": "code",
   "execution_count": 1,
   "id": "39e84c6e",
   "metadata": {},
   "outputs": [],
   "source": [
    "#Here's an example to illustrate the difference between a lambda function and a regular function:\n",
    "\n",
    "def multiplication(a,b):\n",
    "    return(a * b)\n"
   ]
  },
  {
   "cell_type": "code",
   "execution_count": 2,
   "id": "45548a1d",
   "metadata": {},
   "outputs": [
    {
     "name": "stdout",
     "output_type": "stream",
     "text": [
      "30\n"
     ]
    }
   ],
   "source": [
    "print(multiplication(5,6))"
   ]
  },
  {
   "cell_type": "code",
   "execution_count": 3,
   "id": "004aa9e3",
   "metadata": {},
   "outputs": [],
   "source": [
    "mul_lambda = lambda a,b : a * b"
   ]
  },
  {
   "cell_type": "code",
   "execution_count": 4,
   "id": "907f508e",
   "metadata": {},
   "outputs": [
    {
     "name": "stdout",
     "output_type": "stream",
     "text": [
      "72\n"
     ]
    }
   ],
   "source": [
    "print(mul_lambda(8,9))"
   ]
  },
  {
   "cell_type": "code",
   "execution_count": null,
   "id": "4a937a0c",
   "metadata": {},
   "outputs": [],
   "source": [
    "#Can a lambda function in Python have multiple arguments? If yes, how can you define and use them?\n",
    "\n",
    "\"\"\"\n",
    "Yes, a lambda function in Python can have multiple arguments. The syntax for defining and using multiple arguments \n",
    "in a lambda function is similar to that of a regular function.\n",
    "\n",
    "Lambda functions with multiple arguments can be used in various scenarios, such as when working with higher-order \n",
    "functions or in cases where a small, inline function is needed for a specific purpose.\n",
    "\n",
    "\"\"\"\n"
   ]
  },
  {
   "cell_type": "code",
   "execution_count": 5,
   "id": "39c9ae14",
   "metadata": {},
   "outputs": [],
   "source": [
    "#Here's an example of a lambda function with multiple arguments:\n",
    "\n",
    "add_lambda = lambda a,b : a + b\n"
   ]
  },
  {
   "cell_type": "code",
   "execution_count": 7,
   "id": "26fdf1eb",
   "metadata": {},
   "outputs": [
    {
     "name": "stdout",
     "output_type": "stream",
     "text": [
      "17\n"
     ]
    }
   ],
   "source": [
    "print(add_lambda(8,9))"
   ]
  },
  {
   "cell_type": "code",
   "execution_count": null,
   "id": "7e7f1d0f",
   "metadata": {},
   "outputs": [],
   "source": [
    "#3. How are lambda functions typically used in Python? Provide an example use case\n",
    "\n",
    "\"\"\"\n",
    "Lambda functions are typically used in Python when a small, one-line function is required without the need for a formal \n",
    "function definition. They are commonly used in conjunction with higher-order functions such as map(), filter(), and \n",
    "reduce(), where a function is expected as an argument.\n",
    "\n",
    "Using a lambda function in this case allows us to define the squaring operation in a concise and inline manner without \n",
    "the need for a separate function definition. It simplifies the code and eliminates the need to define a separate named\n",
    "function.\n",
    "\n",
    "Lambda functions can also be used with filter() to selectively filter elements from a list based on a condition or with \n",
    "reduce() to perform operations like summing elements or finding the maximum value. They provide a convenient way to define \n",
    "simple functions on the fly when working with higher-order functions that expect a function as an argument.\n",
    "\n",
    "\n",
    "\n",
    "\"\"\""
   ]
  },
  {
   "cell_type": "code",
   "execution_count": 8,
   "id": "c7d0a4c0",
   "metadata": {},
   "outputs": [
    {
     "name": "stdout",
     "output_type": "stream",
     "text": [
      "[65, 39, 221]\n"
     ]
    }
   ],
   "source": [
    "#Here's an example use case to illustrate the typical usage of lambda functions:\n",
    "\n",
    "# Python Program to find numbers divisible \n",
    "# by thirteen from a list using anonymous \n",
    "# function\n",
    "  \n",
    "# Take a list of numbers. \n",
    "my_list = [12, 65, 54, 39, 102, 339, 221, 50, 70 ]\n",
    "  \n",
    "# use anonymous function to filter and comparing \n",
    "# if divisible or not\n",
    "result = list(filter(lambda x: (x % 13 == 0), my_list)) \n",
    "  \n",
    "# printing the result\n",
    "print(result)"
   ]
  },
  {
   "cell_type": "code",
   "execution_count": 9,
   "id": "e6bfe4f0",
   "metadata": {},
   "outputs": [
    {
     "name": "stdout",
     "output_type": "stream",
     "text": [
      "[1, 4, 9, 16, 25]\n"
     ]
    }
   ],
   "source": [
    "#usage in map()\n",
    "\n",
    "numbers = [1, 2, 3, 4, 5]\n",
    "sqrd_num = list(map(lambda x: x**2, numbers))\n",
    "print(sqrd_num)"
   ]
  },
  {
   "cell_type": "code",
   "execution_count": null,
   "id": "8fa9acad",
   "metadata": {},
   "outputs": [],
   "source": [
    "#4. What are the advantages and limitations of lambda functions compared to regular functions in Python?\n",
    "\n",
    "\"\"\"\n",
    "Lambda functions in Python have several advantages and limitations compared to regular functions. \n",
    "\n",
    "Advantages of Lambda Functions:\n",
    "\n",
    "Concise Syntax: Lambda functions provide a more compact syntax compared to regular functions. They can be defined in a \n",
    "single line, which can make the code more readable and expressive.\n",
    " \n",
    "Inline Definition: Lambda functions are defined inline at the point of use, eliminating the need for a separate function \n",
    "definition. This can be advantageous when you need a small, one-time function and don't want to clutter your code with \n",
    "unnecessary function definitions.\n",
    "\n",
    "Anonymous: Lambda functions are anonymous, meaning they don't require a specific name. This is useful when you only need \n",
    "a function for a specific task and don't intend to reuse it elsewhere in your code.\n",
    "\n",
    "Higher-Order Functions: Lambda functions are commonly used with higher-order functions such as map(), filter(), and \n",
    "reduce(). They provide a convenient way to define simple functions on the fly without the need for a separate named \n",
    "function.\n",
    "\n",
    "Limitations of Lambda Functions:\n",
    "\n",
    "Single Expression: Lambda functions can only contain a single expression, limiting their ability to handle complex logic \n",
    "or multiple statements. They are best suited for simple, one-line operations.\n",
    " \n",
    "Lack of Statements and Control Flow: Lambda functions cannot contain statements like if, while, or for loops, as these\n",
    "require multiple lines of code. Lambda functions are restricted to expressions only.\n",
    "\n",
    "Reduced Readability: While lambda functions can make code more concise, they can also reduce readability when used \n",
    "excessively or inappropriately. Complex operations are often better served by regular functions with descriptive names.\n",
    "\n",
    "Limited Functionality: Due to their simplicity and limitations, lambda functions are not suitable for tasks that require\n",
    "extensive logic or complex operations. Regular functions provide more flexibility and can handle a wider range of \n",
    "requirements.\n",
    "\n",
    "It's important to consider these advantages and limitations when deciding whether to use a lambda function or a regular \n",
    "function in your Python code. While lambda functions can be handy in specific scenarios, regular functions are more \n",
    "versatile and provide greater flexibility for complex tasks.\n",
    "\n",
    "\n",
    "\"\"\"\n"
   ]
  },
  {
   "cell_type": "code",
   "execution_count": null,
   "id": "27df74cd",
   "metadata": {},
   "outputs": [],
   "source": [
    "#5. Are lambda functions in Python able to access variables defined outside of their own scope?Explain with an example.\n",
    "\n",
    "\"\"\"\n",
    "Yes, lambda functions in Python can access variables defined outside of their own scope. These variables can be accessed \n",
    "from the enclosing scope, similar to regular functions and other constructs in Python. This behavior is known as \"lexical \n",
    "scoping\" or \"closure.\"\n",
    "\n",
    "or\n",
    "\n",
    "Yes, lambda functions in Python are able to access variables defined outside of their own scope. This is done by using \n",
    "the nonlocal keyword to declare the variable as being non-local. For example, the following lambda function can access\n",
    "the name variable, which is defined outside of the function's scope\n",
    "\"\"\"\n"
   ]
  },
  {
   "cell_type": "code",
   "execution_count": 10,
   "id": "69c49c0e",
   "metadata": {},
   "outputs": [
    {
     "name": "stdout",
     "output_type": "stream",
     "text": [
      "25\n"
     ]
    }
   ],
   "source": [
    "def outer_function():\n",
    "    x = 10\n",
    "\n",
    "    # Lambda function accessing variable from outer scope\n",
    "    lambda_func = lambda y: x + y\n",
    "\n",
    "    return lambda_func\n",
    "\n",
    "# Call outer function and assign the lambda function to a variable\n",
    "my_lambda = outer_function()\n",
    "\n",
    "# Call the lambda function with an argument\n",
    "result = my_lambda(15)\n",
    "\n",
    "print(result)  \n"
   ]
  },
  {
   "cell_type": "code",
   "execution_count": null,
   "id": "4eef7134",
   "metadata": {},
   "outputs": [],
   "source": [
    "\"\"\"\n",
    "In this example, the outer_function() defines a variable x with a value of 10. Inside the function, a lambda function \n",
    "lambda_function is defined, which takes an argument y and returns the sum of x and y. The lambda function accesses the \n",
    "variable x from its enclosing scope, which is the outer_function().\n",
    "\n",
    "When outer_function() is called and the result is assigned to the result variable, it returns the lambda function. \n",
    "The lambda function, in turn, is called with an argument of 5, resulting in the sum of 10 (from x) and 15. \n",
    "The output is 25.\n",
    " \n",
    "Lambda functions have access to the variables in the enclosing scope due to the concept of lexical scoping. \n",
    "They \"capture\" the values of these variables at the time of their creation. This behavior is particularly useful\n",
    "when working with higher-order functions or when you want to create functions dynamically that rely on values from their \n",
    "surrounding context.\n",
    " \n",
    "It's important to note that lambda functions can access variables from the enclosing scope, but they cannot modify them. \n",
    "If you need to modify variables from the enclosing scope, you would need to use regular functions and explicitly declare \n",
    "those variables as nonlocal within the function.\n",
    "\n",
    "\n",
    "\"\"\""
   ]
  },
  {
   "cell_type": "code",
   "execution_count": 13,
   "id": "6ae2de97",
   "metadata": {},
   "outputs": [
    {
     "name": "stdout",
     "output_type": "stream",
     "text": [
      "enter the number:25\n",
      "the square of a given number 625\n"
     ]
    }
   ],
   "source": [
    "#6. Write a lambda function to calculate the square of a given number.\n",
    "\n",
    "num = int(input(\"enter the number:\"))\n",
    "sqr_num = lambda x : x ** 2\n",
    "print(\"the square of a given number\",sqr_num(num))\n"
   ]
  },
  {
   "cell_type": "code",
   "execution_count": 14,
   "id": "4bc6702a",
   "metadata": {},
   "outputs": [
    {
     "name": "stdout",
     "output_type": "stream",
     "text": [
      "19\n"
     ]
    }
   ],
   "source": [
    "#7. Create a lambda function to find the maximum value in a list of integers.\n",
    "\n",
    "lst = [5, 2, 8, 1, 9, 3, 12, 17, 19]\n",
    "\n",
    "print(max(lst,key = lambda x:int(x)))"
   ]
  },
  {
   "cell_type": "code",
   "execution_count": 15,
   "id": "48a4a958",
   "metadata": {},
   "outputs": [
    {
     "name": "stdout",
     "output_type": "stream",
     "text": [
      "[12, 54, 102, 50, 70]\n"
     ]
    }
   ],
   "source": [
    "#8. Implement a lambda function to filter out all the even numbers from a list of integers.\n",
    "\n",
    "my_list = [12, 65, 54, 39, 102, 339, 221, 50, 70 ]\n",
    "  \n",
    "# use anonymous function to filter and comparing \n",
    "# if divisible or not\n",
    "result = list(filter(lambda x: (x % 2 == 0), my_list)) \n",
    "  \n",
    "# printing the result\n",
    "print(result)"
   ]
  },
  {
   "cell_type": "code",
   "execution_count": 16,
   "id": "1562c540",
   "metadata": {},
   "outputs": [
    {
     "name": "stdout",
     "output_type": "stream",
     "text": [
      "['kiwi', 'apple', 'grape', 'banana', 'orange']\n"
     ]
    }
   ],
   "source": [
    "#9. Write a lambda function to sort a list of strings in ascending order based on the length of each string.\n",
    "\n",
    "strings = [\"apple\", \"banana\", \"orange\", \"kiwi\", \"grape\"]\n",
    "\n",
    "\n",
    "print(sorted(strings, key=lambda x: len(x)))  \n",
    "\n"
   ]
  },
  {
   "cell_type": "code",
   "execution_count": 17,
   "id": "997f258e",
   "metadata": {},
   "outputs": [
    {
     "name": "stdout",
     "output_type": "stream",
     "text": [
      "[4, 5, 9]\n"
     ]
    }
   ],
   "source": [
    "#10. Create a lambda function that takes two lists as input and returns a new list containing the common elements \n",
    "#between the two lists.\n",
    "\n",
    "list1 = [1, 2, 3, 4, 5, 9,12]\n",
    "list2 = [4, 5, 6, 7, 8,9,11,18]\n",
    "\n",
    "print(list(filter(lambda x : x in list1,list2)))\n"
   ]
  },
  {
   "cell_type": "code",
   "execution_count": 18,
   "id": "3c8af698",
   "metadata": {},
   "outputs": [
    {
     "name": "stdout",
     "output_type": "stream",
     "text": [
      "Enter the Number:5\n",
      "The factorial of 5 is 120\n"
     ]
    }
   ],
   "source": [
    "#11. Write a recursive function to calculate the factorial of a given positive integer\n",
    "\n",
    "factorial = lambda n :  if n<= 1 else n * factorial(n-1)\n",
    "\n",
    "num = int(input(\"Enter the Number:\"))\n",
    "print(f\"The factorial of {num} is {factorial(num)}\")"
   ]
  },
  {
   "cell_type": "code",
   "execution_count": 26,
   "id": "6c3d998e",
   "metadata": {},
   "outputs": [
    {
     "name": "stdout",
     "output_type": "stream",
     "text": [
      "Enter the Number:6\n",
      "The Fibonacci of 6 is 8\n"
     ]
    }
   ],
   "source": [
    "#12. Implement a recursive function to compute the nth Fibonacci number.\n",
    "fibona = lambda n : 1 if n <= 2 else fibona(n-1) + fibona(n-2)\n",
    "\n",
    "numb = int(input(\"Enter the Number:\"))\n",
    "print(f\"The Fibonacci of {numb} is {fibona(numb)}\")\n",
    "\n",
    "\n",
    "#The Fibonacci numbers are the integer sequence 0, 1, 1, 2, 3, 5, 8, 13, 21, ..., in which each item is formed by adding \n",
    "#the previous two. The sequence can be defined recursively by the following definition:\n",
    "\n",
    "\n"
   ]
  },
  {
   "cell_type": "code",
   "execution_count": 31,
   "id": "54134c88",
   "metadata": {},
   "outputs": [],
   "source": [
    "#13. Create a recursive function to find the sum of all the elements in a given list\n",
    "\n",
    "def getSumlst(num):\n",
    "    return num[0] + getSumlst(num[1:]) if num else 0  #if the code is not writen then there will be indexing error\n"
   ]
  },
  {
   "cell_type": "code",
   "execution_count": 34,
   "id": "22139061",
   "metadata": {},
   "outputs": [
    {
     "name": "stdout",
     "output_type": "stream",
     "text": [
      "70\n"
     ]
    }
   ],
   "source": [
    "print(getSumlst([1,2,3,4,5,6,7,8,9,10,15]))\n"
   ]
  },
  {
   "cell_type": "code",
   "execution_count": 39,
   "id": "5f21e72a",
   "metadata": {},
   "outputs": [],
   "source": [
    "#14. Write a recursive function to determine whether a given string is a palindrome.\n",
    "\n",
    "def is_palindrome(string):\n",
    "    if len(string) <= 1:\n",
    "        return True\n",
    "    else:\n",
    "        return (string[0] == string[-1] and is_palindrome(string[1:-1]))"
   ]
  },
  {
   "cell_type": "code",
   "execution_count": 40,
   "id": "6100f139",
   "metadata": {},
   "outputs": [
    {
     "data": {
      "text/plain": [
       "True"
      ]
     },
     "execution_count": 40,
     "metadata": {},
     "output_type": "execute_result"
    }
   ],
   "source": [
    "is_palindrome(\"radar\")"
   ]
  },
  {
   "cell_type": "code",
   "execution_count": 41,
   "id": "663e33c8",
   "metadata": {},
   "outputs": [
    {
     "data": {
      "text/plain": [
       "False"
      ]
     },
     "execution_count": 41,
     "metadata": {},
     "output_type": "execute_result"
    }
   ],
   "source": [
    "is_palindrome(\"Hello\")"
   ]
  },
  {
   "cell_type": "code",
   "execution_count": 49,
   "id": "fb4349de",
   "metadata": {},
   "outputs": [
    {
     "name": "stdout",
     "output_type": "stream",
     "text": [
      "Enter the number:10\n",
      "Enter the number:15\n",
      "The GCD of 10 and 15 is: 5\n"
     ]
    }
   ],
   "source": [
    "#15. Implement a recursive function to find the greatest common divisor (GCD) of two positive integers.\n",
    "\n",
    "gcd = lambda a,b : a if b == 0 else gcd(b,a%b)\n",
    "a = int(input(\"Enter the number:\"))\n",
    "b = int(input(\"Enter the number:\"))\n",
    "print(f\"The GCD of {a} and {b} is:\",gcd(a,b))"
   ]
  }
 ],
 "metadata": {
  "kernelspec": {
   "display_name": "Python 3 (ipykernel)",
   "language": "python",
   "name": "python3"
  },
  "language_info": {
   "codemirror_mode": {
    "name": "ipython",
    "version": 3
   },
   "file_extension": ".py",
   "mimetype": "text/x-python",
   "name": "python",
   "nbconvert_exporter": "python",
   "pygments_lexer": "ipython3",
   "version": "3.11.0"
  }
 },
 "nbformat": 4,
 "nbformat_minor": 5
}
