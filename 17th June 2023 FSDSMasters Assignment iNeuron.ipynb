{
 "cells": [
  {
   "cell_type": "code",
   "execution_count": null,
   "id": "01d6fc57",
   "metadata": {},
   "outputs": [],
   "source": [
    "#1. What is the role of try and exception block?\n",
    "\n",
    "\"\"\"\n",
    "The try and except block in Python is used to catch and handle exceptions. Python executes code following the \n",
    "try statement as a “normal” part of the program. The code that follows the except statement is the program's \n",
    "response to any exceptions in the preceding try clause.\n",
    "\n",
    "The try-except block consists of two parts: the try block and the except block. The try block is where you write the \n",
    "code that you want to execute. The except block is where you write the code that you want to execute if an error occurs.\n",
    "\n",
    "\"\"\""
   ]
  },
  {
   "cell_type": "code",
   "execution_count": 1,
   "id": "9ef042ae",
   "metadata": {},
   "outputs": [
    {
     "name": "stdout",
     "output_type": "stream",
     "text": [
      "Enter the Number1:10\n",
      "Enter the Number2:0\n",
      "You have entered division by zero\n"
     ]
    }
   ],
   "source": [
    "#above excepction can be handled by try,except \n",
    "try:\n",
    "    n1 = int(input('Enter the Number1:'))\n",
    "    n2 = int(input('Enter the Number2:'))\n",
    "    print('The result is:',n1/n2)\n",
    "except ZeroDivisionError:\n",
    "    print('You have entered division by zero')\n",
    "\n",
    "    "
   ]
  },
  {
   "cell_type": "code",
   "execution_count": 3,
   "id": "b7150a17",
   "metadata": {},
   "outputs": [],
   "source": [
    "#2. What is the syntax for a basic try-except block?\n",
    "\n",
    "try:\n",
    "    pass\n",
    "except ExceptionType:\n",
    "        pass\n"
   ]
  },
  {
   "cell_type": "code",
   "execution_count": null,
   "id": "054157ef",
   "metadata": {},
   "outputs": [],
   "source": [
    "#3.What happens if an exception occurs inside a try block and there is no matching except block?\n",
    "\n",
    "\"\"\"\n",
    "If an exception occurs inside a try block and there is no matching except block to handle that specific type of exception,\n",
    "the exception will propagate up the call stack until it is caught by an appropriate exception handler.\n",
    " \n",
    "In such a case, the program's normal flow of execution is interrupted, and it begins to unwind the call stack, \n",
    "searching for an exception handler that can handle the exception. If no suitable exception handler is found, \n",
    "the program may terminate abruptly, and an error message or stack trace will be displayed, indicating the unhandled \n",
    "exception.\n",
    "\n",
    "The exact behavior can vary depending on the programming language and the runtime environment. In some languages, \n",
    "an unhandled exception may cause the program to terminate immediately. In others, the runtime environment or operating \n",
    "system may provide default exception handling mechanisms, such as printing an error message or generating a core dump.\n",
    "\n",
    "To ensure proper exception handling and prevent unhandled exceptions from terminating the program, it is generally \n",
    "recommended to have a catch block that handles the most common and expected exceptions, and to include a more general \n",
    "catch block at the end to handle any unexpected or unhandled exceptions. This approach helps in providing graceful error \n",
    "handling and preventing crashes or unexpected termination of the program.\n",
    "\n",
    "\n",
    "\"\"\"\n"
   ]
  },
  {
   "cell_type": "code",
   "execution_count": null,
   "id": "0f636202",
   "metadata": {},
   "outputs": [],
   "source": [
    "#4. What is the difference between using a bare except block and specifying a specific exception type?\n",
    "\n",
    "\"\"\"\n",
    "When handling exceptions using try-except blocks, there is a difference between using a bare except block and specifying \n",
    "a specific exception type. Let's examine the distinctions:\n",
    " \n",
    "Specific Exception Type:\n",
    " \n",
    "When you specify a specific exception type in the except block (e.g., except ValueError:), it means that the corresponding \n",
    "except block will only handle exceptions of that particular type or its subclasses. It provides targeted exception handling\n",
    "for a specific type of error.\n",
    "\n",
    "Using specific exception types allows you to provide specialized handling logic for different types of exceptions. \n",
    "\n",
    "You can customize the error recovery or response based on the specific exception that occurred.\n",
    "\n",
    "It is considered good practice to handle exceptions selectively by specifying the relevant exception types rather than \n",
    "catching all exceptions.\n",
    "\n",
    "Bare Except Block:\n",
    " \n",
    "A bare except block (e.g., except: without specifying an exception type) will catch and handle any exception, \n",
    "regardless of its type. It acts as a catch-all for any exception that occurs within the corresponding try block.\n",
    "Using a bare except block can be convenient in certain scenarios, as it prevents the program from abruptly terminating\n",
    "when an unexpected exception occurs.\n",
    "\n",
    "However, using a bare except block without any specific exception type can also lead to potential issues. It makes it\n",
    "harder to identify and debug specific exceptions, as all exceptions are caught and handled uniformly. It can mask errors \n",
    "and make it difficult to diagnose the root cause of an exception.\n",
    "\n",
    "In general, it is recommended to use specific exception types in the except blocks whenever possible. This allows for \n",
    "more precise and targeted exception handling, improves code readability, and helps in diagnosing and resolving issues more\n",
    "effectively. The use of bare except blocks should be avoided or used sparingly, as they can make it harder to identify and\n",
    "handle exceptions properly.\n",
    "\n",
    "A bare except: clause will catch SystemExit and KeyboardInterrupt exceptions, making it harder to interrupt a program with \n",
    "Control-C, and can disguise other problems. If you want to catch all exceptions that signal program errors, use except \n",
    "Exception: (bare except is equivalent to except BaseException:)\n",
    "\n",
    "\n",
    "\n",
    "\"\"\"\n"
   ]
  },
  {
   "cell_type": "code",
   "execution_count": 5,
   "id": "9d74abb6",
   "metadata": {},
   "outputs": [],
   "source": [
    "## Bare Exception\n",
    "\n",
    "def check_image_on_screen(image):\n",
    "    try:\n",
    "        pyautogui.locateCenterOnScreen(image)\n",
    "        return True\n",
    "    except:\n",
    "        return False"
   ]
  },
  {
   "cell_type": "code",
   "execution_count": 6,
   "id": "87a90e63",
   "metadata": {},
   "outputs": [
    {
     "name": "stdout",
     "output_type": "stream",
     "text": [
      "Data type Mismatch\n"
     ]
    }
   ],
   "source": [
    "## Specific exception\n",
    "\n",
    "#type error\n",
    "try:\n",
    "    x = '10'\n",
    "    y = 5\n",
    "    z = x + y\n",
    "    print(z)\n",
    "    \n",
    "except TypeError:\n",
    "    print('Data type Mismatch')\n",
    "except NameError:\n",
    "    print('name Z is not defined')\n",
    "    "
   ]
  },
  {
   "cell_type": "code",
   "execution_count": null,
   "id": "f7ccd8e3",
   "metadata": {},
   "outputs": [],
   "source": [
    "#5. Can you have nested try-except blocks in Python? If yes, then give an example\n",
    "\n",
    "\"\"\"\n",
    "Yes, it is possible to have nested try-except blocks in Python. This means that you can have a try block inside another try\n",
    "block, and each try block can have its own corresponding except block. This allows for handling exceptions at different \n",
    "levels of code execution\n",
    "\"\"\"\n"
   ]
  },
  {
   "cell_type": "code",
   "execution_count": 7,
   "id": "10ca5c33",
   "metadata": {},
   "outputs": [
    {
     "name": "stdout",
     "output_type": "stream",
     "text": [
      "Outer try block\n",
      "Inner try block\n",
      "Caught ZeroDivisionError in inner except block\n",
      "Inner finally block\n",
      "Outer finally block\n"
     ]
    }
   ],
   "source": [
    "try:\n",
    "    # Outer try block\n",
    "    print(\"Outer try block\")\n",
    "    try:\n",
    "        # Inner try block\n",
    "        print(\"Inner try block\")\n",
    "        a = 10\n",
    "        b = 0\n",
    "        result = a / b  # This will raise a ZeroDivisionError\n",
    "        print(\"Result:\", result)  # This line will not be executed\n",
    "    except ZeroDivisionError:\n",
    "        # Inner except block\n",
    "        print(\"Caught ZeroDivisionError in inner except block\")\n",
    "    finally:\n",
    "        # Inner finally block\n",
    "        print(\"Inner finally block\")\n",
    "except:\n",
    "    # Outer except block\n",
    "    print(\"Caught exception in outer except block\")\n",
    "finally:\n",
    "    # Outer finally block\n",
    "    print(\"Outer finally block\")\n"
   ]
  },
  {
   "cell_type": "code",
   "execution_count": null,
   "id": "2f7b0a42",
   "metadata": {},
   "outputs": [],
   "source": [
    "\"\"\"\n",
    "\n",
    "As you can see, the program flow jumps from the inner try block to the corresponding inner except block upon encountering \n",
    "the ZeroDivisionError. After executing the inner finally block, the flow continues to the outer finally block. If there \n",
    "were no matching except blocks for the encountered exception, the flow would have propagated to the outer except block, \n",
    "and then the finally blocks would have been executed.\n",
    "\"\"\""
   ]
  },
  {
   "cell_type": "code",
   "execution_count": null,
   "id": "c117932e",
   "metadata": {},
   "outputs": [],
   "source": [
    "#6. Can we use multiple exception blocks, if yes then give an example.\n",
    "\n",
    "\"\"\"\n",
    "Yes, it is possible to use multiple except blocks to handle different types of exceptions in Python. This allows you to\n",
    "provide different handling mechanisms based on the specific exception that occurs. \n",
    "\"\"\""
   ]
  },
  {
   "cell_type": "code",
   "execution_count": 8,
   "id": "699ac3db",
   "metadata": {},
   "outputs": [
    {
     "name": "stdout",
     "output_type": "stream",
     "text": [
      "Caught ZeroDivisionError\n"
     ]
    }
   ],
   "source": [
    "try:\n",
    "    a = 10\n",
    "    b = 0\n",
    "    result = a / b  # This will raise a ZeroDivisionError\n",
    "    print(\"Result:\", result)  # This line will not be executed\n",
    "except ZeroDivisionError:\n",
    "    print(\"Caught ZeroDivisionError\")\n",
    "except ValueError:\n",
    "    print(\"Caught ValueError\")\n",
    "except:\n",
    "    print(\"Caught an exception\")\n"
   ]
  },
  {
   "cell_type": "code",
   "execution_count": null,
   "id": "067b8b21",
   "metadata": {},
   "outputs": [],
   "source": [
    "\"\"\"\n",
    "In this example, there are three except blocks following the try block. The first except block specifically handles the \n",
    "ZeroDivisionError, the second except block handles the ValueError, and the third except block serves as a catch-all for\n",
    "any other exceptions.\n",
    "\n",
    "If a ZeroDivisionError occurs, the program will jump to the first except block and execute its code. Similarly, if a \n",
    "ValueError occurs, the program will jump to the second except block. If any other exception occurs that is not explicitly \n",
    "handled by the first two except blocks, the program will jump to the third except block.\n",
    " \n",
    "It's important to note that the order of the except blocks matters. Python matches the exception against the except blocks \n",
    "in the order they are defined. Therefore, if a more specific exception type is defined after a more general one, the more \n",
    "specific exception block will never be reached because the more general one will catch the exception first.\n",
    " \n",
    "Using multiple except blocks allows you to handle different exceptions separately, providing more granular error handling \n",
    "and improving the robustness of your code.\n",
    "\n",
    "\n",
    "\"\"\""
   ]
  },
  {
   "cell_type": "code",
   "execution_count": null,
   "id": "810b3c94",
   "metadata": {},
   "outputs": [],
   "source": [
    "\"\"\"\n",
    "7. Write the reason due to which following errors are raised: a. EOFError b. FloatingPointError c. IndexError d.MemoryError\n",
    "e. OverflowError f. TabError g. ValueError\n",
    "\"\"\""
   ]
  },
  {
   "cell_type": "code",
   "execution_count": null,
   "id": "8bce9de0",
   "metadata": {},
   "outputs": [],
   "source": [
    "\"\"\"\n",
    "a.EOFError:\n",
    " \n",
    "An EOFError (End of File Error) is raised when an input operation reaches the end of a file or input stream unexpectedly.\n",
    "This error typically occurs when a program tries to read input beyond the end of a file or when the input stream is \n",
    "closed.\n",
    "\n",
    "b.FloatingPointError:\n",
    " \n",
    "A FloatingPointError is raised when a floating-point operation encounters an exceptional condition that cannot be handled.\n",
    "This error can occur due to various reasons, such as dividing a number by zero, performing an invalid mathematical \n",
    "operation, or encountering an overflow or underflow condition.\n",
    "\n",
    "c. IndexError:\n",
    " \n",
    "An IndexError is raised when a sequence (such as a list, tuple, or string) is indexed with an invalid index or when \n",
    "trying to access an element that is out of range.\n",
    "This error typically occurs when an index is negative or exceeds the size of the sequence.\n",
    "\n",
    "d. MemoryError:\n",
    " \n",
    "A MemoryError is raised when an operation fails to allocate enough memory to complete its task.\n",
    "This error occurs when the program tries to allocate more memory than the system can provide or when the available memory \n",
    "is exhausted.\n",
    "\n",
    "e. OverflowError:\n",
    " \n",
    "An OverflowError is raised when the result of a numeric operation exceeds the range of representable values for the data \n",
    "type being used.\n",
    "\n",
    "This error typically occurs when performing arithmetic operations on numbers that are too large to be represented within\n",
    "the available numeric data type.\n",
    "\n",
    "f. TabError:\n",
    " \n",
    "A TabError is raised when there are inconsistencies or issues with the use of tabs and spaces for indentation in Python \n",
    "code.\n",
    "\n",
    "This error occurs when the indentation in a block of code is not consistent or when a mix of tabs and spaces is used for\n",
    "indentation, causing conflicts in the code's structure.\n",
    "\n",
    "g. ValueError:\n",
    "\n",
    "A ValueError is raised when a function receives an argument of the correct type but with an invalid value or when a \n",
    "conversion between data types fails.\n",
    "\n",
    "This error can occur when trying to convert a string to a numeric type but the string does not represent a valid number or\n",
    "when an argument is provided with an unexpected or inappropriate value.\n",
    "\n",
    "Understanding the reasons behind these errors can help in diagnosing and resolving issues in your code and handling the \n",
    "exceptions appropriately.\n",
    "\n",
    "\"\"\"\n",
    "\n"
   ]
  },
  {
   "cell_type": "code",
   "execution_count": 10,
   "id": "c20edc8b",
   "metadata": {},
   "outputs": [
    {
     "name": "stdout",
     "output_type": "stream",
     "text": [
      "Enter the numerator: 25\n",
      "Enter the denominator: 0\n",
      "Error: Cannot divide by zero.\n"
     ]
    }
   ],
   "source": [
    "#8. Write code for the following given scenario and add try-exception block to it.\n",
    "\n",
    "#a. Program to divide two numbers:\n",
    "try:\n",
    "    numerator = int(input(\"Enter the numerator: \"))\n",
    "    denominator = int(input(\"Enter the denominator: \"))\n",
    "    result = numerator / denominator\n",
    "    print(\"Result:\", result)\n",
    "except ZeroDivisionError:\n",
    "    print(\"Error: Cannot divide by zero.\")\n",
    "except ValueError:\n",
    "    print(\"Error: Invalid input. Please enter valid integers.\")\n"
   ]
  },
  {
   "cell_type": "code",
   "execution_count": 11,
   "id": "6eb83408",
   "metadata": {},
   "outputs": [
    {
     "name": "stdout",
     "output_type": "stream",
     "text": [
      "Enter the numerator: 25\n",
      "Enter the denominator: 3.0\n",
      "Error: Invalid input. Please enter valid integers.\n"
     ]
    }
   ],
   "source": [
    "try:\n",
    "    numerator = int(input(\"Enter the numerator: \"))\n",
    "    denominator = int(input(\"Enter the denominator: \"))\n",
    "    result = numerator / denominator\n",
    "    print(\"Result:\", result)\n",
    "except ZeroDivisionError:\n",
    "    print(\"Error: Cannot divide by zero.\")\n",
    "except ValueError:\n",
    "    print(\"Error: Invalid input. Please enter valid integers.\")\n"
   ]
  },
  {
   "cell_type": "code",
   "execution_count": 13,
   "id": "be40991e",
   "metadata": {},
   "outputs": [
    {
     "name": "stdout",
     "output_type": "stream",
     "text": [
      "Enter a number: rajesh\n",
      "Error: Invalid input. Please enter a valid integer.\n"
     ]
    }
   ],
   "source": [
    "#b. Program to convert a string to an integer:\n",
    "try:\n",
    "    num_str = input(\"Enter a number: \")\n",
    "    num = int(num_str)\n",
    "    print(\"Number:\", num)\n",
    "except ValueError:\n",
    "    print(\"Error: Invalid input. Please enter a valid integer.\")\n"
   ]
  },
  {
   "cell_type": "code",
   "execution_count": 15,
   "id": "5877d54b",
   "metadata": {},
   "outputs": [
    {
     "name": "stdout",
     "output_type": "stream",
     "text": [
      "Enter the index: 6\n",
      "Error: Index out of range.\n"
     ]
    }
   ],
   "source": [
    "#c. Program to access an element in a list:\n",
    "try:\n",
    "    my_list = [1, 2, 3, 4, 5]\n",
    "    index = int(input(\"Enter the index: \"))\n",
    "    value = my_list[index]\n",
    "    print(\"Value at index\", index, \"is:\", value)\n",
    "except IndexError:\n",
    "    print(\"Error: Index out of range.\")\n",
    "except ValueError:\n",
    "    print(\"Error: Invalid input. Please enter a valid index.\")\n"
   ]
  },
  {
   "cell_type": "code",
   "execution_count": 16,
   "id": "5ba4c570",
   "metadata": {},
   "outputs": [
    {
     "name": "stdout",
     "output_type": "stream",
     "text": [
      "Enter a number: 0\n",
      "Error: Cannot divide by zero.\n"
     ]
    }
   ],
   "source": [
    "#d. Program to handle a specific exception:\n",
    "try:\n",
    "    num = int(input(\"Enter a number: \"))\n",
    "    result = 10 / num\n",
    "    print(\"Result:\", result)\n",
    "except ZeroDivisionError:\n",
    "    print(\"Error: Cannot divide by zero.\")\n",
    "except ValueError:\n",
    "    print(\"Error: Invalid input. Please enter a valid integer.\")\n"
   ]
  },
  {
   "cell_type": "code",
   "execution_count": 20,
   "id": "50d4868f",
   "metadata": {},
   "outputs": [
    {
     "name": "stdout",
     "output_type": "stream",
     "text": [
      "Enter the first number: 32\n",
      "Enter the second number: 2.0\n",
      "An error occurred: invalid literal for int() with base 10: '2.0'\n"
     ]
    }
   ],
   "source": [
    "#e. Program to handle any exception:\n",
    "try:\n",
    "    num1 = int(input(\"Enter the first number: \"))\n",
    "    num2 = int(input(\"Enter the second number: \"))\n",
    "    result = num1 / num2\n",
    "    print(\"Result:\", result)\n",
    "except Exception as e:\n",
    "    print(\"An error occurred:\", str(e))"
   ]
  },
  {
   "cell_type": "code",
   "execution_count": null,
   "id": "3bebedea",
   "metadata": {},
   "outputs": [],
   "source": []
  }
 ],
 "metadata": {
  "kernelspec": {
   "display_name": "Python 3 (ipykernel)",
   "language": "python",
   "name": "python3"
  },
  "language_info": {
   "codemirror_mode": {
    "name": "ipython",
    "version": 3
   },
   "file_extension": ".py",
   "mimetype": "text/x-python",
   "name": "python",
   "nbconvert_exporter": "python",
   "pygments_lexer": "ipython3",
   "version": "3.11.0"
  }
 },
 "nbformat": 4,
 "nbformat_minor": 5
}
