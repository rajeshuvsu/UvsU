{
 "cells": [
  {
   "cell_type": "code",
   "execution_count": 5,
   "id": "cb2636ed",
   "metadata": {},
   "outputs": [
    {
     "name": "stdout",
     "output_type": "stream",
     "text": [
      "25\n",
      "-5\n",
      "150\n",
      "0.6666666666666666\n",
      "<class 'str'>\n",
      "<class 'int'>\n",
      "<class 'float'>\n"
     ]
    }
   ],
   "source": [
    "#Q1.In the below elements which of them are values or an expression? eg:- values can be\n",
    "#integer or string and expressions will be mathematical operators.\n",
    "\n",
    "#1) (*)-->Multiplication ,(-)-->Substraction,(/)-->Substraction,(+)-Addition - Are the expressions used to \n",
    "  # perform mathematical operation\n",
    "# Here are the examples\n",
    "\n",
    "a = 10\n",
    "b = 15\n",
    "print(a+b) # + addition operator\n",
    "print(a-b) # - substration operator\n",
    "print(a*b) # * multiplication operator\n",
    "print(a/b) # / division operator\n",
    "\n",
    "\n",
    "#2) 'hello' --> represents the string date type\n",
    "\n",
    "str1 = 'Hello World'\n",
    "print(type(str1))\n",
    "\n",
    "#3) 6 --> represnts integer value\n",
    "\n",
    "x = 6\n",
    "print(type(x))\n",
    "\n",
    "#4) -87.8 --> represents float value\n",
    "\n",
    "y = -87.8\n",
    "print(type(y))\n",
    "\n"
   ]
  },
  {
   "cell_type": "code",
   "execution_count": 6,
   "id": "9875c078",
   "metadata": {},
   "outputs": [
    {
     "name": "stdout",
     "output_type": "stream",
     "text": [
      "<class 'str'>\n",
      "10 20\n",
      "25\n"
     ]
    }
   ],
   "source": [
    "#Q2.What is the difference between string and variable?\n",
    "\n",
    "#String is any thing you assign to a variable using quotes ' ' or \" \" will be considered as string\n",
    "#example\n",
    "a = 'Hello Python'\n",
    "print(type(a))\n",
    "#Variable is an identifier to store a value ina memory loaction and to manipulate it if needed\n",
    "#example\n",
    "x = 10\n",
    "y = 20\n",
    "\n",
    "print(x,y)\n",
    "\n",
    "x = 25\n",
    "print(x)"
   ]
  },
  {
   "cell_type": "code",
   "execution_count": 15,
   "id": "d7ec2be0",
   "metadata": {},
   "outputs": [
    {
     "name": "stdout",
     "output_type": "stream",
     "text": [
      "<class 'int'>\n",
      "<class 'float'>\n",
      "<class 'complex'>\n",
      "\n",
      "String with the use of Single Quotes: \n",
      "Welcome to the Ineuron World\n",
      "\n",
      "String with the use of Double Quotes: \n",
      "I'm a Ineuron\n",
      "<class 'str'>\n",
      "\n",
      "String with the use of Triple Quotes: \n",
      "I'm a Ineuron and I live in a world of \"Ineuron\"\n",
      "<class 'str'>\n",
      "\n",
      "Creating a multiline String: \n",
      "Ineuron\n",
      "            Neuron Lab\n",
      "            GitHub\n",
      "\n",
      "Initial blank List: \n",
      "[]\n",
      "\n",
      "List with the use of String: \n",
      "['applemangobanana']\n",
      "\n",
      "List containing multiple values: \n",
      "apple\n",
      "banana\n",
      "\n",
      "Multi-Dimensional List: \n",
      "[['apple', 'mango'], ['banana']]\n",
      "Initial empty Tuple: \n",
      "()\n",
      "\n",
      "Tuple with the use of String: \n",
      "('apple', 'mango')\n",
      "\n",
      "Tuple using List: \n",
      "(1, 2, 4, 5, 6)\n",
      "\n",
      "Tuple with the use of function: \n",
      "('m', 'a', 'n', 'g', 'o')\n",
      "\n",
      "Tuple with nested tuples: \n",
      "((0, 1, 2, 3), ('banana', 'cherry'))\n"
     ]
    }
   ],
   "source": [
    "'''\n",
    "Q3.Describe three different data types.\n",
    "\n",
    "1.Numeric Data Type consists of int -> integer type, float -> floating point numeric and complex numbers\n",
    "\n",
    "Integers --> the value is represented by int class.it contains positive and negative whole numbers\n",
    "in python there is no limit to how long an integer value can be\n",
    "'''\n",
    "#example\n",
    "k = 10\n",
    "print(type(k))\n",
    "\n",
    "#flot --> represents float class. it is a real number with floating point and is specified by a decimal point\n",
    "#example \n",
    "\n",
    "j = 89.50\n",
    "print(type(j))\n",
    "\n",
    "#Complex Numbers --> represnted by complex class. it is specied (real part) + (imaginary part)j \n",
    "#example\n",
    "\n",
    "z = 2 + 3j\n",
    "print(type(z))\n",
    "\n",
    "\n",
    "#2.Sequence Data Types 1.String 2.list and 3.tuples\n",
    "\n",
    "#1.String Data Type --> arrays of bytes represting unicode characters. A string is collection of one or more characters\n",
    "#put in single ' ' or double \" \" quotes.\n",
    "#example\n",
    "\n",
    "# Python Program for\n",
    "# Creation of String\n",
    "# Creating a String\n",
    "# with single Quotes\n",
    "String1 = 'Welcome to the Ineuron World'\n",
    "print(\"\\nString with the use of Single Quotes: \")\n",
    "print(String1)\n",
    " \n",
    "# Creating a String\n",
    "# with double Quotes\n",
    "String1 = \"I'm a Ineuron\"\n",
    "print(\"\\nString with the use of Double Quotes: \")\n",
    "print(String1)\n",
    "print(type(String1))\n",
    " \n",
    "# Creating a String\n",
    "# with triple Quotes\n",
    "String1 = '''I'm a Ineuron and I live in a world of \"Ineuron\"'''\n",
    "print(\"\\nString with the use of Triple Quotes: \")\n",
    "print(String1)\n",
    "print(type(String1))\n",
    " \n",
    "# Creating String with triple\n",
    "# Quotes allows multiple lines\n",
    "String1 = '''Ineuron\n",
    "            Neuron Lab\n",
    "            GitHub'''\n",
    "print(\"\\nCreating a multiline String: \")\n",
    "print(String1)\n",
    "\n",
    "'''\n",
    "2.List Data Types --> List are just like arrays,which is in ordered collection of data.It is very flexible as the items in\n",
    "a list do not need to be of same type\n",
    "List can  be created by just placing the sequence in the square brackets []\n",
    "List can be mutable\n",
    "'''\n",
    "# Creating a List\n",
    "List = []\n",
    "print(\"\\nInitial blank List: \")\n",
    "print(List)\n",
    " \n",
    "# Creating a List with\n",
    "# the use of a String\n",
    "List = ['applemangobanana']\n",
    "print(\"\\nList with the use of String: \")\n",
    "print(List)\n",
    " \n",
    "# Creating a List with\n",
    "# the use of multiple values\n",
    "List = [\"apple\", \"mango\", \"banana\"]\n",
    "print(\"\\nList containing multiple values: \")\n",
    "print(List[0])\n",
    "print(List[2])\n",
    " \n",
    "# Creating a Multi-Dimensional List\n",
    "# (By Nesting a list inside a List)\n",
    "List = [['apple', 'mango'], ['banana']]\n",
    "print(\"\\nMulti-Dimensional List: \")\n",
    "print(List)\n",
    "\n",
    "#in order to access the list items refer to the index number,use the index operator[]\n",
    "\n",
    "'''\n",
    "Tuple data type --> Just like list, a tuple is also an ordered collection. the only difference between a tuple and a list is\n",
    "tuples are immutable i.e., tuples cannot be modified afer it is created.\n",
    "tuples can be created by placing sequence of values seperated by a comma with or without perentheses for grouping the data \n",
    "sequence.\n",
    "'''\n",
    "# Creating an empty tuple\n",
    "Tuple1 = ()\n",
    "print(\"Initial empty Tuple: \")\n",
    "print(Tuple1)\n",
    " \n",
    "# Creating a Tuple with\n",
    "# the use of Strings\n",
    "Tuple1 = ('apple', 'mango')\n",
    "print(\"\\nTuple with the use of String: \")\n",
    "print(Tuple1)\n",
    " \n",
    "# Creating a Tuple with\n",
    "# the use of list\n",
    "list1 = [1, 2, 4, 5, 6]\n",
    "print(\"\\nTuple using List: \")\n",
    "print(tuple(list1))\n",
    " \n",
    "# Creating a Tuple with the\n",
    "# use of built-in function\n",
    "Tuple1 = tuple('mango')\n",
    "print(\"\\nTuple with the use of function: \")\n",
    "print(Tuple1)\n",
    " \n",
    "# Creating a Tuple\n",
    "# with nested tuples\n",
    "Tuple1 = (0, 1, 2, 3)\n",
    "Tuple2 = ('banana', 'cherry')\n",
    "Tuple3 = (Tuple1, Tuple2)\n",
    "print(\"\\nTuple with nested tuples: \")\n",
    "print(Tuple3)\n",
    "\n"
   ]
  },
  {
   "cell_type": "code",
   "execution_count": 20,
   "id": "5994a1d7",
   "metadata": {},
   "outputs": [
    {
     "name": "stdout",
     "output_type": "stream",
     "text": [
      "50\n"
     ]
    }
   ],
   "source": [
    "#Q4.What is an expression made up of? What do all expressions do?\n",
    "'''\n",
    "A combination of operands and operators is called an expression. The expression in Python produces some value or \n",
    "result after being interpreted by the Python interpreter. An expression in Python is a combination of operators and \n",
    "operands. An example of expression\n",
    "a = a + 10\n",
    "c = a + b\n",
    "'''\n",
    "d = 10\n",
    "e = 35 # a statement\n",
    "d = d + 5 #an expression\n",
    "f = d + e# expression\n",
    "print(f)\n"
   ]
  },
  {
   "cell_type": "code",
   "execution_count": 19,
   "id": "442c322d",
   "metadata": {},
   "outputs": [
    {
     "data": {
      "text/plain": [
       "'\\n1.Expressions can be assigned or used as operands, while statements can only be declared\\n2.An expression in Python is evaluated for some results.\\n3.The expression evaluation does not result in any state change.\\n\\n1.A statement in Python is not evaluated for some results.\\n2.The execution of a statement changes the state of the variable.\\n'"
      ]
     },
     "execution_count": 19,
     "metadata": {},
     "output_type": "execute_result"
    }
   ],
   "source": [
    "#Q5.This assignment statements, like spam = 10. What is the difference between an expression and a statement?\n",
    "\n",
    "spam = 10 #a statement\n",
    "spam = spam + 15 #an expression\n",
    "\n",
    "'''\n",
    "1.Expressions can be assigned or used as operands, while statements can only be declared\n",
    "2.An expression in Python is evaluated for some results.\n",
    "3.The expression evaluation does not result in any state change.\n",
    "\n",
    "1.A statement in Python is not evaluated for some results.\n",
    "2.The execution of a statement changes the state of the variable.\n",
    "'''\n"
   ]
  },
  {
   "cell_type": "code",
   "execution_count": 21,
   "id": "cea8a742",
   "metadata": {},
   "outputs": [
    {
     "data": {
      "text/plain": [
       "23"
      ]
     },
     "execution_count": 21,
     "metadata": {},
     "output_type": "execute_result"
    }
   ],
   "source": [
    "#Q6. After running the following code, what does the variable bacon contain?\n",
    "becon = 22\n",
    "becon+1\n",
    "\n"
   ]
  },
  {
   "cell_type": "code",
   "execution_count": 28,
   "id": "8764bc4e",
   "metadata": {},
   "outputs": [
    {
     "data": {
      "text/plain": [
       "'spamspampspam'"
      ]
     },
     "execution_count": 28,
     "metadata": {},
     "output_type": "execute_result"
    }
   ],
   "source": [
    "#Q7.What should the values of the following two terms be?\n",
    "# 'spam'+'spamspam' and 'spam'*3 gives same output\n",
    "'spam'+'spampspam'\n",
    "\n"
   ]
  },
  {
   "cell_type": "code",
   "execution_count": 29,
   "id": "7fe0a11f",
   "metadata": {},
   "outputs": [
    {
     "data": {
      "text/plain": [
       "'spamspamspam'"
      ]
     },
     "execution_count": 29,
     "metadata": {},
     "output_type": "execute_result"
    }
   ],
   "source": [
    "'spam'*3"
   ]
  },
  {
   "cell_type": "code",
   "execution_count": 30,
   "id": "faa73063",
   "metadata": {},
   "outputs": [
    {
     "name": "stdout",
     "output_type": "stream",
     "text": [
      "21\n",
      "21\n",
      "21\n",
      "21\n",
      "21\n"
     ]
    }
   ],
   "source": [
    "#Q8.Why is eggs a valid variable name while 100 is invalid?\n",
    "#A variable can start from A-Z,a-z,_ the it can be valid variable\n",
    "#example\n",
    "#you can start the variable using _\n",
    "_age = 21\n",
    "print(_age)\n",
    "\n",
    "#you can start the variable using small letter\n",
    "age = 21\n",
    "print(age)\n",
    "\n",
    "##you can start the variable using all capital letter\n",
    "AGE = 21\n",
    "print(AGE)\n",
    "\n",
    "#you can start the variable using capital letter\n",
    "Age = 21\n",
    "print(Age)\n",
    "\n",
    "#you cannot start the variable using number 0-9 but can be used in between\n",
    "_age123 = 21\n",
    "print(_age123)\n",
    "\n"
   ]
  },
  {
   "cell_type": "code",
   "execution_count": 32,
   "id": "5fb2894a",
   "metadata": {},
   "outputs": [
    {
     "ename": "SyntaxError",
     "evalue": "invalid decimal literal (1733840651.py, line 2)",
     "output_type": "error",
     "traceback": [
      "\u001b[1;36m  Cell \u001b[1;32mIn[32], line 2\u001b[1;36m\u001b[0m\n\u001b[1;33m    12age = 21\u001b[0m\n\u001b[1;37m     ^\u001b[0m\n\u001b[1;31mSyntaxError\u001b[0m\u001b[1;31m:\u001b[0m invalid decimal literal\n"
     ]
    }
   ],
   "source": [
    "#you cannot start the variable using number 0-9 or digits\n",
    "12age = 21\n",
    "print(12age)"
   ]
  },
  {
   "cell_type": "code",
   "execution_count": 46,
   "id": "97ccaf0d",
   "metadata": {},
   "outputs": [
    {
     "name": "stdout",
     "output_type": "stream",
     "text": [
      "enter number:15\n",
      "Enetered number is of type: <class 'str'>\n",
      "a is of type: <class 'int'>\n",
      "a is of type: <class 'float'>\n",
      "a is of type: <class 'str'>\n",
      "b is of type: <class 'int'>\n"
     ]
    }
   ],
   "source": [
    "#Q9.What three functions can be used to get the integer, floating-point number, or string version of a value?\n",
    "# int(),float() and str()\n",
    "\n",
    "a = 10 # default type is of int\n",
    "b = input('enter number:')\n",
    "print('Enetered number is of type:',type(b))\n",
    "print('a is of type:',type(a))\n",
    "print('a is of type:',type(float(a)))\n",
    "print('a is of type:',type(str(a)))\n",
    "print('b is of type:',type(int(b)))\n"
   ]
  },
  {
   "cell_type": "code",
   "execution_count": 50,
   "id": "73742206",
   "metadata": {},
   "outputs": [
    {
     "data": {
      "text/plain": [
       "'i have eaten 99 burritos '"
      ]
     },
     "execution_count": 50,
     "metadata": {},
     "output_type": "execute_result"
    }
   ],
   "source": [
    "#Q10. Why does this expression cause an error? How can you fix it?\n",
    "\n",
    "'i have eaten '+'99 '+'burritos '#since interger type cannot be concatenate with string type we have to place 99 in double quotes"
   ]
  },
  {
   "cell_type": "code",
   "execution_count": null,
   "id": "404b819b",
   "metadata": {},
   "outputs": [],
   "source": []
  }
 ],
 "metadata": {
  "kernelspec": {
   "display_name": "Python 3 (ipykernel)",
   "language": "python",
   "name": "python3"
  },
  "language_info": {
   "codemirror_mode": {
    "name": "ipython",
    "version": 3
   },
   "file_extension": ".py",
   "mimetype": "text/x-python",
   "name": "python",
   "nbconvert_exporter": "python",
   "pygments_lexer": "ipython3",
   "version": "3.11.0"
  }
 },
 "nbformat": 4,
 "nbformat_minor": 5
}
