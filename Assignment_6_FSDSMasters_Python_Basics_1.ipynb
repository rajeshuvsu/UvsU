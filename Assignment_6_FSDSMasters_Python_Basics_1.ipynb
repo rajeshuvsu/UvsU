{
 "cells": [
  {
   "cell_type": "markdown",
   "id": "65223389",
   "metadata": {},
   "source": [
    "# Q.1. What are keywords in python? Using the keyword library, print all the python keywords.\n"
   ]
  },
  {
   "cell_type": "code",
   "execution_count": 5,
   "id": "02e240cb",
   "metadata": {},
   "outputs": [
    {
     "name": "stdout",
     "output_type": "stream",
     "text": [
      "['False', 'None', 'True', 'and', 'as', 'assert', 'async', 'await', 'break', 'class', 'continue', 'def', 'del', 'elif', 'else', 'except', 'finally', 'for', 'from', 'global', 'if', 'import', 'in', 'is', 'lambda', 'nonlocal', 'not', 'or', 'pass', 'raise', 'return', 'try', 'while', 'with', 'yield']\n"
     ]
    }
   ],
   "source": [
    "import keyword\n",
    "print(keyword.kwlist)"
   ]
  },
  {
   "cell_type": "markdown",
   "id": "5df51eec",
   "metadata": {},
   "source": [
    "# Q.2. What are the rules to create variables in python?"
   ]
  },
  {
   "cell_type": "code",
   "execution_count": 10,
   "id": "242c5800",
   "metadata": {},
   "outputs": [
    {
     "name": "stdout",
     "output_type": "stream",
     "text": [
      "21\n",
      "21\n",
      "21\n",
      "21\n",
      "21\n"
     ]
    },
    {
     "data": {
      "text/plain": [
       "'\\n\\nStart with a letter or underscore.\\nCan contain letters, numbers, and underscores.\\nPython is case-sensitive.\\nNo spaces in variable names.\\nAvoid using reserved keywords.\\nUse only alphanumeric characters and underscores.\\nCannot start with a number.\\nAvoid using built-in function or module names.\\nChoose meaningful and descriptive names.\\n'"
      ]
     },
     "execution_count": 10,
     "metadata": {},
     "output_type": "execute_result"
    }
   ],
   "source": [
    "#a-z, A-Z, 0-9,_\n",
    "#you can start the variable using _\n",
    "_age = 21\n",
    "print(_age)\n",
    "\n",
    "#you can start the variable using small letter\n",
    "age = 21\n",
    "print(age)\n",
    "\n",
    "##you can start the variable using all capital letter\n",
    "AGE = 21\n",
    "print(AGE)\n",
    "\n",
    "#you can start the variable using capital letter\n",
    "Age = 21\n",
    "print(Age)\n",
    "\n",
    "#you cannot start the variable using number 0-9 but can be used in between\n",
    "_age123 = 21\n",
    "print(_age123)\n",
    "\n",
    "\n",
    "\"\"\"\n",
    "\n",
    "Start with a letter or underscore.\n",
    "Can contain letters, numbers, and underscores.\n",
    "Python is case-sensitive.\n",
    "No spaces in variable names.\n",
    "Avoid using reserved keywords.\n",
    "Use only alphanumeric characters and underscores.\n",
    "Cannot start with a number.\n",
    "Avoid using built-in function or module names.\n",
    "Choose meaningful and descriptive names.\n",
    "\"\"\""
   ]
  },
  {
   "cell_type": "code",
   "execution_count": 9,
   "id": "05d0a8c1",
   "metadata": {},
   "outputs": [
    {
     "ename": "SyntaxError",
     "evalue": "invalid decimal literal (998849465.py, line 2)",
     "output_type": "error",
     "traceback": [
      "\u001b[1;36m  Cell \u001b[1;32mIn[9], line 2\u001b[1;36m\u001b[0m\n\u001b[1;33m    12_age = 21\u001b[0m\n\u001b[1;37m      ^\u001b[0m\n\u001b[1;31mSyntaxError\u001b[0m\u001b[1;31m:\u001b[0m invalid decimal literal\n"
     ]
    }
   ],
   "source": [
    "#you cannot start the variable using number 0-9 or digits\n",
    "12_age = 21\n",
    "print(12_age)"
   ]
  },
  {
   "cell_type": "markdown",
   "id": "fe0e4748",
   "metadata": {},
   "source": [
    "# Q.3. What are the standards and conventions followed for the nomenclature of variables in python to improve code readability and maintainability?"
   ]
  },
  {
   "cell_type": "code",
   "execution_count": 11,
   "id": "b6dbbadd",
   "metadata": {},
   "outputs": [
    {
     "data": {
      "text/plain": [
       "'Use lowercase letters and underscores for variable names (snake_case) to enhance readability.\\n\\nChoose descriptive and meaningful names that reflect the purpose or content of the variable.\\n\\nFollow the PEP 8 style guide for Python code, which provides guidelines on variable naming and other coding conventions.'"
      ]
     },
     "execution_count": 11,
     "metadata": {},
     "output_type": "execute_result"
    }
   ],
   "source": [
    "\"\"\"Use lowercase letters and underscores for variable names (snake_case) to enhance readability.\n",
    "\n",
    "Choose descriptive and meaningful names that reflect the purpose or content of the variable.\n",
    "\n",
    "Follow the PEP 8 style guide for Python code, which provides guidelines on variable naming and other coding conventions.\"\"\""
   ]
  },
  {
   "cell_type": "markdown",
   "id": "3b2baff7",
   "metadata": {},
   "source": [
    "# Q.4. What will happen if a keyword is used as a variable name?\n"
   ]
  },
  {
   "cell_type": "code",
   "execution_count": 19,
   "id": "14350176",
   "metadata": {},
   "outputs": [
    {
     "ename": "SyntaxError",
     "evalue": "invalid syntax (2128919805.py, line 1)",
     "output_type": "error",
     "traceback": [
      "\u001b[1;36m  Cell \u001b[1;32mIn[19], line 1\u001b[1;36m\u001b[0m\n\u001b[1;33m    in = ['apple','mango']\u001b[0m\n\u001b[1;37m    ^\u001b[0m\n\u001b[1;31mSyntaxError\u001b[0m\u001b[1;31m:\u001b[0m invalid syntax\n"
     ]
    }
   ],
   "source": [
    "in = ['apple','mango']\n",
    "\n",
    "#throws or traceback syntax error"
   ]
  },
  {
   "cell_type": "markdown",
   "id": "333efda6",
   "metadata": {},
   "source": [
    "# Q.5. For what purpose def keyword is used?"
   ]
  },
  {
   "cell_type": "code",
   "execution_count": 21,
   "id": "33724e3f",
   "metadata": {},
   "outputs": [
    {
     "data": {
      "text/plain": [
       "'\\ndef keyword used to define the user defined funtion that can be reused \\n'"
      ]
     },
     "execution_count": 21,
     "metadata": {},
     "output_type": "execute_result"
    }
   ],
   "source": [
    "\"\"\"\n",
    "def keyword used to define the user defined funtion that can be reused \n",
    "\"\"\""
   ]
  },
  {
   "cell_type": "markdown",
   "id": "16849acb",
   "metadata": {},
   "source": [
    "# Q.6. What is the operation of this special character ‘\\’?"
   ]
  },
  {
   "cell_type": "code",
   "execution_count": 24,
   "id": "5108cc5f",
   "metadata": {},
   "outputs": [
    {
     "name": "stdout",
     "output_type": "stream",
     "text": [
      "Hello\n",
      "World\n",
      "Hello\tWorld\n",
      "Hello\bWorld\n"
     ]
    }
   ],
   "source": [
    "#Escape Sequences: The backslash is used to represent special characters like newline (\\n), \n",
    "#tab (\\t), backspace (\\b), and others\n",
    "#Example\n",
    "\n",
    "print('Hello\\nWorld')\n",
    "print('Hello\\tWorld')\n",
    "print('Hello\\bWorld')"
   ]
  },
  {
   "cell_type": "markdown",
   "id": "d690ed51",
   "metadata": {},
   "source": [
    "# Q.7. Give an example of the following conditions:"
   ]
  },
  {
   "cell_type": "code",
   "execution_count": 26,
   "id": "b44594c6",
   "metadata": {},
   "outputs": [
    {
     "name": "stdout",
     "output_type": "stream",
     "text": [
      "[1, 2, 3, 4, 5, 6, 7, 8] <class 'list'>\n"
     ]
    }
   ],
   "source": [
    "#(i) Homogeneous list\n",
    "\n",
    "lst1 = [1,2,3,4,5,6,7,8]\n",
    "\n",
    "print(lst1,type(lst1))\n"
   ]
  },
  {
   "cell_type": "code",
   "execution_count": 27,
   "id": "04ef6a2f",
   "metadata": {},
   "outputs": [
    {
     "name": "stdout",
     "output_type": "stream",
     "text": [
      "{1, 2, 3, 4.5, 7.8, 'bob'} <class 'set'>\n"
     ]
    }
   ],
   "source": [
    "#(ii) Heterogeneous set\n",
    "\n",
    "set1 = {1,2,3,4.5,7.8,'bob'}\n",
    "\n",
    "print(set1,type(set1))\n"
   ]
  },
  {
   "cell_type": "code",
   "execution_count": 28,
   "id": "c0a023aa",
   "metadata": {},
   "outputs": [
    {
     "name": "stdout",
     "output_type": "stream",
     "text": [
      "(1, 2, 3, 5, 6, 9, 10) <class 'tuple'>\n"
     ]
    }
   ],
   "source": [
    "#(iii) Homogeneous tuple\n",
    "\n",
    "tup = (1,2,3,5,6,9,10) \n",
    "print(tup,type(tup))"
   ]
  },
  {
   "cell_type": "markdown",
   "id": "ac9d48c3",
   "metadata": {},
   "source": [
    "# Q.8. Explain the mutable and immutable data types with proper explanation & examples"
   ]
  },
  {
   "cell_type": "code",
   "execution_count": 30,
   "id": "d7ef7224",
   "metadata": {},
   "outputs": [
    {
     "name": "stdout",
     "output_type": "stream",
     "text": [
      "{'rollno': 893, 'name': 'tom', 'percentage': 93, (1, 2): [4, 5, 6]}\n",
      "{'rollno': 893, 'name': 'rabi', 'percentage': 93, (1, 2): [4, 5, 6]}\n"
     ]
    },
    {
     "data": {
      "text/plain": [
       "dict"
      ]
     },
     "execution_count": 30,
     "metadata": {},
     "output_type": "execute_result"
    }
   ],
   "source": [
    "#dictonary is mutable and heterogeneous\n",
    "person = {'rollno': 893,'name':'tom','percentage':93,(1,2):[4,5,6]}\n",
    "print(person)\n",
    "person['name'] = 'rabi'\n",
    "print(person)\n",
    "type(person)\n",
    "\n",
    "\"\"\"Mutable objects can be modified after they are created. They allow changes to their internal state or \n",
    "elements without creating a new object.Examples of mutable data types in Python include lists, dictionaries, and sets.\n",
    "Here's an example demonstrating mutability\"\"\""
   ]
  },
  {
   "cell_type": "code",
   "execution_count": 31,
   "id": "b9f5b397",
   "metadata": {},
   "outputs": [
    {
     "ename": "TypeError",
     "evalue": "'tuple' object does not support item assignment",
     "output_type": "error",
     "traceback": [
      "\u001b[1;31m---------------------------------------------------------------------------\u001b[0m",
      "\u001b[1;31mTypeError\u001b[0m                                 Traceback (most recent call last)",
      "Cell \u001b[1;32mIn[31], line 5\u001b[0m\n\u001b[0;32m      3\u001b[0m fruits \u001b[38;5;241m=\u001b[39m (\u001b[38;5;124m'\u001b[39m\u001b[38;5;124mbanana\u001b[39m\u001b[38;5;124m'\u001b[39m,\u001b[38;5;124m'\u001b[39m\u001b[38;5;124mgrapes\u001b[39m\u001b[38;5;124m'\u001b[39m,\u001b[38;5;124m'\u001b[39m\u001b[38;5;124mapples\u001b[39m\u001b[38;5;124m'\u001b[39m)\n\u001b[0;32m      4\u001b[0m \u001b[38;5;66;03m#tuples are immutable and hetrogenous\u001b[39;00m\n\u001b[1;32m----> 5\u001b[0m \u001b[43mfruits\u001b[49m\u001b[43m[\u001b[49m\u001b[38;5;241;43m1\u001b[39;49m\u001b[43m]\u001b[49m \u001b[38;5;241m=\u001b[39m \u001b[38;5;124m'\u001b[39m\u001b[38;5;124mmango\u001b[39m\u001b[38;5;124m'\u001b[39m\n\u001b[0;32m      6\u001b[0m \u001b[38;5;28mprint\u001b[39m(fruits)\n\u001b[0;32m      7\u001b[0m \u001b[38;5;28mprint\u001b[39m(\u001b[38;5;28mtype\u001b[39m(fruits))\n",
      "\u001b[1;31mTypeError\u001b[0m: 'tuple' object does not support item assignment"
     ]
    }
   ],
   "source": [
    "#Tuple\n",
    "\n",
    "fruits = ('banana','grapes','apples')\n",
    "#tuples are immutable and hetrogenous\n",
    "fruits[1] = 'mango'\n",
    "print(fruits)\n",
    "print(type(fruits))\n",
    "\n",
    "\"\"\"Immutable objects cannot be modified once they are created. Any attempt to change their value will result \n",
    "in creating a new object.Examples of immutable data types in Python include integers, floats, booleans, \n",
    "strings, and tuples.Here's an example illustrating immutability\"\"\""
   ]
  },
  {
   "cell_type": "markdown",
   "id": "a88e58d8",
   "metadata": {},
   "source": [
    "# Q.9. Write a code to create the given structure using only for loop.\n",
    " \n"
   ]
  },
  {
   "cell_type": "code",
   "execution_count": 37,
   "id": "360c4025",
   "metadata": {},
   "outputs": [
    {
     "name": "stdout",
     "output_type": "stream",
     "text": [
      "* \n",
      "* * \n",
      "* * * \n",
      "* * * * \n",
      "* * * * * \n"
     ]
    }
   ],
   "source": [
    "\"\"\"    \n",
    "    *\n",
    "   ***\n",
    "  *****\n",
    " *******\n",
    "*********\n",
    "\n",
    "\"\"\"\n",
    "\n",
    "rows = 5\n",
    "\n",
    "for i in range(rows):\n",
    "    for j in range(i + 1):\n",
    "        print(\"*\",end = ' ')\n",
    "    print( )\n",
    "        \n",
    "\n",
    "\n"
   ]
  },
  {
   "cell_type": "markdown",
   "id": "c78903d2",
   "metadata": {},
   "source": [
    "# Q.10. Write a code to create the given structure using while loop"
   ]
  },
  {
   "cell_type": "code",
   "execution_count": 48,
   "id": "fe66bbf3",
   "metadata": {},
   "outputs": [
    {
     "name": "stdout",
     "output_type": "stream",
     "text": [
      "|||||||||\n",
      "|||||||\n",
      "|||||\n",
      "|||\n",
      "|\n"
     ]
    }
   ],
   "source": [
    "\"\"\"\n",
    "|||||||||\n",
    "|||||||\n",
    "|||||\n",
    "|||\n",
    "|\n",
    "\"\"\"\n",
    "\n",
    "rows = 5\n",
    "\n",
    "n = rows\n",
    "\n",
    "while n >= 1:\n",
    "    print('|' * ((2*n)-1))\n",
    "    n -= 1\n",
    "    "
   ]
  },
  {
   "cell_type": "code",
   "execution_count": null,
   "id": "ea36a3e7",
   "metadata": {},
   "outputs": [],
   "source": []
  }
 ],
 "metadata": {
  "kernelspec": {
   "display_name": "Python 3 (ipykernel)",
   "language": "python",
   "name": "python3"
  },
  "language_info": {
   "codemirror_mode": {
    "name": "ipython",
    "version": 3
   },
   "file_extension": ".py",
   "mimetype": "text/x-python",
   "name": "python",
   "nbconvert_exporter": "python",
   "pygments_lexer": "ipython3",
   "version": "3.11.0"
  }
 },
 "nbformat": 4,
 "nbformat_minor": 5
}
