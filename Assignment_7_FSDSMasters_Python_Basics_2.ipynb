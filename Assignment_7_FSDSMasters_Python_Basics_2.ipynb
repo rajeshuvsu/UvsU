{
 "cells": [
  {
   "cell_type": "markdown",
   "id": "8e5dd7dc",
   "metadata": {},
   "source": [
    "# Q.1. Create two int type variables, apply addition, subtraction, division and multiplications and store the results in variables. Then print the data in the following format by calling the variables:\n"
   ]
  },
  {
   "cell_type": "code",
   "execution_count": 4,
   "id": "a7cf205a",
   "metadata": {},
   "outputs": [
    {
     "name": "stdout",
     "output_type": "stream",
     "text": [
      "Enter the Number1:25\n",
      "Enter the Number2:36\n",
      "First variable is 25 & second variable is 36\n",
      "Addition: 25 + 36 is: 61\n",
      "Substartion: 25 - 36 is: -11\n",
      "Multiplication: 25 * 36 is: 900\n",
      "Division: 25 / 36 is: 0.6944444444444444\n"
     ]
    }
   ],
   "source": [
    "\"\"\"\n",
    "First variable is __ & second variable is __.\n",
    "Addition: __ + __ = __\n",
    "Subtraction: __ - __ = __\n",
    "Multiplication: __ * __ = __\n",
    "Division: __ / __ = __\n",
    "\"\"\"\n",
    "num1 = int(input(\"Enter the Number1:\"))\n",
    "num2 = int(input(\"Enter the Number2:\"))\n",
    "\n",
    "print(f\"First variable is {num1} & second variable is {num2}\")\n",
    "\n",
    "print(f\"Addition: {num1} + {num2} is:\",num1  + num2)\n",
    "print(f\"Substartion: {num1} - {num2} is:\",num1  - num2)\n",
    "print(f\"Multiplication: {num1} * {num2} is:\",num1  * num2)\n",
    "print(f\"Division: {num1} / {num2} is:\",num1  / num2)"
   ]
  },
  {
   "cell_type": "markdown",
   "id": "924b9b6c",
   "metadata": {},
   "source": [
    "# Q.2. What is the difference between the following operators:"
   ]
  },
  {
   "cell_type": "code",
   "execution_count": 7,
   "id": "39157e8f",
   "metadata": {},
   "outputs": [
    {
     "name": "stdout",
     "output_type": "stream",
     "text": [
      "Enter the number:\n",
      "5\n",
      "Enter the number:\n",
      "2\n",
      "multiplication 10\n",
      "power function 25\n",
      "division 2.5\n",
      "this operater gives nearest Floor/integer division operator 2\n"
     ]
    }
   ],
   "source": [
    "\"\"\"\n",
    "(i) ‘/’ & ‘//’\n",
    "(ii) ‘**’ & ‘^’\n",
    "\"\"\"\n",
    "\n",
    "a = int(input('Enter the number:\\n'))\n",
    "\n",
    " \n",
    "b = int(input('Enter the number:\\n'))\n",
    "\n",
    "\n",
    "print('multiplication',a*b) \n",
    "print('power function',a**b)\n",
    "\n",
    "print('division',a/b) # This gives the float value \n",
    "print('this operater gives nearest Floor/integer division operator',a//b) \n",
    "# this operater gives nearest Floor/integer division operator\n"
   ]
  },
  {
   "cell_type": "markdown",
   "id": "d80a2e2d",
   "metadata": {},
   "source": [
    "# Q.3. List the logical operators.\n"
   ]
  },
  {
   "cell_type": "code",
   "execution_count": 8,
   "id": "5fe81887",
   "metadata": {},
   "outputs": [
    {
     "name": "stdout",
     "output_type": "stream",
     "text": [
      "False \n",
      "\n",
      "True \n",
      "\n",
      "False \n",
      "\n",
      "True \n",
      "\n"
     ]
    }
   ],
   "source": [
    "\"\"\"\n",
    "'and' operator returns True if both operands are True, and False otherwise.\n",
    "\n",
    "'or' The or operator returns True if at least one of the operands is True, and False if both operands are False.\n",
    "\n",
    "'not' The not operator is a unary operator that returns the opposite boolean value of its operand. \n",
    "It negates the value, so True becomes False and False becomes True.\n",
    "\n",
    "#we have to apply for a job : two candidates are there : (1) more than 60% marks (2) you should be from cs, it\n",
    "#|------------------AND---------------------------------|\n",
    "# tom he has 75% marks and he is from arts = tom will go out \n",
    "# alice she has 61% marks and she is from cs = alce go and give interview\n",
    "\n",
    "#we have to apply for a job : two candidates are there : (1) more than 60% marks (2) you should be from cs, it\n",
    "#|------------------OR---------------------------------|\n",
    "# tom he has 75% marks and he is from arts \n",
    "# alice she has 61% marks and she is from cs\n",
    "#both tom and alice can attend the interview\n",
    "\n",
    "#|------------------NOT---------------------------------|\n",
    "#opposite to what you have\n",
    "\n",
    "\"\"\"\n",
    "\n",
    "a = True\n",
    "b = False\n",
    "\n",
    "print( a and b,'\\n')\n",
    "\n",
    "print(a or b,'\\n')\n",
    "\n",
    "print(not a and b,'\\n')\n",
    "\n",
    "print(a and not b,'\\n')"
   ]
  },
  {
   "cell_type": "markdown",
   "id": "54b96ae1",
   "metadata": {},
   "source": [
    "# Q.4. Explain right shift operator and left shift operator with examples.\n"
   ]
  },
  {
   "cell_type": "code",
   "execution_count": 9,
   "id": "93f17a90",
   "metadata": {},
   "outputs": [
    {
     "name": "stdout",
     "output_type": "stream",
     "text": [
      "2\n",
      "40\n"
     ]
    }
   ],
   "source": [
    "\"\"\"In Python, the right shift (>>) and left shift (<<) operators are bitwise shift operators that perform \n",
    "shifting of bits in integer values.\n",
    "\n",
    "The right shift (>>) operator shifts the bits of a number to the right by a specified number of positions. \n",
    "It effectively divides the number by 2 raised to the power of the shift amount\n",
    "\"\"\"\n",
    "#Example\n",
    "\n",
    "#Right shift \n",
    "\n",
    "a = 10  #1010\n",
    "result = a >> 2\n",
    "#2 0010\n",
    "print(result)\n",
    "\n",
    "#Left Shift\n",
    "\n",
    "result = a << 2 #10 --- 1010   40-- 101000\n",
    "print(result)"
   ]
  },
  {
   "cell_type": "markdown",
   "id": "02543777",
   "metadata": {},
   "source": [
    "# Q.5. Create a list containing int type data of length 15. Then write a code to check if 10 is present in the list or not."
   ]
  },
  {
   "cell_type": "code",
   "execution_count": 17,
   "id": "9945abde",
   "metadata": {},
   "outputs": [
    {
     "name": "stdout",
     "output_type": "stream",
     "text": [
      "10 doesn't exist in the lsit\n"
     ]
    }
   ],
   "source": [
    "list15 = [1,2,3,5,6,7,8,9,12,36,10,13,79,20,88]\n",
    "if list15 == 10:\n",
    "    print(f\"10 is present in the list\")\n",
    "else:\n",
    "    print(f\"10 doesn't exist in the lsit\" )"
   ]
  },
  {
   "cell_type": "code",
   "execution_count": null,
   "id": "cff9308f",
   "metadata": {},
   "outputs": [],
   "source": []
  }
 ],
 "metadata": {
  "kernelspec": {
   "display_name": "Python 3 (ipykernel)",
   "language": "python",
   "name": "python3"
  },
  "language_info": {
   "codemirror_mode": {
    "name": "ipython",
    "version": 3
   },
   "file_extension": ".py",
   "mimetype": "text/x-python",
   "name": "python",
   "nbconvert_exporter": "python",
   "pygments_lexer": "ipython3",
   "version": "3.11.0"
  }
 },
 "nbformat": 4,
 "nbformat_minor": 5
}
